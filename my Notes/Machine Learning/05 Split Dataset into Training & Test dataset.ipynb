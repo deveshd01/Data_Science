{
 "cells": [
  {
   "cell_type": "markdown",
   "id": "f80b9e13",
   "metadata": {},
   "source": [
    "# Split Dataset into Training & Test dataset"
   ]
  },
  {
   "cell_type": "code",
   "execution_count": 5,
   "id": "279e9821",
   "metadata": {},
   "outputs": [],
   "source": [
    "import pandas as pd\n",
    "import numpy as np\n",
    "from sklearn.model_selection import train_test_split\n",
    "from sklearn.linear_model import LinearRegression\n",
    "model = LinearRegression()"
   ]
  },
  {
   "cell_type": "code",
   "execution_count": 6,
   "id": "73ee6348",
   "metadata": {},
   "outputs": [
    {
     "data": {
      "text/html": [
       "<div>\n",
       "<style scoped>\n",
       "    .dataframe tbody tr th:only-of-type {\n",
       "        vertical-align: middle;\n",
       "    }\n",
       "\n",
       "    .dataframe tbody tr th {\n",
       "        vertical-align: top;\n",
       "    }\n",
       "\n",
       "    .dataframe thead th {\n",
       "        text-align: right;\n",
       "    }\n",
       "</style>\n",
       "<table border=\"1\" class=\"dataframe\">\n",
       "  <thead>\n",
       "    <tr style=\"text-align: right;\">\n",
       "      <th></th>\n",
       "      <th>area</th>\n",
       "      <th>price</th>\n",
       "    </tr>\n",
       "  </thead>\n",
       "  <tbody>\n",
       "    <tr>\n",
       "      <th>0</th>\n",
       "      <td>2600</td>\n",
       "      <td>550000</td>\n",
       "    </tr>\n",
       "    <tr>\n",
       "      <th>1</th>\n",
       "      <td>3000</td>\n",
       "      <td>778000</td>\n",
       "    </tr>\n",
       "    <tr>\n",
       "      <th>2</th>\n",
       "      <td>3200</td>\n",
       "      <td>610000</td>\n",
       "    </tr>\n",
       "    <tr>\n",
       "      <th>3</th>\n",
       "      <td>3400</td>\n",
       "      <td>720000</td>\n",
       "    </tr>\n",
       "    <tr>\n",
       "      <th>4</th>\n",
       "      <td>3600</td>\n",
       "      <td>725000</td>\n",
       "    </tr>\n",
       "    <tr>\n",
       "      <th>5</th>\n",
       "      <td>4000</td>\n",
       "      <td>550000</td>\n",
       "    </tr>\n",
       "    <tr>\n",
       "      <th>6</th>\n",
       "      <td>2600</td>\n",
       "      <td>565000</td>\n",
       "    </tr>\n",
       "    <tr>\n",
       "      <th>7</th>\n",
       "      <td>3000</td>\n",
       "      <td>610000</td>\n",
       "    </tr>\n",
       "    <tr>\n",
       "      <th>8</th>\n",
       "      <td>3400</td>\n",
       "      <td>720000</td>\n",
       "    </tr>\n",
       "    <tr>\n",
       "      <th>9</th>\n",
       "      <td>3200</td>\n",
       "      <td>660000</td>\n",
       "    </tr>\n",
       "    <tr>\n",
       "      <th>10</th>\n",
       "      <td>3600</td>\n",
       "      <td>725000</td>\n",
       "    </tr>\n",
       "    <tr>\n",
       "      <th>11</th>\n",
       "      <td>4000</td>\n",
       "      <td>700000</td>\n",
       "    </tr>\n",
       "  </tbody>\n",
       "</table>\n",
       "</div>"
      ],
      "text/plain": [
       "    area   price\n",
       "0   2600  550000\n",
       "1   3000  778000\n",
       "2   3200  610000\n",
       "3   3400  720000\n",
       "4   3600  725000\n",
       "5   4000  550000\n",
       "6   2600  565000\n",
       "7   3000  610000\n",
       "8   3400  720000\n",
       "9   3200  660000\n",
       "10  3600  725000\n",
       "11  4000  700000"
      ]
     },
     "execution_count": 6,
     "metadata": {},
     "output_type": "execute_result"
    }
   ],
   "source": [
    "df = pd.DataFrame({\n",
    "    'area' : [  2600 ,  3000  ,  3200  ,  3400  ,  3600 ,  4000 ,  2600 ,  3000 ,   3400  ,   3200  ,   3600  ,   4000  ],\n",
    "    'price': [ 550000, 778000 , 610000 , 720000 , 725000, 550000, 565000, 610000,  720000 ,  660000 ,  725000 ,   700000]\n",
    "})\n",
    "df"
   ]
  },
  {
   "cell_type": "code",
   "execution_count": 7,
   "id": "f0d12b50",
   "metadata": {},
   "outputs": [],
   "source": [
    "x = np.array(df.area).reshape(-1,1)            # *******************************************\n",
    "y = df.price"
   ]
  },
  {
   "cell_type": "code",
   "execution_count": 8,
   "id": "847b91b2",
   "metadata": {},
   "outputs": [
    {
     "data": {
      "text/plain": [
       "array([[2600],\n",
       "       [3000],\n",
       "       [3200],\n",
       "       [3400],\n",
       "       [3600],\n",
       "       [4000],\n",
       "       [2600],\n",
       "       [3000],\n",
       "       [3400],\n",
       "       [3200],\n",
       "       [3600],\n",
       "       [4000]], dtype=int64)"
      ]
     },
     "execution_count": 8,
     "metadata": {},
     "output_type": "execute_result"
    }
   ],
   "source": [
    "x"
   ]
  },
  {
   "cell_type": "code",
   "execution_count": 9,
   "id": "87d8a5fd",
   "metadata": {},
   "outputs": [
    {
     "data": {
      "text/plain": [
       "0     550000\n",
       "1     778000\n",
       "2     610000\n",
       "3     720000\n",
       "4     725000\n",
       "5     550000\n",
       "6     565000\n",
       "7     610000\n",
       "8     720000\n",
       "9     660000\n",
       "10    725000\n",
       "11    700000\n",
       "Name: price, dtype: int64"
      ]
     },
     "execution_count": 9,
     "metadata": {},
     "output_type": "execute_result"
    }
   ],
   "source": [
    "y"
   ]
  },
  {
   "cell_type": "code",
   "execution_count": 10,
   "id": "bfdd2559",
   "metadata": {},
   "outputs": [],
   "source": [
    "x_train, x_test, y_train, y_test = train_test_split(x, y, test_size=0.2) \n",
    "# 20% is for test data  # we get 4 parameter in return  # on every reRun it choose random samples \n",
    "# use   random_state=10   as attribute to produce always same set of data"
   ]
  },
  {
   "cell_type": "code",
   "execution_count": 11,
   "id": "34676960",
   "metadata": {},
   "outputs": [
    {
     "data": {
      "text/plain": [
       "array([[3400],\n",
       "       [3200],\n",
       "       [3400],\n",
       "       [2600],\n",
       "       [4000],\n",
       "       [3600],\n",
       "       [3200],\n",
       "       [3000],\n",
       "       [3600]], dtype=int64)"
      ]
     },
     "execution_count": 11,
     "metadata": {},
     "output_type": "execute_result"
    }
   ],
   "source": [
    "x_train "
   ]
  },
  {
   "cell_type": "code",
   "execution_count": 12,
   "id": "974c3bba",
   "metadata": {},
   "outputs": [
    {
     "data": {
      "text/plain": [
       "3     720000\n",
       "2     610000\n",
       "8     720000\n",
       "6     565000\n",
       "5     550000\n",
       "4     725000\n",
       "9     660000\n",
       "1     778000\n",
       "10    725000\n",
       "Name: price, dtype: int64"
      ]
     },
     "execution_count": 12,
     "metadata": {},
     "output_type": "execute_result"
    }
   ],
   "source": [
    "y_train"
   ]
  },
  {
   "cell_type": "code",
   "execution_count": 13,
   "id": "4173016c",
   "metadata": {},
   "outputs": [
    {
     "data": {
      "text/plain": [
       "array([[3000],\n",
       "       [2600],\n",
       "       [4000]], dtype=int64)"
      ]
     },
     "execution_count": 13,
     "metadata": {},
     "output_type": "execute_result"
    }
   ],
   "source": [
    "x_test"
   ]
  },
  {
   "cell_type": "code",
   "execution_count": 14,
   "id": "3b9f4b4b",
   "metadata": {},
   "outputs": [
    {
     "data": {
      "text/plain": [
       "7     610000\n",
       "0     550000\n",
       "11    700000\n",
       "Name: price, dtype: int64"
      ]
     },
     "execution_count": 14,
     "metadata": {},
     "output_type": "execute_result"
    }
   ],
   "source": [
    "y_test"
   ]
  },
  {
   "cell_type": "code",
   "execution_count": 15,
   "id": "fa02b6cb",
   "metadata": {},
   "outputs": [
    {
     "data": {
      "text/plain": [
       "LinearRegression()"
      ]
     },
     "execution_count": 15,
     "metadata": {},
     "output_type": "execute_result"
    }
   ],
   "source": [
    "model.fit(x_train, y_train)"
   ]
  },
  {
   "cell_type": "code",
   "execution_count": 16,
   "id": "908876f6",
   "metadata": {},
   "outputs": [
    {
     "data": {
      "text/plain": [
       "array([670906.25      , 668927.08333333, 675854.16666667])"
      ]
     },
     "execution_count": 16,
     "metadata": {},
     "output_type": "execute_result"
    }
   ],
   "source": [
    "model.predict(x_test)"
   ]
  },
  {
   "cell_type": "code",
   "execution_count": 17,
   "id": "fb1aa61f",
   "metadata": {},
   "outputs": [
    {
     "data": {
      "text/plain": [
       "-0.6172143602278277"
      ]
     },
     "execution_count": 17,
     "metadata": {},
     "output_type": "execute_result"
    }
   ],
   "source": [
    "model.score(x_test, y_test)           # accuracy is 25%"
   ]
  }
 ],
 "metadata": {
  "kernelspec": {
   "display_name": "Python 3",
   "language": "python",
   "name": "python3"
  },
  "language_info": {
   "codemirror_mode": {
    "name": "ipython",
    "version": 3
   },
   "file_extension": ".py",
   "mimetype": "text/x-python",
   "name": "python",
   "nbconvert_exporter": "python",
   "pygments_lexer": "ipython3",
   "version": "3.8.8"
  }
 },
 "nbformat": 4,
 "nbformat_minor": 5
}
