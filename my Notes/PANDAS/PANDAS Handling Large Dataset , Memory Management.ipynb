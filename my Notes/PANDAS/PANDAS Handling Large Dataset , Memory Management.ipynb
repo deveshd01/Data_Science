{
 "cells": [
  {
   "cell_type": "markdown",
   "metadata": {},
   "source": [
    "https://pythonspeed.com/articles/pandas-load-less-data/"
   ]
  },
  {
   "cell_type": "markdown",
   "metadata": {},
   "source": [
    "# Don’t load all the columns"
   ]
  },
  {
   "cell_type": "code",
   "execution_count": null,
   "metadata": {},
   "outputs": [],
   "source": [
    "import pandas as pd\n",
    "df = pd.read_csv(\"voters.csv\")\n",
    "df.info(verbose=False, memory_usage=\"deep\")         # memory usage: 71.2 MB\n",
    "\n",
    "\n",
    "df = df[[\"First Name \", \"Last Name \"]]\n",
    "df.info(verbose=False, memory_usage=\"deep\")         # memory usage: 8.3 MB"
   ]
  },
  {
   "cell_type": "code",
   "execution_count": null,
   "metadata": {},
   "outputs": [],
   "source": [
    "df = pd.read_csv(\"voters.csv\", usecols=[\"First Name \", \"Last Name \"])\n",
    "df.info(verbose=False, memory_usage=\"deep\")         # memory usage: 8.3 MB"
   ]
  },
  {
   "cell_type": "markdown",
   "metadata": {},
   "source": [
    "# Shrink numerical columns with smaller dtypes"
   ]
  },
  {
   "cell_type": "markdown",
   "metadata": {},
   "source": [
    "int8 can store integers from -128 to 127.<br>\n",
    "int16 can store integers from -32768 to 32767.<br>\n",
    "int64 can store integers from -9223372036854775808 to 9223372036854775807."
   ]
  },
  {
   "cell_type": "code",
   "execution_count": null,
   "metadata": {},
   "outputs": [],
   "source": [
    "df = pd.read_csv(\"voters.csv\")\n",
    "df[\"Ward Number \"].memory_usage(index=False, deep=True)\n",
    "550688                               # current memory usege is this\n",
    "\n",
    "df[\"Ward Number \"].max()\n",
    "11\n",
    "df[\"Ward Number \"].min()\n",
    "1\n",
    "\n",
    "df = pd.read_csv(\"voters.csv\", dtype={\"Ward Number \": \"int8\"})    # converted into int8\n",
    "df[\"Ward Number \"].memory_usage(index=False, deep=True)\n",
    "68836"
   ]
  },
  {
   "cell_type": "markdown",
   "metadata": {},
   "source": [
    "# Shrink categorical data using Categorical dtypes"
   ]
  },
  {
   "cell_type": "markdown",
   "metadata": {},
   "source": [
    "some times our column have some specifc entries  (like gender column)"
   ]
  },
  {
   "cell_type": "code",
   "execution_count": null,
   "metadata": {},
   "outputs": [],
   "source": [
    "# all fields are char but but each of them is taking size of string\n",
    "\n",
    "set(df[\"Party Affiliation \"])\n",
    "{'Q ', 'S ', 'L ', 'R ', 'H ', 'BB', 'D ', 'K ', 'O ', 'X ', 'A ', 'Z ', 'EE', 'F ', 'P ', 'G ', 'T ', 'CC', 'J ', 'AA', 'Y ', 'U '}\n",
    "\n",
    "\n",
    "df[\"Party Affiliation \"].memory_usage(index=False, deep=True)\n",
    "4061324"
   ]
  },
  {
   "cell_type": "code",
   "execution_count": null,
   "metadata": {},
   "outputs": [],
   "source": [
    "df = pd.read_csv(\"voters.csv\", dtype={\"Party Affiliation \": \"category\"})\n",
    "df[\"Party Affiliation \"].head()\n",
    "0    U \n",
    "1    U \n",
    "2    U \n",
    "3    R \n",
    "4    U \n",
    "Name: Party Affiliation , dtype: category\n",
    "Categories (22, object): [A, AA, CC, D, ..., Y, Z, BB, EE]\n",
    "\n",
    "    \n",
    "df[\"Party Affiliation \"].memory_usage(index=False, deep=True)\n",
    "70774"
   ]
  },
  {
   "cell_type": "markdown",
   "metadata": {},
   "source": [
    "https://pandas.pydata.org/pandas-docs/stable/user_guide/categorical.html"
   ]
  },
  {
   "cell_type": "markdown",
   "metadata": {},
   "source": [
    "# Sparse series"
   ]
  },
  {
   "cell_type": "markdown",
   "metadata": {},
   "source": [
    "If you have a column with lots of empty values, usually represented as NaNs, you can save memory by using a sparse column representation. It won’t waste memory storing all those empty values."
   ]
  },
  {
   "cell_type": "code",
   "execution_count": null,
   "metadata": {},
   "outputs": [],
   "source": [
    "df = pd.read_csv(\"voters.csv\")\n",
    "series = df[\"Mailing Address - Apartment Number \"]\n",
    "series.memory_usage(index=False, deep=True)\n",
    "2623975\n",
    "\n",
    "len(series)\n",
    "68836\n",
    "\n",
    "len(series.dropna())\n",
    "13721"
   ]
  },
  {
   "cell_type": "code",
   "execution_count": null,
   "metadata": {},
   "outputs": [],
   "source": [
    "sparse_series = series.astype(\"Sparse[str]\")\n",
    "len(sparse_series)\n",
    "68836\n",
    "\n",
    "sparse_series.memory_usage(index=False, deep=True)\n",
    "2237939"
   ]
  },
  {
   "cell_type": "markdown",
   "metadata": {},
   "source": [
    "# IF READY TO LOOSE SOME DATA"
   ]
  },
  {
   "cell_type": "markdown",
   "metadata": {},
   "source": [
    "## Changing numeric representations"
   ]
  },
  {
   "cell_type": "markdown",
   "metadata": {},
   "source": [
    "we can change data type from      \"flote64\" to to \"float32\" "
   ]
  },
  {
   "cell_type": "code",
   "execution_count": null,
   "metadata": {},
   "outputs": [],
   "source": [
    "data = [0.40, 0.56, 0.30, 0.85, 0.71, 0.89, 0.30, 0.24]\n",
    "# we can save this data in percent format like this \n",
    "       [ 40 ,  56 ,  30 ,  85 ,  71 ,  89 ,  30 ,  24 ]"
   ]
  },
  {
   "cell_type": "markdown",
   "metadata": {},
   "source": [
    "if we wand to use part of file to use, load that part only"
   ]
  },
  {
   "cell_type": "markdown",
   "metadata": {},
   "source": [
    "<br>\n",
    "use different functions to load different part of data so that after end of that function there variabls get destroid"
   ]
  }
 ],
 "metadata": {
  "kernelspec": {
   "display_name": "Python 3",
   "language": "python",
   "name": "python3"
  },
  "language_info": {
   "codemirror_mode": {
    "name": "ipython",
    "version": 3
   },
   "file_extension": ".py",
   "mimetype": "text/x-python",
   "name": "python",
   "nbconvert_exporter": "python",
   "pygments_lexer": "ipython3",
   "version": "3.8.8"
  }
 },
 "nbformat": 4,
 "nbformat_minor": 4
}
