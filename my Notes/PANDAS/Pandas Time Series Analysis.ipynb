{
 "cells": [
  {
   "cell_type": "markdown",
   "metadata": {},
   "source": [
    "**Advantages of Date as index**<br>"
   ]
  },
  {
   "cell_type": "code",
   "execution_count": 1,
   "metadata": {},
   "outputs": [],
   "source": [
    "import pandas as pd"
   ]
  },
  {
   "cell_type": "code",
   "execution_count": 179,
   "metadata": {
    "scrolled": true
   },
   "outputs": [
    {
     "data": {
      "text/html": [
       "<div>\n",
       "<style scoped>\n",
       "    .dataframe tbody tr th:only-of-type {\n",
       "        vertical-align: middle;\n",
       "    }\n",
       "\n",
       "    .dataframe tbody tr th {\n",
       "        vertical-align: top;\n",
       "    }\n",
       "\n",
       "    .dataframe thead th {\n",
       "        text-align: right;\n",
       "    }\n",
       "</style>\n",
       "<table border=\"1\" class=\"dataframe\">\n",
       "  <thead>\n",
       "    <tr style=\"text-align: right;\">\n",
       "      <th></th>\n",
       "      <th>Close/Last</th>\n",
       "      <th>Volume</th>\n",
       "      <th>Open</th>\n",
       "      <th>High</th>\n",
       "      <th>Low</th>\n",
       "    </tr>\n",
       "    <tr>\n",
       "      <th>Date</th>\n",
       "      <th></th>\n",
       "      <th></th>\n",
       "      <th></th>\n",
       "      <th></th>\n",
       "      <th></th>\n",
       "    </tr>\n",
       "  </thead>\n",
       "  <tbody>\n",
       "    <tr>\n",
       "      <th>2021-03-09</th>\n",
       "      <td>154.30</td>\n",
       "      <td>57866070</td>\n",
       "      <td>153.76</td>\n",
       "      <td>154.63</td>\n",
       "      <td>153.09</td>\n",
       "    </tr>\n",
       "    <tr>\n",
       "      <th>2021-02-09</th>\n",
       "      <td>153.65</td>\n",
       "      <td>71171320</td>\n",
       "      <td>153.87</td>\n",
       "      <td>154.72</td>\n",
       "      <td>152.40</td>\n",
       "    </tr>\n",
       "    <tr>\n",
       "      <th>2021-01-09</th>\n",
       "      <td>152.51</td>\n",
       "      <td>80313710</td>\n",
       "      <td>152.83</td>\n",
       "      <td>154.98</td>\n",
       "      <td>152.34</td>\n",
       "    </tr>\n",
       "    <tr>\n",
       "      <th>2021-08-31</th>\n",
       "      <td>151.83</td>\n",
       "      <td>86453120</td>\n",
       "      <td>152.66</td>\n",
       "      <td>152.80</td>\n",
       "      <td>151.29</td>\n",
       "    </tr>\n",
       "    <tr>\n",
       "      <th>2021-08-30</th>\n",
       "      <td>153.12</td>\n",
       "      <td>90956720</td>\n",
       "      <td>149.00</td>\n",
       "      <td>153.49</td>\n",
       "      <td>148.61</td>\n",
       "    </tr>\n",
       "  </tbody>\n",
       "</table>\n",
       "</div>"
      ],
      "text/plain": [
       "            Close/Last    Volume    Open    High     Low\n",
       "Date                                                    \n",
       "2021-03-09      154.30  57866070  153.76  154.63  153.09\n",
       "2021-02-09      153.65  71171320  153.87  154.72  152.40\n",
       "2021-01-09      152.51  80313710  152.83  154.98  152.34\n",
       "2021-08-31      151.83  86453120  152.66  152.80  151.29\n",
       "2021-08-30      153.12  90956720  149.00  153.49  148.61"
      ]
     },
     "execution_count": 179,
     "metadata": {},
     "output_type": "execute_result"
    }
   ],
   "source": [
    "df=pd.read_csv(\"price.csv\", parse_dates=['Date'], index_col=['Date'])  # changing type of Date to time_Stamp # set in dex to Date\n",
    "df.head()"
   ]
  },
  {
   "cell_type": "code",
   "execution_count": 133,
   "metadata": {},
   "outputs": [],
   "source": [
    "df=df.sort_index()           # if assertion error occurs   SORT INDEX"
   ]
  },
  {
   "cell_type": "code",
   "execution_count": 134,
   "metadata": {
    "scrolled": true
   },
   "outputs": [
    {
     "data": {
      "text/plain": [
       "DatetimeIndex(['2020-01-10', '2020-01-12', '2020-02-10', '2020-02-11',\n",
       "               '2020-02-12', '2020-03-11', '2020-03-12', '2020-04-09',\n",
       "               '2020-04-11', '2020-04-12',\n",
       "               ...\n",
       "               '2021-11-05', '2021-11-06', '2021-11-08', '2021-12-01',\n",
       "               '2021-12-02', '2021-12-03', '2021-12-04', '2021-12-05',\n",
       "               '2021-12-07', '2021-12-08'],\n",
       "              dtype='datetime64[ns]', name='Date', length=252, freq=None)"
      ]
     },
     "execution_count": 134,
     "metadata": {},
     "output_type": "execute_result"
    }
   ],
   "source": [
    "df.index"
   ]
  },
  {
   "cell_type": "code",
   "execution_count": null,
   "metadata": {},
   "outputs": [],
   "source": [
    "df['2021-08-31']                      # to print perticular day"
   ]
  },
  {
   "cell_type": "code",
   "execution_count": 119,
   "metadata": {},
   "outputs": [
    {
     "data": {
      "text/html": [
       "<div>\n",
       "<style scoped>\n",
       "    .dataframe tbody tr th:only-of-type {\n",
       "        vertical-align: middle;\n",
       "    }\n",
       "\n",
       "    .dataframe tbody tr th {\n",
       "        vertical-align: top;\n",
       "    }\n",
       "\n",
       "    .dataframe thead th {\n",
       "        text-align: right;\n",
       "    }\n",
       "</style>\n",
       "<table border=\"1\" class=\"dataframe\">\n",
       "  <thead>\n",
       "    <tr style=\"text-align: right;\">\n",
       "      <th></th>\n",
       "      <th>Close/Last</th>\n",
       "      <th>Volume</th>\n",
       "      <th>Open</th>\n",
       "      <th>High</th>\n",
       "      <th>Low</th>\n",
       "    </tr>\n",
       "    <tr>\n",
       "      <th>Date</th>\n",
       "      <th></th>\n",
       "      <th></th>\n",
       "      <th></th>\n",
       "      <th></th>\n",
       "      <th></th>\n",
       "    </tr>\n",
       "  </thead>\n",
       "  <tbody>\n",
       "    <tr>\n",
       "      <th>2021-01-04</th>\n",
       "      <td>129.41</td>\n",
       "      <td>143301900</td>\n",
       "      <td>133.52</td>\n",
       "      <td>133.6116</td>\n",
       "      <td>126.760</td>\n",
       "    </tr>\n",
       "    <tr>\n",
       "      <th>2021-01-05</th>\n",
       "      <td>131.01</td>\n",
       "      <td>97664900</td>\n",
       "      <td>128.89</td>\n",
       "      <td>131.7400</td>\n",
       "      <td>128.430</td>\n",
       "    </tr>\n",
       "    <tr>\n",
       "      <th>2021-01-06</th>\n",
       "      <td>126.60</td>\n",
       "      <td>155088000</td>\n",
       "      <td>127.72</td>\n",
       "      <td>131.0499</td>\n",
       "      <td>126.382</td>\n",
       "    </tr>\n",
       "    <tr>\n",
       "      <th>2021-01-07</th>\n",
       "      <td>130.92</td>\n",
       "      <td>109578200</td>\n",
       "      <td>128.36</td>\n",
       "      <td>131.6300</td>\n",
       "      <td>127.860</td>\n",
       "    </tr>\n",
       "    <tr>\n",
       "      <th>2021-01-08</th>\n",
       "      <td>132.05</td>\n",
       "      <td>105158200</td>\n",
       "      <td>132.43</td>\n",
       "      <td>132.6300</td>\n",
       "      <td>130.230</td>\n",
       "    </tr>\n",
       "    <tr>\n",
       "      <th>2021-01-11</th>\n",
       "      <td>128.98</td>\n",
       "      <td>100620900</td>\n",
       "      <td>129.19</td>\n",
       "      <td>130.1700</td>\n",
       "      <td>128.500</td>\n",
       "    </tr>\n",
       "    <tr>\n",
       "      <th>2021-01-12</th>\n",
       "      <td>128.80</td>\n",
       "      <td>91951150</td>\n",
       "      <td>128.50</td>\n",
       "      <td>129.6900</td>\n",
       "      <td>126.860</td>\n",
       "    </tr>\n",
       "    <tr>\n",
       "      <th>2021-01-13</th>\n",
       "      <td>130.89</td>\n",
       "      <td>88636830</td>\n",
       "      <td>128.76</td>\n",
       "      <td>131.4500</td>\n",
       "      <td>128.490</td>\n",
       "    </tr>\n",
       "    <tr>\n",
       "      <th>2021-01-14</th>\n",
       "      <td>128.91</td>\n",
       "      <td>90221760</td>\n",
       "      <td>130.80</td>\n",
       "      <td>131.0000</td>\n",
       "      <td>128.760</td>\n",
       "    </tr>\n",
       "    <tr>\n",
       "      <th>2021-01-15</th>\n",
       "      <td>127.14</td>\n",
       "      <td>111598500</td>\n",
       "      <td>128.78</td>\n",
       "      <td>130.2242</td>\n",
       "      <td>127.000</td>\n",
       "    </tr>\n",
       "    <tr>\n",
       "      <th>2021-01-19</th>\n",
       "      <td>127.83</td>\n",
       "      <td>90757330</td>\n",
       "      <td>127.78</td>\n",
       "      <td>128.7100</td>\n",
       "      <td>126.938</td>\n",
       "    </tr>\n",
       "    <tr>\n",
       "      <th>2021-01-20</th>\n",
       "      <td>132.03</td>\n",
       "      <td>104319500</td>\n",
       "      <td>128.66</td>\n",
       "      <td>132.4900</td>\n",
       "      <td>128.550</td>\n",
       "    </tr>\n",
       "    <tr>\n",
       "      <th>2021-01-21</th>\n",
       "      <td>136.87</td>\n",
       "      <td>120529500</td>\n",
       "      <td>133.80</td>\n",
       "      <td>139.6700</td>\n",
       "      <td>133.590</td>\n",
       "    </tr>\n",
       "    <tr>\n",
       "      <th>2021-01-22</th>\n",
       "      <td>139.07</td>\n",
       "      <td>114459400</td>\n",
       "      <td>136.28</td>\n",
       "      <td>139.8500</td>\n",
       "      <td>135.020</td>\n",
       "    </tr>\n",
       "    <tr>\n",
       "      <th>2021-01-25</th>\n",
       "      <td>142.92</td>\n",
       "      <td>157611700</td>\n",
       "      <td>143.07</td>\n",
       "      <td>145.0900</td>\n",
       "      <td>136.540</td>\n",
       "    </tr>\n",
       "    <tr>\n",
       "      <th>2021-01-26</th>\n",
       "      <td>143.16</td>\n",
       "      <td>98390560</td>\n",
       "      <td>143.60</td>\n",
       "      <td>144.3000</td>\n",
       "      <td>141.370</td>\n",
       "    </tr>\n",
       "    <tr>\n",
       "      <th>2021-01-27</th>\n",
       "      <td>142.06</td>\n",
       "      <td>140843800</td>\n",
       "      <td>143.43</td>\n",
       "      <td>144.3000</td>\n",
       "      <td>140.410</td>\n",
       "    </tr>\n",
       "    <tr>\n",
       "      <th>2021-01-28</th>\n",
       "      <td>137.09</td>\n",
       "      <td>142621100</td>\n",
       "      <td>139.52</td>\n",
       "      <td>141.9900</td>\n",
       "      <td>136.700</td>\n",
       "    </tr>\n",
       "    <tr>\n",
       "      <th>2021-01-29</th>\n",
       "      <td>131.96</td>\n",
       "      <td>177523800</td>\n",
       "      <td>135.83</td>\n",
       "      <td>136.7400</td>\n",
       "      <td>130.210</td>\n",
       "    </tr>\n",
       "  </tbody>\n",
       "</table>\n",
       "</div>"
      ],
      "text/plain": [
       "            Close/Last     Volume    Open      High      Low\n",
       "Date                                                        \n",
       "2021-01-04      129.41  143301900  133.52  133.6116  126.760\n",
       "2021-01-05      131.01   97664900  128.89  131.7400  128.430\n",
       "2021-01-06      126.60  155088000  127.72  131.0499  126.382\n",
       "2021-01-07      130.92  109578200  128.36  131.6300  127.860\n",
       "2021-01-08      132.05  105158200  132.43  132.6300  130.230\n",
       "2021-01-11      128.98  100620900  129.19  130.1700  128.500\n",
       "2021-01-12      128.80   91951150  128.50  129.6900  126.860\n",
       "2021-01-13      130.89   88636830  128.76  131.4500  128.490\n",
       "2021-01-14      128.91   90221760  130.80  131.0000  128.760\n",
       "2021-01-15      127.14  111598500  128.78  130.2242  127.000\n",
       "2021-01-19      127.83   90757330  127.78  128.7100  126.938\n",
       "2021-01-20      132.03  104319500  128.66  132.4900  128.550\n",
       "2021-01-21      136.87  120529500  133.80  139.6700  133.590\n",
       "2021-01-22      139.07  114459400  136.28  139.8500  135.020\n",
       "2021-01-25      142.92  157611700  143.07  145.0900  136.540\n",
       "2021-01-26      143.16   98390560  143.60  144.3000  141.370\n",
       "2021-01-27      142.06  140843800  143.43  144.3000  140.410\n",
       "2021-01-28      137.09  142621100  139.52  141.9900  136.700\n",
       "2021-01-29      131.96  177523800  135.83  136.7400  130.210"
      ]
     },
     "execution_count": 119,
     "metadata": {},
     "output_type": "execute_result"
    }
   ],
   "source": [
    "df['2021-01']                         # print all data of particular Month"
   ]
  },
  {
   "cell_type": "code",
   "execution_count": 118,
   "metadata": {
    "scrolled": true
   },
   "outputs": [
    {
     "data": {
      "text/html": [
       "<div>\n",
       "<style scoped>\n",
       "    .dataframe tbody tr th:only-of-type {\n",
       "        vertical-align: middle;\n",
       "    }\n",
       "\n",
       "    .dataframe tbody tr th {\n",
       "        vertical-align: top;\n",
       "    }\n",
       "\n",
       "    .dataframe thead th {\n",
       "        text-align: right;\n",
       "    }\n",
       "</style>\n",
       "<table border=\"1\" class=\"dataframe\">\n",
       "  <thead>\n",
       "    <tr style=\"text-align: right;\">\n",
       "      <th></th>\n",
       "      <th>Close/Last</th>\n",
       "      <th>Volume</th>\n",
       "      <th>Open</th>\n",
       "      <th>High</th>\n",
       "      <th>Low</th>\n",
       "    </tr>\n",
       "    <tr>\n",
       "      <th>Date</th>\n",
       "      <th></th>\n",
       "      <th></th>\n",
       "      <th></th>\n",
       "      <th></th>\n",
       "      <th></th>\n",
       "    </tr>\n",
       "  </thead>\n",
       "  <tbody>\n",
       "    <tr>\n",
       "      <th>2020-09-04</th>\n",
       "      <td>120.96</td>\n",
       "      <td>332607200</td>\n",
       "      <td>120.07</td>\n",
       "      <td>123.700</td>\n",
       "      <td>110.8900</td>\n",
       "    </tr>\n",
       "    <tr>\n",
       "      <th>2020-09-08</th>\n",
       "      <td>112.82</td>\n",
       "      <td>231366600</td>\n",
       "      <td>113.95</td>\n",
       "      <td>118.990</td>\n",
       "      <td>112.6800</td>\n",
       "    </tr>\n",
       "    <tr>\n",
       "      <th>2020-09-09</th>\n",
       "      <td>117.32</td>\n",
       "      <td>176940500</td>\n",
       "      <td>117.26</td>\n",
       "      <td>119.140</td>\n",
       "      <td>115.2600</td>\n",
       "    </tr>\n",
       "    <tr>\n",
       "      <th>2020-09-10</th>\n",
       "      <td>113.49</td>\n",
       "      <td>182274400</td>\n",
       "      <td>120.36</td>\n",
       "      <td>120.500</td>\n",
       "      <td>112.5000</td>\n",
       "    </tr>\n",
       "    <tr>\n",
       "      <th>2020-09-11</th>\n",
       "      <td>112.00</td>\n",
       "      <td>180860300</td>\n",
       "      <td>114.57</td>\n",
       "      <td>115.230</td>\n",
       "      <td>110.0000</td>\n",
       "    </tr>\n",
       "    <tr>\n",
       "      <th>...</th>\n",
       "      <td>...</td>\n",
       "      <td>...</td>\n",
       "      <td>...</td>\n",
       "      <td>...</td>\n",
       "      <td>...</td>\n",
       "    </tr>\n",
       "    <tr>\n",
       "      <th>2020-12-24</th>\n",
       "      <td>131.97</td>\n",
       "      <td>54930060</td>\n",
       "      <td>131.32</td>\n",
       "      <td>133.460</td>\n",
       "      <td>131.1000</td>\n",
       "    </tr>\n",
       "    <tr>\n",
       "      <th>2020-12-28</th>\n",
       "      <td>136.69</td>\n",
       "      <td>124486200</td>\n",
       "      <td>133.99</td>\n",
       "      <td>137.340</td>\n",
       "      <td>133.5100</td>\n",
       "    </tr>\n",
       "    <tr>\n",
       "      <th>2020-12-29</th>\n",
       "      <td>134.87</td>\n",
       "      <td>121047300</td>\n",
       "      <td>138.05</td>\n",
       "      <td>138.789</td>\n",
       "      <td>134.3409</td>\n",
       "    </tr>\n",
       "    <tr>\n",
       "      <th>2020-12-30</th>\n",
       "      <td>133.72</td>\n",
       "      <td>96452120</td>\n",
       "      <td>135.58</td>\n",
       "      <td>135.990</td>\n",
       "      <td>133.4000</td>\n",
       "    </tr>\n",
       "    <tr>\n",
       "      <th>2020-12-31</th>\n",
       "      <td>132.69</td>\n",
       "      <td>99116590</td>\n",
       "      <td>134.08</td>\n",
       "      <td>134.740</td>\n",
       "      <td>131.7200</td>\n",
       "    </tr>\n",
       "  </tbody>\n",
       "</table>\n",
       "<p>82 rows × 5 columns</p>\n",
       "</div>"
      ],
      "text/plain": [
       "            Close/Last     Volume    Open     High       Low\n",
       "Date                                                        \n",
       "2020-09-04      120.96  332607200  120.07  123.700  110.8900\n",
       "2020-09-08      112.82  231366600  113.95  118.990  112.6800\n",
       "2020-09-09      117.32  176940500  117.26  119.140  115.2600\n",
       "2020-09-10      113.49  182274400  120.36  120.500  112.5000\n",
       "2020-09-11      112.00  180860300  114.57  115.230  110.0000\n",
       "...                ...        ...     ...      ...       ...\n",
       "2020-12-24      131.97   54930060  131.32  133.460  131.1000\n",
       "2020-12-28      136.69  124486200  133.99  137.340  133.5100\n",
       "2020-12-29      134.87  121047300  138.05  138.789  134.3409\n",
       "2020-12-30      133.72   96452120  135.58  135.990  133.4000\n",
       "2020-12-31      132.69   99116590  134.08  134.740  131.7200\n",
       "\n",
       "[82 rows x 5 columns]"
      ]
     },
     "execution_count": 118,
     "metadata": {},
     "output_type": "execute_result"
    }
   ],
   "source": [
    "df['2020']                            # print all data of particular Year"
   ]
  },
  {
   "cell_type": "code",
   "execution_count": null,
   "metadata": {},
   "outputs": [],
   "source": [
    "df['2020-09-14':'2021-08-25']         # Print in Range of dates"
   ]
  },
  {
   "cell_type": "code",
   "execution_count": 117,
   "metadata": {},
   "outputs": [
    {
     "data": {
      "text/plain": [
       "Date\n",
       "2020-09-30    113.355556\n",
       "2020-10-31    116.694091\n",
       "2020-11-30    116.748500\n",
       "2020-12-31    127.150455\n",
       "2021-01-31    133.101053\n",
       "2021-02-28    132.022632\n",
       "2021-03-31    122.087391\n",
       "2021-04-30    131.672381\n",
       "2021-05-31    127.034750\n",
       "2021-06-30    129.489545\n",
       "2021-07-31    144.569762\n",
       "2021-08-31    147.850682\n",
       "2021-09-30    153.486667\n",
       "Freq: M, Name: Open, dtype: float64"
      ]
     },
     "execution_count": 117,
     "metadata": {},
     "output_type": "execute_result"
    }
   ],
   "source": [
    "df.Open.resample('M').mean()           # Mean of each month"
   ]
  },
  {
   "cell_type": "code",
   "execution_count": 116,
   "metadata": {},
   "outputs": [
    {
     "data": {
      "text/plain": [
       "<AxesSubplot:xlabel='Date'>"
      ]
     },
     "execution_count": 116,
     "metadata": {},
     "output_type": "execute_result"
    },
    {
     "data": {
      "image/png": "[encoded data removed]",
      "text/plain": [
       "<Figure size 432x288 with 1 Axes>"
      ]
     },
     "metadata": {
      "needs_background": "light"
     },
     "output_type": "display_data"
    }
   ],
   "source": [
    "%matplotlib inline\n",
    "df.Open.resample('M').mean().plot()"
   ]
  },
  {
   "cell_type": "code",
   "execution_count": 115,
   "metadata": {},
   "outputs": [
    {
     "data": {
      "text/plain": [
       "<AxesSubplot:xlabel='Date'>"
      ]
     },
     "execution_count": 115,
     "metadata": {},
     "output_type": "execute_result"
    },
    {
     "data": {
      "image/png": "[encoded data removed]",
      "text/plain": [
       "<Figure size 432x288 with 1 Axes>"
      ]
     },
     "metadata": {
      "needs_background": "light"
     },
     "output_type": "display_data"
    }
   ],
   "source": [
    "%matplotlib inline\n",
    "df.Open.resample('M').mean().plot(kind='bar')"
   ]
  },
  {
   "cell_type": "markdown",
   "metadata": {},
   "source": [
    "<br>**DateRange**<br>"
   ]
  },
  {
   "cell_type": "code",
   "execution_count": 157,
   "metadata": {},
   "outputs": [
    {
     "data": {
      "text/html": [
       "<div>\n",
       "<style scoped>\n",
       "    .dataframe tbody tr th:only-of-type {\n",
       "        vertical-align: middle;\n",
       "    }\n",
       "\n",
       "    .dataframe tbody tr th {\n",
       "        vertical-align: top;\n",
       "    }\n",
       "\n",
       "    .dataframe thead th {\n",
       "        text-align: right;\n",
       "    }\n",
       "</style>\n",
       "<table border=\"1\" class=\"dataframe\">\n",
       "  <thead>\n",
       "    <tr style=\"text-align: right;\">\n",
       "      <th></th>\n",
       "      <th>Close/Last</th>\n",
       "      <th>Volume</th>\n",
       "      <th>Open</th>\n",
       "      <th>High</th>\n",
       "      <th>Low</th>\n",
       "    </tr>\n",
       "  </thead>\n",
       "  <tbody>\n",
       "    <tr>\n",
       "      <th>0</th>\n",
       "      <td>116.79</td>\n",
       "      <td>116120400</td>\n",
       "      <td>117.64</td>\n",
       "      <td>117.7200</td>\n",
       "      <td>115.8300</td>\n",
       "    </tr>\n",
       "    <tr>\n",
       "      <th>1</th>\n",
       "      <td>122.72</td>\n",
       "      <td>128166800</td>\n",
       "      <td>121.01</td>\n",
       "      <td>123.4693</td>\n",
       "      <td>120.0100</td>\n",
       "    </tr>\n",
       "    <tr>\n",
       "      <th>2</th>\n",
       "      <td>113.02</td>\n",
       "      <td>144712000</td>\n",
       "      <td>112.89</td>\n",
       "      <td>115.3700</td>\n",
       "      <td>112.2200</td>\n",
       "    </tr>\n",
       "    <tr>\n",
       "      <th>3</th>\n",
       "      <td>108.77</td>\n",
       "      <td>122866900</td>\n",
       "      <td>109.11</td>\n",
       "      <td>110.6800</td>\n",
       "      <td>107.3200</td>\n",
       "    </tr>\n",
       "    <tr>\n",
       "      <th>4</th>\n",
       "      <td>123.08</td>\n",
       "      <td>89004200</td>\n",
       "      <td>122.02</td>\n",
       "      <td>123.3700</td>\n",
       "      <td>120.8900</td>\n",
       "    </tr>\n",
       "    <tr>\n",
       "      <th>5</th>\n",
       "      <td>110.44</td>\n",
       "      <td>107624400</td>\n",
       "      <td>109.66</td>\n",
       "      <td>111.4900</td>\n",
       "      <td>108.7300</td>\n",
       "    </tr>\n",
       "    <tr>\n",
       "      <th>6</th>\n",
       "      <td>122.94</td>\n",
       "      <td>78967630</td>\n",
       "      <td>123.52</td>\n",
       "      <td>123.7800</td>\n",
       "      <td>122.2100</td>\n",
       "    </tr>\n",
       "    <tr>\n",
       "      <th>7</th>\n",
       "      <td>120.96</td>\n",
       "      <td>332607200</td>\n",
       "      <td>120.07</td>\n",
       "      <td>123.7000</td>\n",
       "      <td>110.8900</td>\n",
       "    </tr>\n",
       "    <tr>\n",
       "      <th>8</th>\n",
       "      <td>114.95</td>\n",
       "      <td>138235500</td>\n",
       "      <td>114.14</td>\n",
       "      <td>115.5900</td>\n",
       "      <td>112.3500</td>\n",
       "    </tr>\n",
       "    <tr>\n",
       "      <th>9</th>\n",
       "      <td>122.25</td>\n",
       "      <td>78260420</td>\n",
       "      <td>122.60</td>\n",
       "      <td>122.8608</td>\n",
       "      <td>121.5200</td>\n",
       "    </tr>\n",
       "    <tr>\n",
       "      <th>10</th>\n",
       "      <td>116.50</td>\n",
       "      <td>106243800</td>\n",
       "      <td>113.91</td>\n",
       "      <td>116.6500</td>\n",
       "      <td>113.5500</td>\n",
       "    </tr>\n",
       "    <tr>\n",
       "      <th>11</th>\n",
       "      <td>119.03</td>\n",
       "      <td>126387100</td>\n",
       "      <td>117.95</td>\n",
       "      <td>119.6200</td>\n",
       "      <td>116.8686</td>\n",
       "    </tr>\n",
       "    <tr>\n",
       "      <th>12</th>\n",
       "      <td>113.16</td>\n",
       "      <td>161498200</td>\n",
       "      <td>115.70</td>\n",
       "      <td>116.1200</td>\n",
       "      <td>112.2500</td>\n",
       "    </tr>\n",
       "    <tr>\n",
       "      <th>13</th>\n",
       "      <td>118.69</td>\n",
       "      <td>114457900</td>\n",
       "      <td>118.32</td>\n",
       "      <td>119.2000</td>\n",
       "      <td>116.1300</td>\n",
       "    </tr>\n",
       "    <tr>\n",
       "      <th>14</th>\n",
       "      <td>115.08</td>\n",
       "      <td>96848990</td>\n",
       "      <td>114.62</td>\n",
       "      <td>115.5500</td>\n",
       "      <td>114.1300</td>\n",
       "    </tr>\n",
       "    <tr>\n",
       "      <th>15</th>\n",
       "      <td>123.75</td>\n",
       "      <td>86711990</td>\n",
       "      <td>122.31</td>\n",
       "      <td>124.5700</td>\n",
       "      <td>122.2500</td>\n",
       "    </tr>\n",
       "    <tr>\n",
       "      <th>16</th>\n",
       "      <td>112.82</td>\n",
       "      <td>231366600</td>\n",
       "      <td>113.95</td>\n",
       "      <td>118.9900</td>\n",
       "      <td>112.6800</td>\n",
       "    </tr>\n",
       "    <tr>\n",
       "      <th>17</th>\n",
       "      <td>114.97</td>\n",
       "      <td>83477150</td>\n",
       "      <td>116.25</td>\n",
       "      <td>116.4000</td>\n",
       "      <td>114.5901</td>\n",
       "    </tr>\n",
       "    <tr>\n",
       "      <th>18</th>\n",
       "      <td>124.38</td>\n",
       "      <td>82225510</td>\n",
       "      <td>124.37</td>\n",
       "      <td>124.9800</td>\n",
       "      <td>123.0900</td>\n",
       "    </tr>\n",
       "    <tr>\n",
       "      <th>19</th>\n",
       "      <td>117.32</td>\n",
       "      <td>176940500</td>\n",
       "      <td>117.26</td>\n",
       "      <td>119.1400</td>\n",
       "      <td>115.2600</td>\n",
       "    </tr>\n",
       "    <tr>\n",
       "      <th>20</th>\n",
       "      <td>116.97</td>\n",
       "      <td>100506900</td>\n",
       "      <td>115.28</td>\n",
       "      <td>117.0000</td>\n",
       "      <td>114.9200</td>\n",
       "    </tr>\n",
       "    <tr>\n",
       "      <th>21</th>\n",
       "      <td>116.32</td>\n",
       "      <td>154515300</td>\n",
       "      <td>120.50</td>\n",
       "      <td>121.9900</td>\n",
       "      <td>116.0500</td>\n",
       "    </tr>\n",
       "  </tbody>\n",
       "</table>\n",
       "</div>"
      ],
      "text/plain": [
       "    Close/Last     Volume    Open      High       Low\n",
       "0       116.79  116120400  117.64  117.7200  115.8300\n",
       "1       122.72  128166800  121.01  123.4693  120.0100\n",
       "2       113.02  144712000  112.89  115.3700  112.2200\n",
       "3       108.77  122866900  109.11  110.6800  107.3200\n",
       "4       123.08   89004200  122.02  123.3700  120.8900\n",
       "5       110.44  107624400  109.66  111.4900  108.7300\n",
       "6       122.94   78967630  123.52  123.7800  122.2100\n",
       "7       120.96  332607200  120.07  123.7000  110.8900\n",
       "8       114.95  138235500  114.14  115.5900  112.3500\n",
       "9       122.25   78260420  122.60  122.8608  121.5200\n",
       "10      116.50  106243800  113.91  116.6500  113.5500\n",
       "11      119.03  126387100  117.95  119.6200  116.8686\n",
       "12      113.16  161498200  115.70  116.1200  112.2500\n",
       "13      118.69  114457900  118.32  119.2000  116.1300\n",
       "14      115.08   96848990  114.62  115.5500  114.1300\n",
       "15      123.75   86711990  122.31  124.5700  122.2500\n",
       "16      112.82  231366600  113.95  118.9900  112.6800\n",
       "17      114.97   83477150  116.25  116.4000  114.5901\n",
       "18      124.38   82225510  124.37  124.9800  123.0900\n",
       "19      117.32  176940500  117.26  119.1400  115.2600\n",
       "20      116.97  100506900  115.28  117.0000  114.9200\n",
       "21      116.32  154515300  120.50  121.9900  116.0500"
      ]
     },
     "execution_count": 157,
     "metadata": {},
     "output_type": "execute_result"
    }
   ],
   "source": [
    "df        # LET WE HAVE DF WITH NO DATES"
   ]
  },
  {
   "cell_type": "code",
   "execution_count": 158,
   "metadata": {},
   "outputs": [
    {
     "data": {
      "text/plain": [
       "DatetimeIndex(['2017-06-01', '2017-06-02', '2017-06-05', '2017-06-06',\n",
       "               '2017-06-07', '2017-06-08', '2017-06-09', '2017-06-12',\n",
       "               '2017-06-13', '2017-06-14', '2017-06-15', '2017-06-16',\n",
       "               '2017-06-19', '2017-06-20', '2017-06-21', '2017-06-22',\n",
       "               '2017-06-23', '2017-06-26', '2017-06-27', '2017-06-28',\n",
       "               '2017-06-29', '2017-06-30'],\n",
       "              dtype='datetime64[ns]', freq='B')"
      ]
     },
     "execution_count": 158,
     "metadata": {},
     "output_type": "execute_result"
    }
   ],
   "source": [
    "# rng=pd.date_range(start='6/1/2017',periods=22,freq='B')          # can generate periods with count\n",
    "\n",
    "rng=pd.date_range(start='6/1/2017',end='6/30/2017',freq='B')       # B = Business day only\n",
    "rng"
   ]
  },
  {
   "cell_type": "code",
   "execution_count": 160,
   "metadata": {
    "scrolled": true
   },
   "outputs": [
    {
     "data": {
      "text/html": [
       "<div>\n",
       "<style scoped>\n",
       "    .dataframe tbody tr th:only-of-type {\n",
       "        vertical-align: middle;\n",
       "    }\n",
       "\n",
       "    .dataframe tbody tr th {\n",
       "        vertical-align: top;\n",
       "    }\n",
       "\n",
       "    .dataframe thead th {\n",
       "        text-align: right;\n",
       "    }\n",
       "</style>\n",
       "<table border=\"1\" class=\"dataframe\">\n",
       "  <thead>\n",
       "    <tr style=\"text-align: right;\">\n",
       "      <th></th>\n",
       "      <th>Close/Last</th>\n",
       "      <th>Volume</th>\n",
       "      <th>Open</th>\n",
       "      <th>High</th>\n",
       "      <th>Low</th>\n",
       "    </tr>\n",
       "  </thead>\n",
       "  <tbody>\n",
       "    <tr>\n",
       "      <th>2017-06-01</th>\n",
       "      <td>116.79</td>\n",
       "      <td>116120400</td>\n",
       "      <td>117.64</td>\n",
       "      <td>117.7200</td>\n",
       "      <td>115.8300</td>\n",
       "    </tr>\n",
       "    <tr>\n",
       "      <th>2017-06-02</th>\n",
       "      <td>122.72</td>\n",
       "      <td>128166800</td>\n",
       "      <td>121.01</td>\n",
       "      <td>123.4693</td>\n",
       "      <td>120.0100</td>\n",
       "    </tr>\n",
       "    <tr>\n",
       "      <th>2017-06-05</th>\n",
       "      <td>113.02</td>\n",
       "      <td>144712000</td>\n",
       "      <td>112.89</td>\n",
       "      <td>115.3700</td>\n",
       "      <td>112.2200</td>\n",
       "    </tr>\n",
       "    <tr>\n",
       "      <th>2017-06-06</th>\n",
       "      <td>108.77</td>\n",
       "      <td>122866900</td>\n",
       "      <td>109.11</td>\n",
       "      <td>110.6800</td>\n",
       "      <td>107.3200</td>\n",
       "    </tr>\n",
       "    <tr>\n",
       "      <th>2017-06-07</th>\n",
       "      <td>123.08</td>\n",
       "      <td>89004200</td>\n",
       "      <td>122.02</td>\n",
       "      <td>123.3700</td>\n",
       "      <td>120.8900</td>\n",
       "    </tr>\n",
       "    <tr>\n",
       "      <th>2017-06-08</th>\n",
       "      <td>110.44</td>\n",
       "      <td>107624400</td>\n",
       "      <td>109.66</td>\n",
       "      <td>111.4900</td>\n",
       "      <td>108.7300</td>\n",
       "    </tr>\n",
       "    <tr>\n",
       "      <th>2017-06-09</th>\n",
       "      <td>122.94</td>\n",
       "      <td>78967630</td>\n",
       "      <td>123.52</td>\n",
       "      <td>123.7800</td>\n",
       "      <td>122.2100</td>\n",
       "    </tr>\n",
       "    <tr>\n",
       "      <th>2017-06-12</th>\n",
       "      <td>120.96</td>\n",
       "      <td>332607200</td>\n",
       "      <td>120.07</td>\n",
       "      <td>123.7000</td>\n",
       "      <td>110.8900</td>\n",
       "    </tr>\n",
       "    <tr>\n",
       "      <th>2017-06-13</th>\n",
       "      <td>114.95</td>\n",
       "      <td>138235500</td>\n",
       "      <td>114.14</td>\n",
       "      <td>115.5900</td>\n",
       "      <td>112.3500</td>\n",
       "    </tr>\n",
       "    <tr>\n",
       "      <th>2017-06-14</th>\n",
       "      <td>122.25</td>\n",
       "      <td>78260420</td>\n",
       "      <td>122.60</td>\n",
       "      <td>122.8608</td>\n",
       "      <td>121.5200</td>\n",
       "    </tr>\n",
       "    <tr>\n",
       "      <th>2017-06-15</th>\n",
       "      <td>116.50</td>\n",
       "      <td>106243800</td>\n",
       "      <td>113.91</td>\n",
       "      <td>116.6500</td>\n",
       "      <td>113.5500</td>\n",
       "    </tr>\n",
       "    <tr>\n",
       "      <th>2017-06-16</th>\n",
       "      <td>119.03</td>\n",
       "      <td>126387100</td>\n",
       "      <td>117.95</td>\n",
       "      <td>119.6200</td>\n",
       "      <td>116.8686</td>\n",
       "    </tr>\n",
       "    <tr>\n",
       "      <th>2017-06-19</th>\n",
       "      <td>113.16</td>\n",
       "      <td>161498200</td>\n",
       "      <td>115.70</td>\n",
       "      <td>116.1200</td>\n",
       "      <td>112.2500</td>\n",
       "    </tr>\n",
       "    <tr>\n",
       "      <th>2017-06-20</th>\n",
       "      <td>118.69</td>\n",
       "      <td>114457900</td>\n",
       "      <td>118.32</td>\n",
       "      <td>119.2000</td>\n",
       "      <td>116.1300</td>\n",
       "    </tr>\n",
       "    <tr>\n",
       "      <th>2017-06-21</th>\n",
       "      <td>115.08</td>\n",
       "      <td>96848990</td>\n",
       "      <td>114.62</td>\n",
       "      <td>115.5500</td>\n",
       "      <td>114.1300</td>\n",
       "    </tr>\n",
       "    <tr>\n",
       "      <th>2017-06-22</th>\n",
       "      <td>123.75</td>\n",
       "      <td>86711990</td>\n",
       "      <td>122.31</td>\n",
       "      <td>124.5700</td>\n",
       "      <td>122.2500</td>\n",
       "    </tr>\n",
       "    <tr>\n",
       "      <th>2017-06-23</th>\n",
       "      <td>112.82</td>\n",
       "      <td>231366600</td>\n",
       "      <td>113.95</td>\n",
       "      <td>118.9900</td>\n",
       "      <td>112.6800</td>\n",
       "    </tr>\n",
       "    <tr>\n",
       "      <th>2017-06-26</th>\n",
       "      <td>114.97</td>\n",
       "      <td>83477150</td>\n",
       "      <td>116.25</td>\n",
       "      <td>116.4000</td>\n",
       "      <td>114.5901</td>\n",
       "    </tr>\n",
       "    <tr>\n",
       "      <th>2017-06-27</th>\n",
       "      <td>124.38</td>\n",
       "      <td>82225510</td>\n",
       "      <td>124.37</td>\n",
       "      <td>124.9800</td>\n",
       "      <td>123.0900</td>\n",
       "    </tr>\n",
       "    <tr>\n",
       "      <th>2017-06-28</th>\n",
       "      <td>117.32</td>\n",
       "      <td>176940500</td>\n",
       "      <td>117.26</td>\n",
       "      <td>119.1400</td>\n",
       "      <td>115.2600</td>\n",
       "    </tr>\n",
       "    <tr>\n",
       "      <th>2017-06-29</th>\n",
       "      <td>116.97</td>\n",
       "      <td>100506900</td>\n",
       "      <td>115.28</td>\n",
       "      <td>117.0000</td>\n",
       "      <td>114.9200</td>\n",
       "    </tr>\n",
       "    <tr>\n",
       "      <th>2017-06-30</th>\n",
       "      <td>116.32</td>\n",
       "      <td>154515300</td>\n",
       "      <td>120.50</td>\n",
       "      <td>121.9900</td>\n",
       "      <td>116.0500</td>\n",
       "    </tr>\n",
       "  </tbody>\n",
       "</table>\n",
       "</div>"
      ],
      "text/plain": [
       "            Close/Last     Volume    Open      High       Low\n",
       "2017-06-01      116.79  116120400  117.64  117.7200  115.8300\n",
       "2017-06-02      122.72  128166800  121.01  123.4693  120.0100\n",
       "2017-06-05      113.02  144712000  112.89  115.3700  112.2200\n",
       "2017-06-06      108.77  122866900  109.11  110.6800  107.3200\n",
       "2017-06-07      123.08   89004200  122.02  123.3700  120.8900\n",
       "2017-06-08      110.44  107624400  109.66  111.4900  108.7300\n",
       "2017-06-09      122.94   78967630  123.52  123.7800  122.2100\n",
       "2017-06-12      120.96  332607200  120.07  123.7000  110.8900\n",
       "2017-06-13      114.95  138235500  114.14  115.5900  112.3500\n",
       "2017-06-14      122.25   78260420  122.60  122.8608  121.5200\n",
       "2017-06-15      116.50  106243800  113.91  116.6500  113.5500\n",
       "2017-06-16      119.03  126387100  117.95  119.6200  116.8686\n",
       "2017-06-19      113.16  161498200  115.70  116.1200  112.2500\n",
       "2017-06-20      118.69  114457900  118.32  119.2000  116.1300\n",
       "2017-06-21      115.08   96848990  114.62  115.5500  114.1300\n",
       "2017-06-22      123.75   86711990  122.31  124.5700  122.2500\n",
       "2017-06-23      112.82  231366600  113.95  118.9900  112.6800\n",
       "2017-06-26      114.97   83477150  116.25  116.4000  114.5901\n",
       "2017-06-27      124.38   82225510  124.37  124.9800  123.0900\n",
       "2017-06-28      117.32  176940500  117.26  119.1400  115.2600\n",
       "2017-06-29      116.97  100506900  115.28  117.0000  114.9200\n",
       "2017-06-30      116.32  154515300  120.50  121.9900  116.0500"
      ]
     },
     "execution_count": 160,
     "metadata": {},
     "output_type": "execute_result"
    }
   ],
   "source": [
    "df=df.set_index(rng)\n",
    "df"
   ]
  },
  {
   "cell_type": "code",
   "execution_count": 167,
   "metadata": {},
   "outputs": [
    {
     "data": {
      "text/html": [
       "<div>\n",
       "<style scoped>\n",
       "    .dataframe tbody tr th:only-of-type {\n",
       "        vertical-align: middle;\n",
       "    }\n",
       "\n",
       "    .dataframe tbody tr th {\n",
       "        vertical-align: top;\n",
       "    }\n",
       "\n",
       "    .dataframe thead th {\n",
       "        text-align: right;\n",
       "    }\n",
       "</style>\n",
       "<table border=\"1\" class=\"dataframe\">\n",
       "  <thead>\n",
       "    <tr style=\"text-align: right;\">\n",
       "      <th></th>\n",
       "      <th>Close/Last</th>\n",
       "      <th>Volume</th>\n",
       "      <th>Open</th>\n",
       "      <th>High</th>\n",
       "      <th>Low</th>\n",
       "    </tr>\n",
       "  </thead>\n",
       "  <tbody>\n",
       "    <tr>\n",
       "      <th>2017-06-01</th>\n",
       "      <td>116.79</td>\n",
       "      <td>116120400</td>\n",
       "      <td>117.64</td>\n",
       "      <td>117.7200</td>\n",
       "      <td>115.8300</td>\n",
       "    </tr>\n",
       "    <tr>\n",
       "      <th>2017-06-02</th>\n",
       "      <td>122.72</td>\n",
       "      <td>128166800</td>\n",
       "      <td>121.01</td>\n",
       "      <td>123.4693</td>\n",
       "      <td>120.0100</td>\n",
       "    </tr>\n",
       "    <tr>\n",
       "      <th>2017-06-03</th>\n",
       "      <td>122.72</td>\n",
       "      <td>128166800</td>\n",
       "      <td>121.01</td>\n",
       "      <td>123.4693</td>\n",
       "      <td>120.0100</td>\n",
       "    </tr>\n",
       "    <tr>\n",
       "      <th>2017-06-04</th>\n",
       "      <td>122.72</td>\n",
       "      <td>128166800</td>\n",
       "      <td>121.01</td>\n",
       "      <td>123.4693</td>\n",
       "      <td>120.0100</td>\n",
       "    </tr>\n",
       "    <tr>\n",
       "      <th>2017-06-05</th>\n",
       "      <td>113.02</td>\n",
       "      <td>144712000</td>\n",
       "      <td>112.89</td>\n",
       "      <td>115.3700</td>\n",
       "      <td>112.2200</td>\n",
       "    </tr>\n",
       "    <tr>\n",
       "      <th>2017-06-06</th>\n",
       "      <td>108.77</td>\n",
       "      <td>122866900</td>\n",
       "      <td>109.11</td>\n",
       "      <td>110.6800</td>\n",
       "      <td>107.3200</td>\n",
       "    </tr>\n",
       "    <tr>\n",
       "      <th>2017-06-07</th>\n",
       "      <td>123.08</td>\n",
       "      <td>89004200</td>\n",
       "      <td>122.02</td>\n",
       "      <td>123.3700</td>\n",
       "      <td>120.8900</td>\n",
       "    </tr>\n",
       "    <tr>\n",
       "      <th>2017-06-08</th>\n",
       "      <td>110.44</td>\n",
       "      <td>107624400</td>\n",
       "      <td>109.66</td>\n",
       "      <td>111.4900</td>\n",
       "      <td>108.7300</td>\n",
       "    </tr>\n",
       "    <tr>\n",
       "      <th>2017-06-09</th>\n",
       "      <td>122.94</td>\n",
       "      <td>78967630</td>\n",
       "      <td>123.52</td>\n",
       "      <td>123.7800</td>\n",
       "      <td>122.2100</td>\n",
       "    </tr>\n",
       "    <tr>\n",
       "      <th>2017-06-10</th>\n",
       "      <td>122.94</td>\n",
       "      <td>78967630</td>\n",
       "      <td>123.52</td>\n",
       "      <td>123.7800</td>\n",
       "      <td>122.2100</td>\n",
       "    </tr>\n",
       "    <tr>\n",
       "      <th>2017-06-11</th>\n",
       "      <td>122.94</td>\n",
       "      <td>78967630</td>\n",
       "      <td>123.52</td>\n",
       "      <td>123.7800</td>\n",
       "      <td>122.2100</td>\n",
       "    </tr>\n",
       "    <tr>\n",
       "      <th>2017-06-12</th>\n",
       "      <td>120.96</td>\n",
       "      <td>332607200</td>\n",
       "      <td>120.07</td>\n",
       "      <td>123.7000</td>\n",
       "      <td>110.8900</td>\n",
       "    </tr>\n",
       "    <tr>\n",
       "      <th>2017-06-13</th>\n",
       "      <td>114.95</td>\n",
       "      <td>138235500</td>\n",
       "      <td>114.14</td>\n",
       "      <td>115.5900</td>\n",
       "      <td>112.3500</td>\n",
       "    </tr>\n",
       "    <tr>\n",
       "      <th>2017-06-14</th>\n",
       "      <td>122.25</td>\n",
       "      <td>78260420</td>\n",
       "      <td>122.60</td>\n",
       "      <td>122.8608</td>\n",
       "      <td>121.5200</td>\n",
       "    </tr>\n",
       "    <tr>\n",
       "      <th>2017-06-15</th>\n",
       "      <td>116.50</td>\n",
       "      <td>106243800</td>\n",
       "      <td>113.91</td>\n",
       "      <td>116.6500</td>\n",
       "      <td>113.5500</td>\n",
       "    </tr>\n",
       "    <tr>\n",
       "      <th>2017-06-16</th>\n",
       "      <td>119.03</td>\n",
       "      <td>126387100</td>\n",
       "      <td>117.95</td>\n",
       "      <td>119.6200</td>\n",
       "      <td>116.8686</td>\n",
       "    </tr>\n",
       "    <tr>\n",
       "      <th>2017-06-17</th>\n",
       "      <td>119.03</td>\n",
       "      <td>126387100</td>\n",
       "      <td>117.95</td>\n",
       "      <td>119.6200</td>\n",
       "      <td>116.8686</td>\n",
       "    </tr>\n",
       "    <tr>\n",
       "      <th>2017-06-18</th>\n",
       "      <td>119.03</td>\n",
       "      <td>126387100</td>\n",
       "      <td>117.95</td>\n",
       "      <td>119.6200</td>\n",
       "      <td>116.8686</td>\n",
       "    </tr>\n",
       "    <tr>\n",
       "      <th>2017-06-19</th>\n",
       "      <td>113.16</td>\n",
       "      <td>161498200</td>\n",
       "      <td>115.70</td>\n",
       "      <td>116.1200</td>\n",
       "      <td>112.2500</td>\n",
       "    </tr>\n",
       "    <tr>\n",
       "      <th>2017-06-20</th>\n",
       "      <td>118.69</td>\n",
       "      <td>114457900</td>\n",
       "      <td>118.32</td>\n",
       "      <td>119.2000</td>\n",
       "      <td>116.1300</td>\n",
       "    </tr>\n",
       "    <tr>\n",
       "      <th>2017-06-21</th>\n",
       "      <td>115.08</td>\n",
       "      <td>96848990</td>\n",
       "      <td>114.62</td>\n",
       "      <td>115.5500</td>\n",
       "      <td>114.1300</td>\n",
       "    </tr>\n",
       "    <tr>\n",
       "      <th>2017-06-22</th>\n",
       "      <td>123.75</td>\n",
       "      <td>86711990</td>\n",
       "      <td>122.31</td>\n",
       "      <td>124.5700</td>\n",
       "      <td>122.2500</td>\n",
       "    </tr>\n",
       "    <tr>\n",
       "      <th>2017-06-23</th>\n",
       "      <td>112.82</td>\n",
       "      <td>231366600</td>\n",
       "      <td>113.95</td>\n",
       "      <td>118.9900</td>\n",
       "      <td>112.6800</td>\n",
       "    </tr>\n",
       "    <tr>\n",
       "      <th>2017-06-24</th>\n",
       "      <td>112.82</td>\n",
       "      <td>231366600</td>\n",
       "      <td>113.95</td>\n",
       "      <td>118.9900</td>\n",
       "      <td>112.6800</td>\n",
       "    </tr>\n",
       "    <tr>\n",
       "      <th>2017-06-25</th>\n",
       "      <td>112.82</td>\n",
       "      <td>231366600</td>\n",
       "      <td>113.95</td>\n",
       "      <td>118.9900</td>\n",
       "      <td>112.6800</td>\n",
       "    </tr>\n",
       "    <tr>\n",
       "      <th>2017-06-26</th>\n",
       "      <td>114.97</td>\n",
       "      <td>83477150</td>\n",
       "      <td>116.25</td>\n",
       "      <td>116.4000</td>\n",
       "      <td>114.5901</td>\n",
       "    </tr>\n",
       "    <tr>\n",
       "      <th>2017-06-27</th>\n",
       "      <td>124.38</td>\n",
       "      <td>82225510</td>\n",
       "      <td>124.37</td>\n",
       "      <td>124.9800</td>\n",
       "      <td>123.0900</td>\n",
       "    </tr>\n",
       "    <tr>\n",
       "      <th>2017-06-28</th>\n",
       "      <td>117.32</td>\n",
       "      <td>176940500</td>\n",
       "      <td>117.26</td>\n",
       "      <td>119.1400</td>\n",
       "      <td>115.2600</td>\n",
       "    </tr>\n",
       "    <tr>\n",
       "      <th>2017-06-29</th>\n",
       "      <td>116.97</td>\n",
       "      <td>100506900</td>\n",
       "      <td>115.28</td>\n",
       "      <td>117.0000</td>\n",
       "      <td>114.9200</td>\n",
       "    </tr>\n",
       "    <tr>\n",
       "      <th>2017-06-30</th>\n",
       "      <td>116.32</td>\n",
       "      <td>154515300</td>\n",
       "      <td>120.50</td>\n",
       "      <td>121.9900</td>\n",
       "      <td>116.0500</td>\n",
       "    </tr>\n",
       "  </tbody>\n",
       "</table>\n",
       "</div>"
      ],
      "text/plain": [
       "            Close/Last     Volume    Open      High       Low\n",
       "2017-06-01      116.79  116120400  117.64  117.7200  115.8300\n",
       "2017-06-02      122.72  128166800  121.01  123.4693  120.0100\n",
       "2017-06-03      122.72  128166800  121.01  123.4693  120.0100\n",
       "2017-06-04      122.72  128166800  121.01  123.4693  120.0100\n",
       "2017-06-05      113.02  144712000  112.89  115.3700  112.2200\n",
       "2017-06-06      108.77  122866900  109.11  110.6800  107.3200\n",
       "2017-06-07      123.08   89004200  122.02  123.3700  120.8900\n",
       "2017-06-08      110.44  107624400  109.66  111.4900  108.7300\n",
       "2017-06-09      122.94   78967630  123.52  123.7800  122.2100\n",
       "2017-06-10      122.94   78967630  123.52  123.7800  122.2100\n",
       "2017-06-11      122.94   78967630  123.52  123.7800  122.2100\n",
       "2017-06-12      120.96  332607200  120.07  123.7000  110.8900\n",
       "2017-06-13      114.95  138235500  114.14  115.5900  112.3500\n",
       "2017-06-14      122.25   78260420  122.60  122.8608  121.5200\n",
       "2017-06-15      116.50  106243800  113.91  116.6500  113.5500\n",
       "2017-06-16      119.03  126387100  117.95  119.6200  116.8686\n",
       "2017-06-17      119.03  126387100  117.95  119.6200  116.8686\n",
       "2017-06-18      119.03  126387100  117.95  119.6200  116.8686\n",
       "2017-06-19      113.16  161498200  115.70  116.1200  112.2500\n",
       "2017-06-20      118.69  114457900  118.32  119.2000  116.1300\n",
       "2017-06-21      115.08   96848990  114.62  115.5500  114.1300\n",
       "2017-06-22      123.75   86711990  122.31  124.5700  122.2500\n",
       "2017-06-23      112.82  231366600  113.95  118.9900  112.6800\n",
       "2017-06-24      112.82  231366600  113.95  118.9900  112.6800\n",
       "2017-06-25      112.82  231366600  113.95  118.9900  112.6800\n",
       "2017-06-26      114.97   83477150  116.25  116.4000  114.5901\n",
       "2017-06-27      124.38   82225510  124.37  124.9800  123.0900\n",
       "2017-06-28      117.32  176940500  117.26  119.1400  115.2600\n",
       "2017-06-29      116.97  100506900  115.28  117.0000  114.9200\n",
       "2017-06-30      116.32  154515300  120.50  121.9900  116.0500"
      ]
     },
     "execution_count": 167,
     "metadata": {},
     "output_type": "execute_result"
    }
   ],
   "source": [
    "df.asfreq('D', method='pad')     # add holidays in list   pad=is a fuction which assign value of previous day at 'NaN'"
   ]
  },
  {
   "cell_type": "code",
   "execution_count": 168,
   "metadata": {},
   "outputs": [
    {
     "data": {
      "text/html": [
       "<div>\n",
       "<style scoped>\n",
       "    .dataframe tbody tr th:only-of-type {\n",
       "        vertical-align: middle;\n",
       "    }\n",
       "\n",
       "    .dataframe tbody tr th {\n",
       "        vertical-align: top;\n",
       "    }\n",
       "\n",
       "    .dataframe thead th {\n",
       "        text-align: right;\n",
       "    }\n",
       "</style>\n",
       "<table border=\"1\" class=\"dataframe\">\n",
       "  <thead>\n",
       "    <tr style=\"text-align: right;\">\n",
       "      <th></th>\n",
       "      <th>Close/Last</th>\n",
       "      <th>Volume</th>\n",
       "      <th>Open</th>\n",
       "      <th>High</th>\n",
       "      <th>Low</th>\n",
       "    </tr>\n",
       "  </thead>\n",
       "  <tbody>\n",
       "    <tr>\n",
       "      <th>2017-06-04</th>\n",
       "      <td>122.72</td>\n",
       "      <td>128166800</td>\n",
       "      <td>121.01</td>\n",
       "      <td>123.4693</td>\n",
       "      <td>120.0100</td>\n",
       "    </tr>\n",
       "    <tr>\n",
       "      <th>2017-06-11</th>\n",
       "      <td>122.94</td>\n",
       "      <td>78967630</td>\n",
       "      <td>123.52</td>\n",
       "      <td>123.7800</td>\n",
       "      <td>122.2100</td>\n",
       "    </tr>\n",
       "    <tr>\n",
       "      <th>2017-06-18</th>\n",
       "      <td>119.03</td>\n",
       "      <td>126387100</td>\n",
       "      <td>117.95</td>\n",
       "      <td>119.6200</td>\n",
       "      <td>116.8686</td>\n",
       "    </tr>\n",
       "    <tr>\n",
       "      <th>2017-06-25</th>\n",
       "      <td>112.82</td>\n",
       "      <td>231366600</td>\n",
       "      <td>113.95</td>\n",
       "      <td>118.9900</td>\n",
       "      <td>112.6800</td>\n",
       "    </tr>\n",
       "  </tbody>\n",
       "</table>\n",
       "</div>"
      ],
      "text/plain": [
       "            Close/Last     Volume    Open      High       Low\n",
       "2017-06-04      122.72  128166800  121.01  123.4693  120.0100\n",
       "2017-06-11      122.94   78967630  123.52  123.7800  122.2100\n",
       "2017-06-18      119.03  126387100  117.95  119.6200  116.8686\n",
       "2017-06-25      112.82  231366600  113.95  118.9900  112.6800"
      ]
     },
     "execution_count": 168,
     "metadata": {},
     "output_type": "execute_result"
    }
   ],
   "source": [
    "df.asfreq('W', method='pad')         # show weekly prices"
   ]
  },
  {
   "cell_type": "markdown",
   "metadata": {},
   "source": [
    "## 3: Holidays"
   ]
  },
  {
   "cell_type": "markdown",
   "metadata": {},
   "source": [
    "**CustomBusinessDay()**"
   ]
  },
  {
   "cell_type": "code",
   "execution_count": 189,
   "metadata": {},
   "outputs": [
    {
     "data": {
      "text/plain": [
       "DatetimeIndex(['2017-06-01', '2017-06-02', '2017-06-05', '2017-06-06',\n",
       "               '2017-06-07', '2017-06-08', '2017-06-09', '2017-06-12',\n",
       "               '2017-06-13', '2017-06-14', '2017-06-15', '2017-06-16',\n",
       "               '2017-06-19', '2017-06-20', '2017-06-21', '2017-06-22',\n",
       "               '2017-06-23', '2017-06-26', '2017-06-27', '2017-06-28',\n",
       "               '2017-06-29', '2017-06-30'],\n",
       "              dtype='datetime64[ns]', freq='B')"
      ]
     },
     "execution_count": 189,
     "metadata": {},
     "output_type": "execute_result"
    }
   ],
   "source": [
    "rng=pd.date_range(start='6/1/2017',end='6/30/2017',freq='B')       # B = Business day only\n",
    "rng"
   ]
  },
  {
   "cell_type": "code",
   "execution_count": 186,
   "metadata": {},
   "outputs": [],
   "source": [
    "# US Holiday Calender\n",
    "from pandas.tseries.holiday import USFederalHolidayCalendar\n",
    "from pandas.tseries.offsets import CustomBusinessDay"
   ]
  },
  {
   "cell_type": "code",
   "execution_count": 188,
   "metadata": {},
   "outputs": [
    {
     "data": {
      "text/plain": [
       "<CustomBusinessDay>"
      ]
     },
     "execution_count": 188,
     "metadata": {},
     "output_type": "execute_result"
    }
   ],
   "source": [
    "usb = CustomBusinessDay(calendar=USFederalHolidayCalendar())       # creating a instance of custom business day\n",
    "usb"
   ]
  },
  {
   "cell_type": "code",
   "execution_count": 190,
   "metadata": {},
   "outputs": [
    {
     "data": {
      "text/plain": [
       "DatetimeIndex(['2017-06-01', '2017-06-02', '2017-06-05', '2017-06-06',\n",
       "               '2017-06-07', '2017-06-08', '2017-06-09', '2017-06-12',\n",
       "               '2017-06-13', '2017-06-14', '2017-06-15', '2017-06-16',\n",
       "               '2017-06-19', '2017-06-20', '2017-06-21', '2017-06-22',\n",
       "               '2017-06-23', '2017-06-26', '2017-06-27', '2017-06-28',\n",
       "               '2017-06-29', '2017-06-30'],\n",
       "              dtype='datetime64[ns]', freq='C')"
      ]
     },
     "execution_count": 190,
     "metadata": {},
     "output_type": "execute_result"
    }
   ],
   "source": [
    "rng=pd.date_range(start='6/1/2017',end='6/30/2017',freq=usb)      \n",
    "rng"
   ]
  },
  {
   "cell_type": "code",
   "execution_count": 192,
   "metadata": {},
   "outputs": [
    {
     "data": {
      "text/plain": [
       "<CustomBusinessDay>"
      ]
     },
     "execution_count": 192,
     "metadata": {},
     "output_type": "execute_result"
    }
   ],
   "source": [
    "from pandas.tseries.holiday import AbstractHolidayCalendar, Holiday, nearest_workday\n",
    "\n",
    "class myBirthdayCalender(AbstractHolidayCalendar):               # defining on which day there is holiday\n",
    "    rules=[\n",
    "        Holiday(\"my B'day\", month=2, day=4, observance=nearest_workday)\n",
    "    ]\n",
    "    \n",
    "usb = CustomBusinessDay(calendar=myBirthdayCalender())       # creating object\n",
    "usb"
   ]
  },
  {
   "cell_type": "code",
   "execution_count": 193,
   "metadata": {},
   "outputs": [
    {
     "data": {
      "text/plain": [
       "DatetimeIndex(['2020-01-27', '2020-01-28', '2020-01-29', '2020-01-30',\n",
       "               '2020-01-31', '2020-02-03', '2020-02-05', '2020-02-06',\n",
       "               '2020-02-07', '2020-02-10'],\n",
       "              dtype='datetime64[ns]', freq='C')"
      ]
     },
     "execution_count": 193,
     "metadata": {},
     "output_type": "execute_result"
    }
   ],
   "source": [
    "rng=pd.date_range(start='1/25/2020',end='2/10/2020',freq=usb)      \n",
    "rng"
   ]
  },
  {
   "cell_type": "code",
   "execution_count": 194,
   "metadata": {},
   "outputs": [],
   "source": [
    "\n",
    "# sunday is working day & friday is holiday     # also can provide specific holidays here only\n",
    "usb = CustomBusinessDay(weekmask='Sun Mon Tue Wed Thu', holidays=[\"2017-06-06\"])        "
   ]
  },
  {
   "cell_type": "code",
   "execution_count": 195,
   "metadata": {},
   "outputs": [
    {
     "data": {
      "text/plain": [
       "DatetimeIndex(['2017-06-01', '2017-06-04', '2017-06-05', '2017-06-06',\n",
       "               '2017-06-07', '2017-06-08', '2017-06-11', '2017-06-12',\n",
       "               '2017-06-13', '2017-06-14', '2017-06-15', '2017-06-18',\n",
       "               '2017-06-19', '2017-06-20', '2017-06-21', '2017-06-22',\n",
       "               '2017-06-25', '2017-06-26', '2017-06-27', '2017-06-28',\n",
       "               '2017-06-29'],\n",
       "              dtype='datetime64[ns]', freq='C')"
      ]
     },
     "execution_count": 195,
     "metadata": {},
     "output_type": "execute_result"
    }
   ],
   "source": [
    "rng=pd.date_range(start='6/1/2017',end='6/30/2017',freq=usb)      \n",
    "rng"
   ]
  },
  {
   "cell_type": "markdown",
   "metadata": {},
   "source": [
    "## to_datetime()"
   ]
  },
  {
   "cell_type": "code",
   "execution_count": 196,
   "metadata": {},
   "outputs": [],
   "source": [
    "dates = ['Jan 5, 2017' , '2017-01-05', 'Jan 5, 2017', '2017.01.05', '2017/01/05', '20170105']"
   ]
  },
  {
   "cell_type": "code",
   "execution_count": 197,
   "metadata": {},
   "outputs": [
    {
     "data": {
      "text/plain": [
       "DatetimeIndex(['2017-01-05', '2017-01-05', '2017-01-05', '2017-01-05',\n",
       "               '2017-01-05'],\n",
       "              dtype='datetime64[ns]', freq=None)"
      ]
     },
     "execution_count": 197,
     "metadata": {},
     "output_type": "execute_result"
    }
   ],
   "source": [
    "pd.to_datetime(dates)            # all dates converted to one format"
   ]
  },
  {
   "cell_type": "code",
   "execution_count": 199,
   "metadata": {},
   "outputs": [
    {
     "data": {
      "text/plain": [
       "DatetimeIndex(['2017-01-05 14:30:00', '2017-01-05 14:30:00',\n",
       "               '2017-01-05 00:00:00', '2017-01-05 00:00:00',\n",
       "               '2017-01-05 00:00:00', '2017-01-05 00:00:00'],\n",
       "              dtype='datetime64[ns]', freq=None)"
      ]
     },
     "execution_count": 199,
     "metadata": {},
     "output_type": "execute_result"
    }
   ],
   "source": [
    "dates = ['Jan 5, 2017 2:30:00 PM' , '2017-01-05 14:30:00', 'Jan 5, 2017', '2017.01.05', '2017/01/05', '20170105']\n",
    "pd.to_datetime(dates)       #  CAN HANDLE TIME ALSO"
   ]
  },
  {
   "cell_type": "code",
   "execution_count": 200,
   "metadata": {},
   "outputs": [
    {
     "data": {
      "text/plain": [
       "Timestamp('2017-05-01 00:00:00')"
      ]
     },
     "execution_count": 200,
     "metadata": {},
     "output_type": "execute_result"
    }
   ],
   "source": [
    "pd.to_datetime('05/01/2017')              # dy default mm/dd/yyyy"
   ]
  },
  {
   "cell_type": "code",
   "execution_count": 201,
   "metadata": {},
   "outputs": [
    {
     "data": {
      "text/plain": [
       "Timestamp('2017-01-05 00:00:00')"
      ]
     },
     "execution_count": 201,
     "metadata": {},
     "output_type": "execute_result"
    }
   ],
   "source": [
    "pd.to_datetime('05/01/2017', dayfirst=True)   "
   ]
  },
  {
   "cell_type": "code",
   "execution_count": 206,
   "metadata": {},
   "outputs": [
    {
     "data": {
      "text/plain": [
       "Timestamp('2017-01-05 00:00:00')"
      ]
     },
     "execution_count": 206,
     "metadata": {},
     "output_type": "execute_result"
    }
   ],
   "source": [
    "pd.to_datetime('05$01$2017', format='%d$%m$%Y')        # Handle random date format    # Y  is capital"
   ]
  },
  {
   "cell_type": "code",
   "execution_count": 207,
   "metadata": {},
   "outputs": [
    {
     "data": {
      "text/plain": [
       "Index(['Jan 5, 2017', '2017-01-05', 'Jan 5, 2017', '2017.01.05', '2017/01/05',\n",
       "       'abc'],\n",
       "      dtype='object')"
      ]
     },
     "execution_count": 207,
     "metadata": {},
     "output_type": "execute_result"
    }
   ],
   "source": [
    "dates = ['Jan 5, 2017' , '2017-01-05', 'Jan 5, 2017', '2017.01.05', '2017/01/05', 'abc']  # if garbage string present\n",
    "pd.to_datetime(dates, errors='ignore')        # errors = 'coerce'  DELETE EXTRA STRING"
   ]
  },
  {
   "cell_type": "markdown",
   "metadata": {},
   "source": [
    "Epoch (unix time) is number of seconda that have passed since Jan 1, 1970 00:00:00 UTC"
   ]
  },
  {
   "cell_type": "code",
   "execution_count": 209,
   "metadata": {},
   "outputs": [
    {
     "data": {
      "text/plain": [
       "Timestamp('2021-09-06 07:14:10')"
      ]
     },
     "execution_count": 209,
     "metadata": {},
     "output_type": "execute_result"
    }
   ],
   "source": [
    "t=1630912450\n",
    "pd.to_datetime(t, unit='s')         # by default it take nano-seconds    # return timestamp"
   ]
  },
  {
   "cell_type": "code",
   "execution_count": 211,
   "metadata": {},
   "outputs": [
    {
     "data": {
      "text/plain": [
       "DatetimeIndex(['2021-09-06 07:14:10'], dtype='datetime64[ns]', freq=None)"
      ]
     },
     "execution_count": 211,
     "metadata": {},
     "output_type": "execute_result"
    }
   ],
   "source": [
    "dt=pd.to_datetime([t], unit='s')         # return DateTimeIndex \n",
    "dt"
   ]
  },
  {
   "cell_type": "code",
   "execution_count": 212,
   "metadata": {
    "scrolled": true
   },
   "outputs": [
    {
     "data": {
      "text/plain": [
       "array([1630912450000000000], dtype=int64)"
      ]
     },
     "execution_count": 212,
     "metadata": {},
     "output_type": "execute_result"
    }
   ],
   "source": [
    "dt.view('int64')                    # DatetimeIndex  TO  Epoch"
   ]
  },
  {
   "cell_type": "markdown",
   "metadata": {},
   "source": [
    "## Period and PeriodIndex"
   ]
  },
  {
   "cell_type": "code",
   "execution_count": 214,
   "metadata": {},
   "outputs": [
    {
     "data": {
      "text/plain": [
       "Period('2020', 'A-DEC')"
      ]
     },
     "execution_count": 214,
     "metadata": {},
     "output_type": "execute_result"
    }
   ],
   "source": [
    "y = pd.Period('2020')              # Yearly frequency     #  'A-DEC'  means the period is ANNUAL & end in DECEMBER\n",
    "y"
   ]
  },
  {
   "cell_type": "code",
   "execution_count": 215,
   "metadata": {},
   "outputs": [
    {
     "data": {
      "text/plain": [
       "['__add__',\n",
       " '__class__',\n",
       " '__delattr__',\n",
       " '__dict__',\n",
       " '__dir__',\n",
       " '__doc__',\n",
       " '__eq__',\n",
       " '__format__',\n",
       " '__ge__',\n",
       " '__getattribute__',\n",
       " '__gt__',\n",
       " '__hash__',\n",
       " '__init__',\n",
       " '__init_subclass__',\n",
       " '__le__',\n",
       " '__lt__',\n",
       " '__module__',\n",
       " '__ne__',\n",
       " '__new__',\n",
       " '__pyx_vtable__',\n",
       " '__radd__',\n",
       " '__reduce__',\n",
       " '__reduce_ex__',\n",
       " '__repr__',\n",
       " '__rsub__',\n",
       " '__setattr__',\n",
       " '__setstate__',\n",
       " '__sizeof__',\n",
       " '__str__',\n",
       " '__sub__',\n",
       " '__subclasshook__',\n",
       " '__weakref__',\n",
       " '_add_delta',\n",
       " '_add_offset',\n",
       " '_dtype',\n",
       " '_from_ordinal',\n",
       " '_get_to_timestamp_base',\n",
       " '_maybe_convert_freq',\n",
       " 'asfreq',\n",
       " 'day',\n",
       " 'dayofweek',\n",
       " 'dayofyear',\n",
       " 'days_in_month',\n",
       " 'daysinmonth',\n",
       " 'end_time',\n",
       " 'freq',\n",
       " 'freqstr',\n",
       " 'hour',\n",
       " 'is_leap_year',\n",
       " 'minute',\n",
       " 'month',\n",
       " 'now',\n",
       " 'ordinal',\n",
       " 'quarter',\n",
       " 'qyear',\n",
       " 'second',\n",
       " 'start_time',\n",
       " 'strftime',\n",
       " 'to_timestamp',\n",
       " 'week',\n",
       " 'weekday',\n",
       " 'weekofyear',\n",
       " 'year']"
      ]
     },
     "execution_count": 215,
     "metadata": {},
     "output_type": "execute_result"
    }
   ],
   "source": [
    "dir(y)                     # properties of y"
   ]
  },
  {
   "cell_type": "code",
   "execution_count": 216,
   "metadata": {},
   "outputs": [
    {
     "data": {
      "text/plain": [
       "Timestamp('2020-01-01 00:00:00')"
      ]
     },
     "execution_count": 216,
     "metadata": {},
     "output_type": "execute_result"
    }
   ],
   "source": [
    "y.start_time"
   ]
  },
  {
   "cell_type": "code",
   "execution_count": 217,
   "metadata": {},
   "outputs": [
    {
     "data": {
      "text/plain": [
       "Timestamp('2020-12-31 23:59:59.999999999')"
      ]
     },
     "execution_count": 217,
     "metadata": {},
     "output_type": "execute_result"
    }
   ],
   "source": [
    "y.end_time"
   ]
  },
  {
   "cell_type": "code",
   "execution_count": 218,
   "metadata": {},
   "outputs": [],
   "source": [
    "m = pd.Period('2020-1', freq='M')        # monthly frequency"
   ]
  },
  {
   "cell_type": "code",
   "execution_count": 219,
   "metadata": {},
   "outputs": [
    {
     "data": {
      "text/plain": [
       "Timestamp('2020-01-01 00:00:00')"
      ]
     },
     "execution_count": 219,
     "metadata": {},
     "output_type": "execute_result"
    }
   ],
   "source": [
    "m.start_time"
   ]
  },
  {
   "cell_type": "code",
   "execution_count": 220,
   "metadata": {},
   "outputs": [
    {
     "data": {
      "text/plain": [
       "Timestamp('2020-01-31 23:59:59.999999999')"
      ]
     },
     "execution_count": 220,
     "metadata": {},
     "output_type": "execute_result"
    }
   ],
   "source": [
    "m.end_time"
   ]
  },
  {
   "cell_type": "code",
   "execution_count": 221,
   "metadata": {},
   "outputs": [
    {
     "data": {
      "text/plain": [
       "Period('2020-02', 'M')"
      ]
     },
     "execution_count": 221,
     "metadata": {},
     "output_type": "execute_result"
    }
   ],
   "source": [
    "m+1                                #  we can perform ARITHMETICOPERATIONS on this type of period "
   ]
  },
  {
   "cell_type": "code",
   "execution_count": 223,
   "metadata": {},
   "outputs": [
    {
     "data": {
      "text/plain": [
       "Period('2020-02-28', 'D')"
      ]
     },
     "execution_count": 223,
     "metadata": {},
     "output_type": "execute_result"
    }
   ],
   "source": [
    "d = pd.Period('2020-2-28')         # actully it automatically detect frequency              # Daily frequency\n",
    "d"
   ]
  },
  {
   "cell_type": "code",
   "execution_count": 224,
   "metadata": {},
   "outputs": [
    {
     "data": {
      "text/plain": [
       "Period('2020-02-29', 'D')"
      ]
     },
     "execution_count": 224,
     "metadata": {},
     "output_type": "execute_result"
    }
   ],
   "source": [
    "d+1                 # as 2020 is leap year it automatically gives 29/feb   (it handle all type of exception properly )"
   ]
  },
  {
   "cell_type": "code",
   "execution_count": 232,
   "metadata": {},
   "outputs": [
    {
     "data": {
      "text/plain": [
       "Period('2020-02-28 23:00:00', 'S')"
      ]
     },
     "execution_count": 232,
     "metadata": {},
     "output_type": "execute_result"
    }
   ],
   "source": [
    "s = pd.Period('2020-2-28 23:00:00')                     # by default it take sec frequency\n",
    "s"
   ]
  },
  {
   "cell_type": "code",
   "execution_count": 233,
   "metadata": {},
   "outputs": [
    {
     "data": {
      "text/plain": [
       "Period('2020-02-28 23:00', 'H')"
      ]
     },
     "execution_count": 233,
     "metadata": {},
     "output_type": "execute_result"
    }
   ],
   "source": [
    "h = pd.Period('2020-2-28 23:00:00', freq='H')           # by default it take sec frequency\n",
    "h"
   ]
  },
  {
   "cell_type": "code",
   "execution_count": 234,
   "metadata": {},
   "outputs": [
    {
     "data": {
      "text/plain": [
       "Timestamp('2020-02-28 23:00:00')"
      ]
     },
     "execution_count": 234,
     "metadata": {},
     "output_type": "execute_result"
    }
   ],
   "source": [
    "h.start_time"
   ]
  },
  {
   "cell_type": "code",
   "execution_count": 235,
   "metadata": {},
   "outputs": [
    {
     "data": {
      "text/plain": [
       "Timestamp('2020-02-28 23:59:59.999999999')"
      ]
     },
     "execution_count": 235,
     "metadata": {},
     "output_type": "execute_result"
    }
   ],
   "source": [
    "h.end_time"
   ]
  },
  {
   "cell_type": "code",
   "execution_count": 236,
   "metadata": {},
   "outputs": [
    {
     "data": {
      "text/plain": [
       "Period('2020-02-29 00:00', 'H')"
      ]
     },
     "execution_count": 236,
     "metadata": {},
     "output_type": "execute_result"
    }
   ],
   "source": [
    "h+1"
   ]
  },
  {
   "cell_type": "code",
   "execution_count": 237,
   "metadata": {},
   "outputs": [
    {
     "data": {
      "text/plain": [
       "Period('2020-02-29 00:00', 'H')"
      ]
     },
     "execution_count": 237,
     "metadata": {},
     "output_type": "execute_result"
    }
   ],
   "source": [
    "h+pd.offsets.Hour(1)                # can add 1 Hour like this also"
   ]
  },
  {
   "cell_type": "code",
   "execution_count": 239,
   "metadata": {},
   "outputs": [
    {
     "data": {
      "text/plain": [
       "Period('2020Q1', 'Q-DEC')"
      ]
     },
     "execution_count": 239,
     "metadata": {},
     "output_type": "execute_result"
    }
   ],
   "source": [
    "q = pd.Period('2020Q1')\n",
    "q"
   ]
  },
  {
   "cell_type": "code",
   "execution_count": 240,
   "metadata": {},
   "outputs": [
    {
     "data": {
      "text/plain": [
       "Period('2020Q2', 'Q-DEC')"
      ]
     },
     "execution_count": 240,
     "metadata": {},
     "output_type": "execute_result"
    }
   ],
   "source": [
    "q+1"
   ]
  },
  {
   "cell_type": "code",
   "execution_count": 242,
   "metadata": {},
   "outputs": [
    {
     "data": {
      "text/plain": [
       "Period('2020Q1', 'Q-JAN')"
      ]
     },
     "execution_count": 242,
     "metadata": {},
     "output_type": "execute_result"
    }
   ],
   "source": [
    "q = pd.Period('2020Q1', freq='Q-JAN')     # period is ending in JANUARY\n",
    "q"
   ]
  },
  {
   "cell_type": "code",
   "execution_count": 247,
   "metadata": {},
   "outputs": [
    {
     "data": {
      "text/plain": [
       "Timestamp('2019-02-01 00:00:00')"
      ]
     },
     "execution_count": 247,
     "metadata": {},
     "output_type": "execute_result"
    }
   ],
   "source": [
    "q.start_time                          # start from FEB   end in JAN"
   ]
  },
  {
   "cell_type": "code",
   "execution_count": 248,
   "metadata": {},
   "outputs": [
    {
     "data": {
      "text/plain": [
       "Timestamp('2019-04-30 23:59:59.999999999')"
      ]
     },
     "execution_count": 248,
     "metadata": {},
     "output_type": "execute_result"
    }
   ],
   "source": [
    "q.end_time                            # start from FEB   end in JAN"
   ]
  },
  {
   "cell_type": "code",
   "execution_count": null,
   "metadata": {},
   "outputs": [],
   "source": [
    "q.asfreq('M', how='start')          # from 1 freq to other"
   ]
  },
  {
   "cell_type": "code",
   "execution_count": 251,
   "metadata": {},
   "outputs": [
    {
     "data": {
      "text/plain": [
       "<-2 * QuarterEnds: startingMonth=1>"
      ]
     },
     "execution_count": 251,
     "metadata": {},
     "output_type": "execute_result"
    }
   ],
   "source": [
    "q = pd.Period('2020Q1', freq='Q-JAN') \n",
    "q2= pd.Period('2019Q3', freq='Q-JAN') \n",
    "q2 - q                                       # there are 2 quarters between these 2 period"
   ]
  },
  {
   "cell_type": "markdown",
   "metadata": {},
   "source": [
    "**Period as Index**"
   ]
  },
  {
   "cell_type": "code",
   "execution_count": 253,
   "metadata": {},
   "outputs": [
    {
     "data": {
      "text/plain": [
       "PeriodIndex(['2011Q4', '2012Q1', '2012Q2', '2012Q3', '2012Q4', '2013Q1',\n",
       "             '2013Q2', '2013Q3', '2013Q4', '2014Q1', '2014Q2', '2014Q3',\n",
       "             '2014Q4', '2015Q1', '2015Q2', '2015Q3', '2015Q4', '2016Q1',\n",
       "             '2016Q2', '2016Q3', '2016Q4', '2017Q1', '2017Q2', '2017Q3',\n",
       "             '2017Q4'],\n",
       "            dtype='period[Q-JAN]', freq='Q-JAN')"
      ]
     },
     "execution_count": 253,
     "metadata": {},
     "output_type": "execute_result"
    }
   ],
   "source": [
    "idx = pd.period_range('2011', '2017', freq='Q-JAN')        #  to generate 10 periods\n",
    "idx"
   ]
  },
  {
   "cell_type": "code",
   "execution_count": 254,
   "metadata": {},
   "outputs": [
    {
     "data": {
      "text/plain": [
       "Timestamp('2010-11-01 00:00:00')"
      ]
     },
     "execution_count": 254,
     "metadata": {},
     "output_type": "execute_result"
    }
   ],
   "source": [
    "idx[0].start_time"
   ]
  },
  {
   "cell_type": "code",
   "execution_count": 255,
   "metadata": {},
   "outputs": [
    {
     "data": {
      "text/plain": [
       "Timestamp('2011-01-31 23:59:59.999999999')"
      ]
     },
     "execution_count": 255,
     "metadata": {},
     "output_type": "execute_result"
    }
   ],
   "source": [
    "idx[0].end_time"
   ]
  },
  {
   "cell_type": "code",
   "execution_count": 257,
   "metadata": {},
   "outputs": [
    {
     "data": {
      "text/plain": [
       "PeriodIndex(['2011Q4', '2012Q1', '2012Q2', '2012Q3', '2012Q4', '2013Q1',\n",
       "             '2013Q2', '2013Q3', '2013Q4', '2014Q1'],\n",
       "            dtype='period[Q-JAN]', freq='Q-JAN')"
      ]
     },
     "execution_count": 257,
     "metadata": {},
     "output_type": "execute_result"
    }
   ],
   "source": [
    "idx = pd.period_range('2011', periods=10 , freq='Q-JAN')        #  to generate 10 periods\n",
    "idx"
   ]
  },
  {
   "cell_type": "code",
   "execution_count": 258,
   "metadata": {},
   "outputs": [
    {
     "data": {
      "text/plain": [
       "2011Q4   -1.281988\n",
       "2012Q1    0.112018\n",
       "2012Q2   -0.344636\n",
       "2012Q3    0.385518\n",
       "2012Q4    1.140809\n",
       "2013Q1   -0.259470\n",
       "2013Q2   -2.183140\n",
       "2013Q3   -0.489925\n",
       "2013Q4   -0.477099\n",
       "2014Q1    0.239730\n",
       "Freq: Q-JAN, dtype: float64"
      ]
     },
     "execution_count": 258,
     "metadata": {},
     "output_type": "execute_result"
    }
   ],
   "source": [
    "import numpy as np\n",
    "ps = pd.Series(np.random.randn(len(idx)), idx)              # Generate random data\n",
    "ps"
   ]
  },
  {
   "cell_type": "code",
   "execution_count": 259,
   "metadata": {},
   "outputs": [
    {
     "data": {
      "text/plain": [
       "PeriodIndex(['2011Q4', '2012Q1', '2012Q2', '2012Q3', '2012Q4', '2013Q1',\n",
       "             '2013Q2', '2013Q3', '2013Q4', '2014Q1'],\n",
       "            dtype='period[Q-JAN]', freq='Q-JAN')"
      ]
     },
     "execution_count": 259,
     "metadata": {},
     "output_type": "execute_result"
    }
   ],
   "source": [
    "ps.index"
   ]
  },
  {
   "cell_type": "code",
   "execution_count": 260,
   "metadata": {},
   "outputs": [
    {
     "data": {
      "text/plain": [
       "2011Q4   -1.281988\n",
       "2012Q1    0.112018\n",
       "2012Q2   -0.344636\n",
       "2012Q3    0.385518\n",
       "2012Q4    1.140809\n",
       "Freq: Q-JAN, dtype: float64"
      ]
     },
     "execution_count": 260,
     "metadata": {},
     "output_type": "execute_result"
    }
   ],
   "source": [
    "ps['2011']                            # index help to access data easily"
   ]
  },
  {
   "cell_type": "code",
   "execution_count": 261,
   "metadata": {},
   "outputs": [
    {
     "data": {
      "text/plain": [
       "2010-11-01   -1.281988\n",
       "2011-02-01    0.112018\n",
       "2011-05-01   -0.344636\n",
       "2011-08-01    0.385518\n",
       "2011-11-01    1.140809\n",
       "2012-02-01   -0.259470\n",
       "2012-05-01   -2.183140\n",
       "2012-08-01   -0.489925\n",
       "2012-11-01   -0.477099\n",
       "2013-02-01    0.239730\n",
       "Freq: QS-NOV, dtype: float64"
      ]
     },
     "execution_count": 261,
     "metadata": {},
     "output_type": "execute_result"
    }
   ],
   "source": [
    "pst = ps.to_timestamp()                 # period_index to dateTimeIndex\n",
    "pst"
   ]
  },
  {
   "cell_type": "code",
   "execution_count": 262,
   "metadata": {},
   "outputs": [
    {
     "data": {
      "text/plain": [
       "DatetimeIndex(['2010-11-01', '2011-02-01', '2011-05-01', '2011-08-01',\n",
       "               '2011-11-01', '2012-02-01', '2012-05-01', '2012-08-01',\n",
       "               '2012-11-01', '2013-02-01'],\n",
       "              dtype='datetime64[ns]', freq='QS-NOV')"
      ]
     },
     "execution_count": 262,
     "metadata": {},
     "output_type": "execute_result"
    }
   ],
   "source": [
    "pst.index"
   ]
  },
  {
   "cell_type": "code",
   "execution_count": 263,
   "metadata": {
    "scrolled": true
   },
   "outputs": [
    {
     "data": {
      "text/plain": [
       "2010Q4   -1.281988\n",
       "2011Q1    0.112018\n",
       "2011Q2   -0.344636\n",
       "2011Q3    0.385518\n",
       "2011Q4    1.140809\n",
       "2012Q1   -0.259470\n",
       "2012Q2   -2.183140\n",
       "2012Q3   -0.489925\n",
       "2012Q4   -0.477099\n",
       "2013Q1    0.239730\n",
       "Freq: Q-DEC, dtype: float64"
      ]
     },
     "execution_count": 263,
     "metadata": {},
     "output_type": "execute_result"
    }
   ],
   "source": [
    "pst.to_period()                 #  dateTimeIndex  to  period_index"
   ]
  },
  {
   "cell_type": "markdown",
   "metadata": {},
   "source": [
    "## Timezone Handling"
   ]
  },
  {
   "cell_type": "markdown",
   "metadata": {},
   "source": [
    "<br> **Two Types of DateTime Objects in Python**\n",
    "1) Naive (No timezone awareness)<br>\n",
    "2) Timezone aware DateTime"
   ]
  },
  {
   "cell_type": "code",
   "execution_count": 285,
   "metadata": {
    "scrolled": true
   },
   "outputs": [
    {
     "data": {
      "text/html": [
       "<div>\n",
       "<style scoped>\n",
       "    .dataframe tbody tr th:only-of-type {\n",
       "        vertical-align: middle;\n",
       "    }\n",
       "\n",
       "    .dataframe tbody tr th {\n",
       "        vertical-align: top;\n",
       "    }\n",
       "\n",
       "    .dataframe thead th {\n",
       "        text-align: right;\n",
       "    }\n",
       "</style>\n",
       "<table border=\"1\" class=\"dataframe\">\n",
       "  <thead>\n",
       "    <tr style=\"text-align: right;\">\n",
       "      <th></th>\n",
       "      <th>Price</th>\n",
       "    </tr>\n",
       "    <tr>\n",
       "      <th>Date Time</th>\n",
       "      <th></th>\n",
       "    </tr>\n",
       "  </thead>\n",
       "  <tbody>\n",
       "    <tr>\n",
       "      <th>2020-08-17 09:00:00</th>\n",
       "      <td>72</td>\n",
       "    </tr>\n",
       "    <tr>\n",
       "      <th>2020-08-17 09:00:15</th>\n",
       "      <td>71</td>\n",
       "    </tr>\n",
       "    <tr>\n",
       "      <th>2020-08-17 09:00:30</th>\n",
       "      <td>70</td>\n",
       "    </tr>\n",
       "    <tr>\n",
       "      <th>2020-08-17 09:00:45</th>\n",
       "      <td>74</td>\n",
       "    </tr>\n",
       "    <tr>\n",
       "      <th>2020-08-17 10:00:00</th>\n",
       "      <td>75</td>\n",
       "    </tr>\n",
       "    <tr>\n",
       "      <th>2020-08-17 10:00:15</th>\n",
       "      <td>71</td>\n",
       "    </tr>\n",
       "    <tr>\n",
       "      <th>2020-08-17 10:00:30</th>\n",
       "      <td>73</td>\n",
       "    </tr>\n",
       "  </tbody>\n",
       "</table>\n",
       "</div>"
      ],
      "text/plain": [
       "                     Price\n",
       "Date Time                 \n",
       "2020-08-17 09:00:00     72\n",
       "2020-08-17 09:00:15     71\n",
       "2020-08-17 09:00:30     70\n",
       "2020-08-17 09:00:45     74\n",
       "2020-08-17 10:00:00     75\n",
       "2020-08-17 10:00:15     71\n",
       "2020-08-17 10:00:30     73"
      ]
     },
     "execution_count": 285,
     "metadata": {},
     "output_type": "execute_result"
    }
   ],
   "source": [
    "df                               # let this is DF  with index of type dateTime"
   ]
  },
  {
   "cell_type": "code",
   "execution_count": 286,
   "metadata": {},
   "outputs": [
    {
     "data": {
      "text/plain": [
       "DatetimeIndex(['2020-08-17 09:00:00', '2020-08-17 09:00:15',\n",
       "               '2020-08-17 09:00:30', '2020-08-17 09:00:45',\n",
       "               '2020-08-17 10:00:00', '2020-08-17 10:00:15',\n",
       "               '2020-08-17 10:00:30'],\n",
       "              dtype='datetime64[ns]', name='Date Time', freq=None)"
      ]
     },
     "execution_count": 286,
     "metadata": {},
     "output_type": "execute_result"
    }
   ],
   "source": [
    "df.index"
   ]
  },
  {
   "cell_type": "code",
   "execution_count": 288,
   "metadata": {},
   "outputs": [
    {
     "data": {
      "text/plain": [
       "DatetimeIndex(['2020-08-17 09:00:00-04:00', '2020-08-17 09:00:15-04:00',\n",
       "               '2020-08-17 09:00:30-04:00', '2020-08-17 09:00:45-04:00',\n",
       "               '2020-08-17 10:00:00-04:00', '2020-08-17 10:00:15-04:00',\n",
       "               '2020-08-17 10:00:30-04:00'],\n",
       "              dtype='datetime64[ns, US/Eastern]', name='Date Time', freq=None)"
      ]
     },
     "execution_count": 288,
     "metadata": {},
     "output_type": "execute_result"
    }
   ],
   "source": [
    "df = df.tz_localize(tz='US/Eastern')          #  US/Eastern  is -4 hour from  UTC\n",
    "df.index"
   ]
  },
  {
   "cell_type": "code",
   "execution_count": 291,
   "metadata": {},
   "outputs": [
    {
     "data": {
      "text/html": [
       "<div>\n",
       "<style scoped>\n",
       "    .dataframe tbody tr th:only-of-type {\n",
       "        vertical-align: middle;\n",
       "    }\n",
       "\n",
       "    .dataframe tbody tr th {\n",
       "        vertical-align: top;\n",
       "    }\n",
       "\n",
       "    .dataframe thead th {\n",
       "        text-align: right;\n",
       "    }\n",
       "</style>\n",
       "<table border=\"1\" class=\"dataframe\">\n",
       "  <thead>\n",
       "    <tr style=\"text-align: right;\">\n",
       "      <th></th>\n",
       "      <th>Price</th>\n",
       "    </tr>\n",
       "    <tr>\n",
       "      <th>Date Time</th>\n",
       "      <th></th>\n",
       "    </tr>\n",
       "  </thead>\n",
       "  <tbody>\n",
       "    <tr>\n",
       "      <th>2020-08-17 15:00:00+02:00</th>\n",
       "      <td>72</td>\n",
       "    </tr>\n",
       "    <tr>\n",
       "      <th>2020-08-17 15:00:15+02:00</th>\n",
       "      <td>71</td>\n",
       "    </tr>\n",
       "    <tr>\n",
       "      <th>2020-08-17 15:00:30+02:00</th>\n",
       "      <td>70</td>\n",
       "    </tr>\n",
       "    <tr>\n",
       "      <th>2020-08-17 15:00:45+02:00</th>\n",
       "      <td>74</td>\n",
       "    </tr>\n",
       "    <tr>\n",
       "      <th>2020-08-17 16:00:00+02:00</th>\n",
       "      <td>75</td>\n",
       "    </tr>\n",
       "    <tr>\n",
       "      <th>2020-08-17 16:00:15+02:00</th>\n",
       "      <td>71</td>\n",
       "    </tr>\n",
       "    <tr>\n",
       "      <th>2020-08-17 16:00:30+02:00</th>\n",
       "      <td>73</td>\n",
       "    </tr>\n",
       "  </tbody>\n",
       "</table>\n",
       "</div>"
      ],
      "text/plain": [
       "                           Price\n",
       "Date Time                       \n",
       "2020-08-17 15:00:00+02:00     72\n",
       "2020-08-17 15:00:15+02:00     71\n",
       "2020-08-17 15:00:30+02:00     70\n",
       "2020-08-17 15:00:45+02:00     74\n",
       "2020-08-17 16:00:00+02:00     75\n",
       "2020-08-17 16:00:15+02:00     71\n",
       "2020-08-17 16:00:30+02:00     73"
      ]
     },
     "execution_count": 291,
     "metadata": {},
     "output_type": "execute_result"
    }
   ],
   "source": [
    "df = df.tz_convert(tz='Europe/Berlin')\n",
    "df"
   ]
  },
  {
   "cell_type": "code",
   "execution_count": 293,
   "metadata": {},
   "outputs": [
    {
     "data": {
      "text/plain": [
       "['Africa/Abidjan',\n",
       " 'Africa/Accra',\n",
       " 'Africa/Addis_Ababa',\n",
       " 'Africa/Algiers',\n",
       " 'Africa/Asmara',\n",
       " 'Africa/Asmera',\n",
       " 'Africa/Bamako',\n",
       " 'Africa/Bangui',\n",
       " 'Africa/Banjul',\n",
       " 'Africa/Bissau',\n",
       " 'Africa/Blantyre',\n",
       " 'Africa/Brazzaville',\n",
       " 'Africa/Bujumbura',\n",
       " 'Africa/Cairo',\n",
       " 'Africa/Casablanca',\n",
       " 'Africa/Ceuta',\n",
       " 'Africa/Conakry',\n",
       " 'Africa/Dakar',\n",
       " 'Africa/Dar_es_Salaam',\n",
       " 'Africa/Djibouti',\n",
       " 'Africa/Douala',\n",
       " 'Africa/El_Aaiun',\n",
       " 'Africa/Freetown',\n",
       " 'Africa/Gaborone',\n",
       " 'Africa/Harare',\n",
       " 'Africa/Johannesburg',\n",
       " 'Africa/Juba',\n",
       " 'Africa/Kampala',\n",
       " 'Africa/Khartoum',\n",
       " 'Africa/Kigali',\n",
       " 'Africa/Kinshasa',\n",
       " 'Africa/Lagos',\n",
       " 'Africa/Libreville',\n",
       " 'Africa/Lome',\n",
       " 'Africa/Luanda',\n",
       " 'Africa/Lubumbashi',\n",
       " 'Africa/Lusaka',\n",
       " 'Africa/Malabo',\n",
       " 'Africa/Maputo',\n",
       " 'Africa/Maseru',\n",
       " 'Africa/Mbabane',\n",
       " 'Africa/Mogadishu',\n",
       " 'Africa/Monrovia',\n",
       " 'Africa/Nairobi',\n",
       " 'Africa/Ndjamena',\n",
       " 'Africa/Niamey',\n",
       " 'Africa/Nouakchott',\n",
       " 'Africa/Ouagadougou',\n",
       " 'Africa/Porto-Novo',\n",
       " 'Africa/Sao_Tome',\n",
       " 'Africa/Timbuktu',\n",
       " 'Africa/Tripoli',\n",
       " 'Africa/Tunis',\n",
       " 'Africa/Windhoek',\n",
       " 'America/Adak',\n",
       " 'America/Anchorage',\n",
       " 'America/Anguilla',\n",
       " 'America/Antigua',\n",
       " 'America/Araguaina',\n",
       " 'America/Argentina/Buenos_Aires',\n",
       " 'America/Argentina/Catamarca',\n",
       " 'America/Argentina/ComodRivadavia',\n",
       " 'America/Argentina/Cordoba',\n",
       " 'America/Argentina/Jujuy',\n",
       " 'America/Argentina/La_Rioja',\n",
       " 'America/Argentina/Mendoza',\n",
       " 'America/Argentina/Rio_Gallegos',\n",
       " 'America/Argentina/Salta',\n",
       " 'America/Argentina/San_Juan',\n",
       " 'America/Argentina/San_Luis',\n",
       " 'America/Argentina/Tucuman',\n",
       " 'America/Argentina/Ushuaia',\n",
       " 'America/Aruba',\n",
       " 'America/Asuncion',\n",
       " 'America/Atikokan',\n",
       " 'America/Atka',\n",
       " 'America/Bahia',\n",
       " 'America/Bahia_Banderas',\n",
       " 'America/Barbados',\n",
       " 'America/Belem',\n",
       " 'America/Belize',\n",
       " 'America/Blanc-Sablon',\n",
       " 'America/Boa_Vista',\n",
       " 'America/Bogota',\n",
       " 'America/Boise',\n",
       " 'America/Buenos_Aires',\n",
       " 'America/Cambridge_Bay',\n",
       " 'America/Campo_Grande',\n",
       " 'America/Cancun',\n",
       " 'America/Caracas',\n",
       " 'America/Catamarca',\n",
       " 'America/Cayenne',\n",
       " 'America/Cayman',\n",
       " 'America/Chicago',\n",
       " 'America/Chihuahua',\n",
       " 'America/Coral_Harbour',\n",
       " 'America/Cordoba',\n",
       " 'America/Costa_Rica',\n",
       " 'America/Creston',\n",
       " 'America/Cuiaba',\n",
       " 'America/Curacao',\n",
       " 'America/Danmarkshavn',\n",
       " 'America/Dawson',\n",
       " 'America/Dawson_Creek',\n",
       " 'America/Denver',\n",
       " 'America/Detroit',\n",
       " 'America/Dominica',\n",
       " 'America/Edmonton',\n",
       " 'America/Eirunepe',\n",
       " 'America/El_Salvador',\n",
       " 'America/Ensenada',\n",
       " 'America/Fort_Nelson',\n",
       " 'America/Fort_Wayne',\n",
       " 'America/Fortaleza',\n",
       " 'America/Glace_Bay',\n",
       " 'America/Godthab',\n",
       " 'America/Goose_Bay',\n",
       " 'America/Grand_Turk',\n",
       " 'America/Grenada',\n",
       " 'America/Guadeloupe',\n",
       " 'America/Guatemala',\n",
       " 'America/Guayaquil',\n",
       " 'America/Guyana',\n",
       " 'America/Halifax',\n",
       " 'America/Havana',\n",
       " 'America/Hermosillo',\n",
       " 'America/Indiana/Indianapolis',\n",
       " 'America/Indiana/Knox',\n",
       " 'America/Indiana/Marengo',\n",
       " 'America/Indiana/Petersburg',\n",
       " 'America/Indiana/Tell_City',\n",
       " 'America/Indiana/Vevay',\n",
       " 'America/Indiana/Vincennes',\n",
       " 'America/Indiana/Winamac',\n",
       " 'America/Indianapolis',\n",
       " 'America/Inuvik',\n",
       " 'America/Iqaluit',\n",
       " 'America/Jamaica',\n",
       " 'America/Jujuy',\n",
       " 'America/Juneau',\n",
       " 'America/Kentucky/Louisville',\n",
       " 'America/Kentucky/Monticello',\n",
       " 'America/Knox_IN',\n",
       " 'America/Kralendijk',\n",
       " 'America/La_Paz',\n",
       " 'America/Lima',\n",
       " 'America/Los_Angeles',\n",
       " 'America/Louisville',\n",
       " 'America/Lower_Princes',\n",
       " 'America/Maceio',\n",
       " 'America/Managua',\n",
       " 'America/Manaus',\n",
       " 'America/Marigot',\n",
       " 'America/Martinique',\n",
       " 'America/Matamoros',\n",
       " 'America/Mazatlan',\n",
       " 'America/Mendoza',\n",
       " 'America/Menominee',\n",
       " 'America/Merida',\n",
       " 'America/Metlakatla',\n",
       " 'America/Mexico_City',\n",
       " 'America/Miquelon',\n",
       " 'America/Moncton',\n",
       " 'America/Monterrey',\n",
       " 'America/Montevideo',\n",
       " 'America/Montreal',\n",
       " 'America/Montserrat',\n",
       " 'America/Nassau',\n",
       " 'America/New_York',\n",
       " 'America/Nipigon',\n",
       " 'America/Nome',\n",
       " 'America/Noronha',\n",
       " 'America/North_Dakota/Beulah',\n",
       " 'America/North_Dakota/Center',\n",
       " 'America/North_Dakota/New_Salem',\n",
       " 'America/Nuuk',\n",
       " 'America/Ojinaga',\n",
       " 'America/Panama',\n",
       " 'America/Pangnirtung',\n",
       " 'America/Paramaribo',\n",
       " 'America/Phoenix',\n",
       " 'America/Port-au-Prince',\n",
       " 'America/Port_of_Spain',\n",
       " 'America/Porto_Acre',\n",
       " 'America/Porto_Velho',\n",
       " 'America/Puerto_Rico',\n",
       " 'America/Punta_Arenas',\n",
       " 'America/Rainy_River',\n",
       " 'America/Rankin_Inlet',\n",
       " 'America/Recife',\n",
       " 'America/Regina',\n",
       " 'America/Resolute',\n",
       " 'America/Rio_Branco',\n",
       " 'America/Rosario',\n",
       " 'America/Santa_Isabel',\n",
       " 'America/Santarem',\n",
       " 'America/Santiago',\n",
       " 'America/Santo_Domingo',\n",
       " 'America/Sao_Paulo',\n",
       " 'America/Scoresbysund',\n",
       " 'America/Shiprock',\n",
       " 'America/Sitka',\n",
       " 'America/St_Barthelemy',\n",
       " 'America/St_Johns',\n",
       " 'America/St_Kitts',\n",
       " 'America/St_Lucia',\n",
       " 'America/St_Thomas',\n",
       " 'America/St_Vincent',\n",
       " 'America/Swift_Current',\n",
       " 'America/Tegucigalpa',\n",
       " 'America/Thule',\n",
       " 'America/Thunder_Bay',\n",
       " 'America/Tijuana',\n",
       " 'America/Toronto',\n",
       " 'America/Tortola',\n",
       " 'America/Vancouver',\n",
       " 'America/Virgin',\n",
       " 'America/Whitehorse',\n",
       " 'America/Winnipeg',\n",
       " 'America/Yakutat',\n",
       " 'America/Yellowknife',\n",
       " 'Antarctica/Casey',\n",
       " 'Antarctica/Davis',\n",
       " 'Antarctica/DumontDUrville',\n",
       " 'Antarctica/Macquarie',\n",
       " 'Antarctica/Mawson',\n",
       " 'Antarctica/McMurdo',\n",
       " 'Antarctica/Palmer',\n",
       " 'Antarctica/Rothera',\n",
       " 'Antarctica/South_Pole',\n",
       " 'Antarctica/Syowa',\n",
       " 'Antarctica/Troll',\n",
       " 'Antarctica/Vostok',\n",
       " 'Arctic/Longyearbyen',\n",
       " 'Asia/Aden',\n",
       " 'Asia/Almaty',\n",
       " 'Asia/Amman',\n",
       " 'Asia/Anadyr',\n",
       " 'Asia/Aqtau',\n",
       " 'Asia/Aqtobe',\n",
       " 'Asia/Ashgabat',\n",
       " 'Asia/Ashkhabad',\n",
       " 'Asia/Atyrau',\n",
       " 'Asia/Baghdad',\n",
       " 'Asia/Bahrain',\n",
       " 'Asia/Baku',\n",
       " 'Asia/Bangkok',\n",
       " 'Asia/Barnaul',\n",
       " 'Asia/Beirut',\n",
       " 'Asia/Bishkek',\n",
       " 'Asia/Brunei',\n",
       " 'Asia/Calcutta',\n",
       " 'Asia/Chita',\n",
       " 'Asia/Choibalsan',\n",
       " 'Asia/Chongqing',\n",
       " 'Asia/Chungking',\n",
       " 'Asia/Colombo',\n",
       " 'Asia/Dacca',\n",
       " 'Asia/Damascus',\n",
       " 'Asia/Dhaka',\n",
       " 'Asia/Dili',\n",
       " 'Asia/Dubai',\n",
       " 'Asia/Dushanbe',\n",
       " 'Asia/Famagusta',\n",
       " 'Asia/Gaza',\n",
       " 'Asia/Harbin',\n",
       " 'Asia/Hebron',\n",
       " 'Asia/Ho_Chi_Minh',\n",
       " 'Asia/Hong_Kong',\n",
       " 'Asia/Hovd',\n",
       " 'Asia/Irkutsk',\n",
       " 'Asia/Istanbul',\n",
       " 'Asia/Jakarta',\n",
       " 'Asia/Jayapura',\n",
       " 'Asia/Jerusalem',\n",
       " 'Asia/Kabul',\n",
       " 'Asia/Kamchatka',\n",
       " 'Asia/Karachi',\n",
       " 'Asia/Kashgar',\n",
       " 'Asia/Kathmandu',\n",
       " 'Asia/Katmandu',\n",
       " 'Asia/Khandyga',\n",
       " 'Asia/Kolkata',\n",
       " 'Asia/Krasnoyarsk',\n",
       " 'Asia/Kuala_Lumpur',\n",
       " 'Asia/Kuching',\n",
       " 'Asia/Kuwait',\n",
       " 'Asia/Macao',\n",
       " 'Asia/Macau',\n",
       " 'Asia/Magadan',\n",
       " 'Asia/Makassar',\n",
       " 'Asia/Manila',\n",
       " 'Asia/Muscat',\n",
       " 'Asia/Nicosia',\n",
       " 'Asia/Novokuznetsk',\n",
       " 'Asia/Novosibirsk',\n",
       " 'Asia/Omsk',\n",
       " 'Asia/Oral',\n",
       " 'Asia/Phnom_Penh',\n",
       " 'Asia/Pontianak',\n",
       " 'Asia/Pyongyang',\n",
       " 'Asia/Qatar',\n",
       " 'Asia/Qostanay',\n",
       " 'Asia/Qyzylorda',\n",
       " 'Asia/Rangoon',\n",
       " 'Asia/Riyadh',\n",
       " 'Asia/Saigon',\n",
       " 'Asia/Sakhalin',\n",
       " 'Asia/Samarkand',\n",
       " 'Asia/Seoul',\n",
       " 'Asia/Shanghai',\n",
       " 'Asia/Singapore',\n",
       " 'Asia/Srednekolymsk',\n",
       " 'Asia/Taipei',\n",
       " 'Asia/Tashkent',\n",
       " 'Asia/Tbilisi',\n",
       " 'Asia/Tehran',\n",
       " 'Asia/Tel_Aviv',\n",
       " 'Asia/Thimbu',\n",
       " 'Asia/Thimphu',\n",
       " 'Asia/Tokyo',\n",
       " 'Asia/Tomsk',\n",
       " 'Asia/Ujung_Pandang',\n",
       " 'Asia/Ulaanbaatar',\n",
       " 'Asia/Ulan_Bator',\n",
       " 'Asia/Urumqi',\n",
       " 'Asia/Ust-Nera',\n",
       " 'Asia/Vientiane',\n",
       " 'Asia/Vladivostok',\n",
       " 'Asia/Yakutsk',\n",
       " 'Asia/Yangon',\n",
       " 'Asia/Yekaterinburg',\n",
       " 'Asia/Yerevan',\n",
       " 'Atlantic/Azores',\n",
       " 'Atlantic/Bermuda',\n",
       " 'Atlantic/Canary',\n",
       " 'Atlantic/Cape_Verde',\n",
       " 'Atlantic/Faeroe',\n",
       " 'Atlantic/Faroe',\n",
       " 'Atlantic/Jan_Mayen',\n",
       " 'Atlantic/Madeira',\n",
       " 'Atlantic/Reykjavik',\n",
       " 'Atlantic/South_Georgia',\n",
       " 'Atlantic/St_Helena',\n",
       " 'Atlantic/Stanley',\n",
       " 'Australia/ACT',\n",
       " 'Australia/Adelaide',\n",
       " 'Australia/Brisbane',\n",
       " 'Australia/Broken_Hill',\n",
       " 'Australia/Canberra',\n",
       " 'Australia/Currie',\n",
       " 'Australia/Darwin',\n",
       " 'Australia/Eucla',\n",
       " 'Australia/Hobart',\n",
       " 'Australia/LHI',\n",
       " 'Australia/Lindeman',\n",
       " 'Australia/Lord_Howe',\n",
       " 'Australia/Melbourne',\n",
       " 'Australia/NSW',\n",
       " 'Australia/North',\n",
       " 'Australia/Perth',\n",
       " 'Australia/Queensland',\n",
       " 'Australia/South',\n",
       " 'Australia/Sydney',\n",
       " 'Australia/Tasmania',\n",
       " 'Australia/Victoria',\n",
       " 'Australia/West',\n",
       " 'Australia/Yancowinna',\n",
       " 'Brazil/Acre',\n",
       " 'Brazil/DeNoronha',\n",
       " 'Brazil/East',\n",
       " 'Brazil/West',\n",
       " 'CET',\n",
       " 'CST6CDT',\n",
       " 'Canada/Atlantic',\n",
       " 'Canada/Central',\n",
       " 'Canada/Eastern',\n",
       " 'Canada/Mountain',\n",
       " 'Canada/Newfoundland',\n",
       " 'Canada/Pacific',\n",
       " 'Canada/Saskatchewan',\n",
       " 'Canada/Yukon',\n",
       " 'Chile/Continental',\n",
       " 'Chile/EasterIsland',\n",
       " 'Cuba',\n",
       " 'EET',\n",
       " 'EST',\n",
       " 'EST5EDT',\n",
       " 'Egypt',\n",
       " 'Eire',\n",
       " 'Etc/GMT',\n",
       " 'Etc/GMT+0',\n",
       " 'Etc/GMT+1',\n",
       " 'Etc/GMT+10',\n",
       " 'Etc/GMT+11',\n",
       " 'Etc/GMT+12',\n",
       " 'Etc/GMT+2',\n",
       " 'Etc/GMT+3',\n",
       " 'Etc/GMT+4',\n",
       " 'Etc/GMT+5',\n",
       " 'Etc/GMT+6',\n",
       " 'Etc/GMT+7',\n",
       " 'Etc/GMT+8',\n",
       " 'Etc/GMT+9',\n",
       " 'Etc/GMT-0',\n",
       " 'Etc/GMT-1',\n",
       " 'Etc/GMT-10',\n",
       " 'Etc/GMT-11',\n",
       " 'Etc/GMT-12',\n",
       " 'Etc/GMT-13',\n",
       " 'Etc/GMT-14',\n",
       " 'Etc/GMT-2',\n",
       " 'Etc/GMT-3',\n",
       " 'Etc/GMT-4',\n",
       " 'Etc/GMT-5',\n",
       " 'Etc/GMT-6',\n",
       " 'Etc/GMT-7',\n",
       " 'Etc/GMT-8',\n",
       " 'Etc/GMT-9',\n",
       " 'Etc/GMT0',\n",
       " 'Etc/Greenwich',\n",
       " 'Etc/UCT',\n",
       " 'Etc/UTC',\n",
       " 'Etc/Universal',\n",
       " 'Etc/Zulu',\n",
       " 'Europe/Amsterdam',\n",
       " 'Europe/Andorra',\n",
       " 'Europe/Astrakhan',\n",
       " 'Europe/Athens',\n",
       " 'Europe/Belfast',\n",
       " 'Europe/Belgrade',\n",
       " 'Europe/Berlin',\n",
       " 'Europe/Bratislava',\n",
       " 'Europe/Brussels',\n",
       " 'Europe/Bucharest',\n",
       " 'Europe/Budapest',\n",
       " 'Europe/Busingen',\n",
       " 'Europe/Chisinau',\n",
       " 'Europe/Copenhagen',\n",
       " 'Europe/Dublin',\n",
       " 'Europe/Gibraltar',\n",
       " 'Europe/Guernsey',\n",
       " 'Europe/Helsinki',\n",
       " 'Europe/Isle_of_Man',\n",
       " 'Europe/Istanbul',\n",
       " 'Europe/Jersey',\n",
       " 'Europe/Kaliningrad',\n",
       " 'Europe/Kiev',\n",
       " 'Europe/Kirov',\n",
       " 'Europe/Lisbon',\n",
       " 'Europe/Ljubljana',\n",
       " 'Europe/London',\n",
       " 'Europe/Luxembourg',\n",
       " 'Europe/Madrid',\n",
       " 'Europe/Malta',\n",
       " 'Europe/Mariehamn',\n",
       " 'Europe/Minsk',\n",
       " 'Europe/Monaco',\n",
       " 'Europe/Moscow',\n",
       " 'Europe/Nicosia',\n",
       " 'Europe/Oslo',\n",
       " 'Europe/Paris',\n",
       " 'Europe/Podgorica',\n",
       " 'Europe/Prague',\n",
       " 'Europe/Riga',\n",
       " 'Europe/Rome',\n",
       " 'Europe/Samara',\n",
       " 'Europe/San_Marino',\n",
       " 'Europe/Sarajevo',\n",
       " 'Europe/Saratov',\n",
       " 'Europe/Simferopol',\n",
       " 'Europe/Skopje',\n",
       " 'Europe/Sofia',\n",
       " 'Europe/Stockholm',\n",
       " 'Europe/Tallinn',\n",
       " 'Europe/Tirane',\n",
       " 'Europe/Tiraspol',\n",
       " 'Europe/Ulyanovsk',\n",
       " 'Europe/Uzhgorod',\n",
       " 'Europe/Vaduz',\n",
       " 'Europe/Vatican',\n",
       " 'Europe/Vienna',\n",
       " 'Europe/Vilnius',\n",
       " 'Europe/Volgograd',\n",
       " 'Europe/Warsaw',\n",
       " 'Europe/Zagreb',\n",
       " 'Europe/Zaporozhye',\n",
       " 'Europe/Zurich',\n",
       " 'GB',\n",
       " 'GB-Eire',\n",
       " 'GMT',\n",
       " 'GMT+0',\n",
       " 'GMT-0',\n",
       " 'GMT0',\n",
       " 'Greenwich',\n",
       " 'HST',\n",
       " 'Hongkong',\n",
       " 'Iceland',\n",
       " 'Indian/Antananarivo',\n",
       " 'Indian/Chagos',\n",
       " 'Indian/Christmas',\n",
       " 'Indian/Cocos',\n",
       " 'Indian/Comoro',\n",
       " 'Indian/Kerguelen',\n",
       " 'Indian/Mahe',\n",
       " 'Indian/Maldives',\n",
       " 'Indian/Mauritius',\n",
       " 'Indian/Mayotte',\n",
       " 'Indian/Reunion',\n",
       " 'Iran',\n",
       " 'Israel',\n",
       " 'Jamaica',\n",
       " 'Japan',\n",
       " 'Kwajalein',\n",
       " 'Libya',\n",
       " 'MET',\n",
       " 'MST',\n",
       " 'MST7MDT',\n",
       " 'Mexico/BajaNorte',\n",
       " 'Mexico/BajaSur',\n",
       " 'Mexico/General',\n",
       " 'NZ',\n",
       " 'NZ-CHAT',\n",
       " 'Navajo',\n",
       " 'PRC',\n",
       " 'PST8PDT',\n",
       " 'Pacific/Apia',\n",
       " 'Pacific/Auckland',\n",
       " 'Pacific/Bougainville',\n",
       " 'Pacific/Chatham',\n",
       " 'Pacific/Chuuk',\n",
       " 'Pacific/Easter',\n",
       " 'Pacific/Efate',\n",
       " 'Pacific/Enderbury',\n",
       " 'Pacific/Fakaofo',\n",
       " 'Pacific/Fiji',\n",
       " 'Pacific/Funafuti',\n",
       " 'Pacific/Galapagos',\n",
       " 'Pacific/Gambier',\n",
       " 'Pacific/Guadalcanal',\n",
       " 'Pacific/Guam',\n",
       " 'Pacific/Honolulu',\n",
       " 'Pacific/Johnston',\n",
       " 'Pacific/Kiritimati',\n",
       " 'Pacific/Kosrae',\n",
       " 'Pacific/Kwajalein',\n",
       " 'Pacific/Majuro',\n",
       " 'Pacific/Marquesas',\n",
       " 'Pacific/Midway',\n",
       " 'Pacific/Nauru',\n",
       " 'Pacific/Niue',\n",
       " 'Pacific/Norfolk',\n",
       " 'Pacific/Noumea',\n",
       " 'Pacific/Pago_Pago',\n",
       " 'Pacific/Palau',\n",
       " 'Pacific/Pitcairn',\n",
       " 'Pacific/Pohnpei',\n",
       " 'Pacific/Ponape',\n",
       " 'Pacific/Port_Moresby',\n",
       " 'Pacific/Rarotonga',\n",
       " 'Pacific/Saipan',\n",
       " 'Pacific/Samoa',\n",
       " 'Pacific/Tahiti',\n",
       " 'Pacific/Tarawa',\n",
       " 'Pacific/Tongatapu',\n",
       " 'Pacific/Truk',\n",
       " 'Pacific/Wake',\n",
       " 'Pacific/Wallis',\n",
       " 'Pacific/Yap',\n",
       " 'Poland',\n",
       " 'Portugal',\n",
       " 'ROC',\n",
       " 'ROK',\n",
       " 'Singapore',\n",
       " 'Turkey',\n",
       " 'UCT',\n",
       " 'US/Alaska',\n",
       " 'US/Aleutian',\n",
       " 'US/Arizona',\n",
       " 'US/Central',\n",
       " 'US/East-Indiana',\n",
       " 'US/Eastern',\n",
       " 'US/Hawaii',\n",
       " 'US/Indiana-Starke',\n",
       " 'US/Michigan',\n",
       " 'US/Mountain',\n",
       " 'US/Pacific',\n",
       " 'US/Samoa',\n",
       " 'UTC',\n",
       " 'Universal',\n",
       " 'W-SU',\n",
       " 'WET',\n",
       " 'Zulu']"
      ]
     },
     "execution_count": 293,
     "metadata": {},
     "output_type": "execute_result"
    }
   ],
   "source": [
    "from pytz import all_timezones            # list of all timezones\n",
    "all_timezones"
   ]
  },
  {
   "cell_type": "code",
   "execution_count": 295,
   "metadata": {},
   "outputs": [
    {
     "data": {
      "text/plain": [
       "DatetimeIndex(['2020-01-01 00:00:00+00:00', '2020-01-01 01:00:00+00:00',\n",
       "               '2020-01-01 02:00:00+00:00', '2020-01-01 03:00:00+00:00',\n",
       "               '2020-01-01 04:00:00+00:00', '2020-01-01 05:00:00+00:00',\n",
       "               '2020-01-01 06:00:00+00:00', '2020-01-01 07:00:00+00:00',\n",
       "               '2020-01-01 08:00:00+00:00', '2020-01-01 09:00:00+00:00'],\n",
       "              dtype='datetime64[ns, Europe/London]', freq='H')"
      ]
     },
     "execution_count": 295,
     "metadata": {},
     "output_type": "execute_result"
    }
   ],
   "source": [
    "rng = pd.date_range(start='01/01/2020', periods=10, freq='H', tz='Europe/London')\n",
    "rng"
   ]
  },
  {
   "cell_type": "code",
   "execution_count": 296,
   "metadata": {},
   "outputs": [
    {
     "data": {
      "text/plain": [
       "DatetimeIndex(['2020-01-01 00:00:00+00:00', '2020-01-01 01:00:00+00:00',\n",
       "               '2020-01-01 02:00:00+00:00', '2020-01-01 03:00:00+00:00',\n",
       "               '2020-01-01 04:00:00+00:00', '2020-01-01 05:00:00+00:00',\n",
       "               '2020-01-01 06:00:00+00:00', '2020-01-01 07:00:00+00:00',\n",
       "               '2020-01-01 08:00:00+00:00', '2020-01-01 09:00:00+00:00'],\n",
       "              dtype='datetime64[ns, tzfile('GB-Eire')]', freq='H')"
      ]
     },
     "execution_count": 296,
     "metadata": {},
     "output_type": "execute_result"
    }
   ],
   "source": [
    "rng = pd.date_range(start='01/01/2020', periods=10, freq='H', tz='dateutil/Europe/London')\n",
    "rng"
   ]
  },
  {
   "cell_type": "markdown",
   "metadata": {},
   "source": [
    "# SHIFT"
   ]
  },
  {
   "cell_type": "code",
   "execution_count": 312,
   "metadata": {
    "scrolled": true
   },
   "outputs": [
    {
     "data": {
      "text/html": [
       "<div>\n",
       "<style scoped>\n",
       "    .dataframe tbody tr th:only-of-type {\n",
       "        vertical-align: middle;\n",
       "    }\n",
       "\n",
       "    .dataframe tbody tr th {\n",
       "        vertical-align: top;\n",
       "    }\n",
       "\n",
       "    .dataframe thead th {\n",
       "        text-align: right;\n",
       "    }\n",
       "</style>\n",
       "<table border=\"1\" class=\"dataframe\">\n",
       "  <thead>\n",
       "    <tr style=\"text-align: right;\">\n",
       "      <th></th>\n",
       "      <th>Price</th>\n",
       "    </tr>\n",
       "    <tr>\n",
       "      <th>index</th>\n",
       "      <th></th>\n",
       "    </tr>\n",
       "  </thead>\n",
       "  <tbody>\n",
       "    <tr>\n",
       "      <th>1</th>\n",
       "      <td>72</td>\n",
       "    </tr>\n",
       "    <tr>\n",
       "      <th>2</th>\n",
       "      <td>71</td>\n",
       "    </tr>\n",
       "    <tr>\n",
       "      <th>3</th>\n",
       "      <td>70</td>\n",
       "    </tr>\n",
       "    <tr>\n",
       "      <th>4</th>\n",
       "      <td>74</td>\n",
       "    </tr>\n",
       "    <tr>\n",
       "      <th>5</th>\n",
       "      <td>75</td>\n",
       "    </tr>\n",
       "  </tbody>\n",
       "</table>\n",
       "</div>"
      ],
      "text/plain": [
       "       Price\n",
       "index       \n",
       "1         72\n",
       "2         71\n",
       "3         70\n",
       "4         74\n",
       "5         75"
      ]
     },
     "execution_count": 312,
     "metadata": {},
     "output_type": "execute_result"
    }
   ],
   "source": [
    "df"
   ]
  },
  {
   "cell_type": "code",
   "execution_count": 313,
   "metadata": {},
   "outputs": [
    {
     "data": {
      "text/html": [
       "<div>\n",
       "<style scoped>\n",
       "    .dataframe tbody tr th:only-of-type {\n",
       "        vertical-align: middle;\n",
       "    }\n",
       "\n",
       "    .dataframe tbody tr th {\n",
       "        vertical-align: top;\n",
       "    }\n",
       "\n",
       "    .dataframe thead th {\n",
       "        text-align: right;\n",
       "    }\n",
       "</style>\n",
       "<table border=\"1\" class=\"dataframe\">\n",
       "  <thead>\n",
       "    <tr style=\"text-align: right;\">\n",
       "      <th></th>\n",
       "      <th>Price</th>\n",
       "    </tr>\n",
       "    <tr>\n",
       "      <th>index</th>\n",
       "      <th></th>\n",
       "    </tr>\n",
       "  </thead>\n",
       "  <tbody>\n",
       "    <tr>\n",
       "      <th>1</th>\n",
       "      <td>NaN</td>\n",
       "    </tr>\n",
       "    <tr>\n",
       "      <th>2</th>\n",
       "      <td>72.0</td>\n",
       "    </tr>\n",
       "    <tr>\n",
       "      <th>3</th>\n",
       "      <td>71.0</td>\n",
       "    </tr>\n",
       "    <tr>\n",
       "      <th>4</th>\n",
       "      <td>70.0</td>\n",
       "    </tr>\n",
       "    <tr>\n",
       "      <th>5</th>\n",
       "      <td>74.0</td>\n",
       "    </tr>\n",
       "  </tbody>\n",
       "</table>\n",
       "</div>"
      ],
      "text/plain": [
       "       Price\n",
       "index       \n",
       "1        NaN\n",
       "2       72.0\n",
       "3       71.0\n",
       "4       70.0\n",
       "5       74.0"
      ]
     },
     "execution_count": 313,
     "metadata": {},
     "output_type": "execute_result"
    }
   ],
   "source": [
    "df.shift(1)          # shift all columns 1 cell down"
   ]
  },
  {
   "cell_type": "code",
   "execution_count": 314,
   "metadata": {},
   "outputs": [
    {
     "data": {
      "text/html": [
       "<div>\n",
       "<style scoped>\n",
       "    .dataframe tbody tr th:only-of-type {\n",
       "        vertical-align: middle;\n",
       "    }\n",
       "\n",
       "    .dataframe tbody tr th {\n",
       "        vertical-align: top;\n",
       "    }\n",
       "\n",
       "    .dataframe thead th {\n",
       "        text-align: right;\n",
       "    }\n",
       "</style>\n",
       "<table border=\"1\" class=\"dataframe\">\n",
       "  <thead>\n",
       "    <tr style=\"text-align: right;\">\n",
       "      <th></th>\n",
       "      <th>Price</th>\n",
       "    </tr>\n",
       "    <tr>\n",
       "      <th>index</th>\n",
       "      <th></th>\n",
       "    </tr>\n",
       "  </thead>\n",
       "  <tbody>\n",
       "    <tr>\n",
       "      <th>1</th>\n",
       "      <td>71.0</td>\n",
       "    </tr>\n",
       "    <tr>\n",
       "      <th>2</th>\n",
       "      <td>70.0</td>\n",
       "    </tr>\n",
       "    <tr>\n",
       "      <th>3</th>\n",
       "      <td>74.0</td>\n",
       "    </tr>\n",
       "    <tr>\n",
       "      <th>4</th>\n",
       "      <td>75.0</td>\n",
       "    </tr>\n",
       "    <tr>\n",
       "      <th>5</th>\n",
       "      <td>NaN</td>\n",
       "    </tr>\n",
       "  </tbody>\n",
       "</table>\n",
       "</div>"
      ],
      "text/plain": [
       "       Price\n",
       "index       \n",
       "1       71.0\n",
       "2       70.0\n",
       "3       74.0\n",
       "4       75.0\n",
       "5        NaN"
      ]
     },
     "execution_count": 314,
     "metadata": {},
     "output_type": "execute_result"
    }
   ],
   "source": [
    "df.shift(-1)          # shift all columns 1 cell up"
   ]
  }
 ],
 "metadata": {
  "kernelspec": {
   "display_name": "Python 3",
   "language": "python",
   "name": "python3"
  },
  "language_info": {
   "codemirror_mode": {
    "name": "ipython",
    "version": 3
   },
   "file_extension": ".py",
   "mimetype": "text/x-python",
   "name": "python",
   "nbconvert_exporter": "python",
   "pygments_lexer": "ipython3",
   "version": "3.8.8"
  }
 },
 "nbformat": 4,
 "nbformat_minor": 4
}
