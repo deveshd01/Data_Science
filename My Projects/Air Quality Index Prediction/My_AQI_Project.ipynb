{
  "nbformat": 4,
  "nbformat_minor": 0,
  "metadata": {
    "colab": {
      "name": "My AQI Project.ipynb",
      "provenance": [],
      "collapsed_sections": []
    },
    "kernelspec": {
      "name": "python3",
      "display_name": "Python 3"
    },
    "language_info": {
      "name": "python"
    }
  },
  "cells": [
    {
      "cell_type": "code",
      "execution_count": null,
      "metadata": {
        "id": "chPKBK4uMtPT"
      },
      "outputs": [],
      "source": [
        ""
      ]
    },
    {
      "cell_type": "code",
      "execution_count": null,
      "metadata": {
        "id": "F0bMet2ZsLpQ"
      },
      "outputs": [],
      "source": [
        "import pandas as pd\n",
        "import numpy as np\n",
        "\n",
        "from sklearn.model_selection import train_test_split\n",
        "\n",
        "import matplotlib.pyplot as plt\n",
        "%matplotlib inline"
      ]
    },
    {
      "cell_type": "code",
      "execution_count": null,
      "metadata": {
        "id": "q56l5JWC6ed3"
      },
      "outputs": [],
      "source": [
        "from sklearn.model_selection import cross_val_score"
      ]
    },
    {
      "cell_type": "markdown",
      "metadata": {
        "id": "0YaU1tMOAt3r"
      },
      "source": [
        "## Input From excel file from Google Drive"
      ]
    },
    {
      "cell_type": "code",
      "execution_count": null,
      "metadata": {
        "colab": {
          "base_uri": "https://localhost:8080/"
        },
        "id": "cAPR3wiRA8Jh",
        "outputId": "8b175be6-144e-47a3-debd-291e7c44ecfc"
      },
      "outputs": [
        {
          "output_type": "stream",
          "name": "stdout",
          "text": [
            "Mounted at /content/drive\n"
          ]
        }
      ],
      "source": [
        "from google.colab import drive\n",
        "drive.mount('/content/drive')\n",
        "#   link drive with colab & provide path"
      ]
    },
    {
      "cell_type": "code",
      "execution_count": null,
      "metadata": {
        "id": "UjMRsy9HpbfG",
        "colab": {
          "base_uri": "https://localhost:8080/",
          "height": 237
        },
        "outputId": "6a9db07d-3a81-40b0-ddb1-102dc82e82fa"
      },
      "outputs": [
        {
          "output_type": "execute_result",
          "data": {
            "text/plain": [
              "              PM10     NO2    SO2   Ozone   Temp     RH    WS       AQI  \\\n",
              "Date                                                                      \n",
              "2016-03-30  128.32   47.91  73.43  104.06  42.10  17.98  0.72  118.8809   \n",
              "2016-03-31   93.64   26.55  20.75  103.50  42.46  16.17  0.62  105.1471   \n",
              "2016-04-01  116.14   98.96  13.53   31.39  38.07  17.97  0.53  118.9600   \n",
              "2016-04-02  136.36  117.28  13.11   44.69  37.27  21.58  0.56  137.2800   \n",
              "2016-04-03  147.09   84.06  16.81   27.49  33.12  34.27  0.45  131.3949   \n",
              "\n",
              "                           date  \n",
              "Date                             \n",
              "2016-03-30  30-Mar-2016 - 00:00  \n",
              "2016-03-31  31-Mar-2016 - 00:00  \n",
              "2016-04-01  01-Apr-2016 - 00:00  \n",
              "2016-04-02  02-Apr-2016 - 00:00  \n",
              "2016-04-03  03-Apr-2016 - 00:00  "
            ],
            "text/html": [
              "\n",
              "  <div id=\"df-5483bb0b-8673-4862-96c4-9512593f7f30\">\n",
              "    <div class=\"colab-df-container\">\n",
              "      <div>\n",
              "<style scoped>\n",
              "    .dataframe tbody tr th:only-of-type {\n",
              "        vertical-align: middle;\n",
              "    }\n",
              "\n",
              "    .dataframe tbody tr th {\n",
              "        vertical-align: top;\n",
              "    }\n",
              "\n",
              "    .dataframe thead th {\n",
              "        text-align: right;\n",
              "    }\n",
              "</style>\n",
              "<table border=\"1\" class=\"dataframe\">\n",
              "  <thead>\n",
              "    <tr style=\"text-align: right;\">\n",
              "      <th></th>\n",
              "      <th>PM10</th>\n",
              "      <th>NO2</th>\n",
              "      <th>SO2</th>\n",
              "      <th>Ozone</th>\n",
              "      <th>Temp</th>\n",
              "      <th>RH</th>\n",
              "      <th>WS</th>\n",
              "      <th>AQI</th>\n",
              "      <th>date</th>\n",
              "    </tr>\n",
              "    <tr>\n",
              "      <th>Date</th>\n",
              "      <th></th>\n",
              "      <th></th>\n",
              "      <th></th>\n",
              "      <th></th>\n",
              "      <th></th>\n",
              "      <th></th>\n",
              "      <th></th>\n",
              "      <th></th>\n",
              "      <th></th>\n",
              "    </tr>\n",
              "  </thead>\n",
              "  <tbody>\n",
              "    <tr>\n",
              "      <th>2016-03-30</th>\n",
              "      <td>128.32</td>\n",
              "      <td>47.91</td>\n",
              "      <td>73.43</td>\n",
              "      <td>104.06</td>\n",
              "      <td>42.10</td>\n",
              "      <td>17.98</td>\n",
              "      <td>0.72</td>\n",
              "      <td>118.8809</td>\n",
              "      <td>30-Mar-2016 - 00:00</td>\n",
              "    </tr>\n",
              "    <tr>\n",
              "      <th>2016-03-31</th>\n",
              "      <td>93.64</td>\n",
              "      <td>26.55</td>\n",
              "      <td>20.75</td>\n",
              "      <td>103.50</td>\n",
              "      <td>42.46</td>\n",
              "      <td>16.17</td>\n",
              "      <td>0.62</td>\n",
              "      <td>105.1471</td>\n",
              "      <td>31-Mar-2016 - 00:00</td>\n",
              "    </tr>\n",
              "    <tr>\n",
              "      <th>2016-04-01</th>\n",
              "      <td>116.14</td>\n",
              "      <td>98.96</td>\n",
              "      <td>13.53</td>\n",
              "      <td>31.39</td>\n",
              "      <td>38.07</td>\n",
              "      <td>17.97</td>\n",
              "      <td>0.53</td>\n",
              "      <td>118.9600</td>\n",
              "      <td>01-Apr-2016 - 00:00</td>\n",
              "    </tr>\n",
              "    <tr>\n",
              "      <th>2016-04-02</th>\n",
              "      <td>136.36</td>\n",
              "      <td>117.28</td>\n",
              "      <td>13.11</td>\n",
              "      <td>44.69</td>\n",
              "      <td>37.27</td>\n",
              "      <td>21.58</td>\n",
              "      <td>0.56</td>\n",
              "      <td>137.2800</td>\n",
              "      <td>02-Apr-2016 - 00:00</td>\n",
              "    </tr>\n",
              "    <tr>\n",
              "      <th>2016-04-03</th>\n",
              "      <td>147.09</td>\n",
              "      <td>84.06</td>\n",
              "      <td>16.81</td>\n",
              "      <td>27.49</td>\n",
              "      <td>33.12</td>\n",
              "      <td>34.27</td>\n",
              "      <td>0.45</td>\n",
              "      <td>131.3949</td>\n",
              "      <td>03-Apr-2016 - 00:00</td>\n",
              "    </tr>\n",
              "  </tbody>\n",
              "</table>\n",
              "</div>\n",
              "      <button class=\"colab-df-convert\" onclick=\"convertToInteractive('df-5483bb0b-8673-4862-96c4-9512593f7f30')\"\n",
              "              title=\"Convert this dataframe to an interactive table.\"\n",
              "              style=\"display:none;\">\n",
              "        \n",
              "  <svg xmlns=\"http://www.w3.org/2000/svg\" height=\"24px\"viewBox=\"0 0 24 24\"\n",
              "       width=\"24px\">\n",
              "    <path d=\"M0 0h24v24H0V0z\" fill=\"none\"/>\n",
              "    <path d=\"M18.56 5.44l.94 2.06.94-2.06 2.06-.94-2.06-.94-.94-2.06-.94 2.06-2.06.94zm-11 1L8.5 8.5l.94-2.06 2.06-.94-2.06-.94L8.5 2.5l-.94 2.06-2.06.94zm10 10l.94 2.06.94-2.06 2.06-.94-2.06-.94-.94-2.06-.94 2.06-2.06.94z\"/><path d=\"M17.41 7.96l-1.37-1.37c-.4-.4-.92-.59-1.43-.59-.52 0-1.04.2-1.43.59L10.3 9.45l-7.72 7.72c-.78.78-.78 2.05 0 2.83L4 21.41c.39.39.9.59 1.41.59.51 0 1.02-.2 1.41-.59l7.78-7.78 2.81-2.81c.8-.78.8-2.07 0-2.86zM5.41 20L4 18.59l7.72-7.72 1.47 1.35L5.41 20z\"/>\n",
              "  </svg>\n",
              "      </button>\n",
              "      \n",
              "  <style>\n",
              "    .colab-df-container {\n",
              "      display:flex;\n",
              "      flex-wrap:wrap;\n",
              "      gap: 12px;\n",
              "    }\n",
              "\n",
              "    .colab-df-convert {\n",
              "      background-color: #E8F0FE;\n",
              "      border: none;\n",
              "      border-radius: 50%;\n",
              "      cursor: pointer;\n",
              "      display: none;\n",
              "      fill: #1967D2;\n",
              "      height: 32px;\n",
              "      padding: 0 0 0 0;\n",
              "      width: 32px;\n",
              "    }\n",
              "\n",
              "    .colab-df-convert:hover {\n",
              "      background-color: #E2EBFA;\n",
              "      box-shadow: 0px 1px 2px rgba(60, 64, 67, 0.3), 0px 1px 3px 1px rgba(60, 64, 67, 0.15);\n",
              "      fill: #174EA6;\n",
              "    }\n",
              "\n",
              "    [theme=dark] .colab-df-convert {\n",
              "      background-color: #3B4455;\n",
              "      fill: #D2E3FC;\n",
              "    }\n",
              "\n",
              "    [theme=dark] .colab-df-convert:hover {\n",
              "      background-color: #434B5C;\n",
              "      box-shadow: 0px 1px 3px 1px rgba(0, 0, 0, 0.15);\n",
              "      filter: drop-shadow(0px 1px 2px rgba(0, 0, 0, 0.3));\n",
              "      fill: #FFFFFF;\n",
              "    }\n",
              "  </style>\n",
              "\n",
              "      <script>\n",
              "        const buttonEl =\n",
              "          document.querySelector('#df-5483bb0b-8673-4862-96c4-9512593f7f30 button.colab-df-convert');\n",
              "        buttonEl.style.display =\n",
              "          google.colab.kernel.accessAllowed ? 'block' : 'none';\n",
              "\n",
              "        async function convertToInteractive(key) {\n",
              "          const element = document.querySelector('#df-5483bb0b-8673-4862-96c4-9512593f7f30');\n",
              "          const dataTable =\n",
              "            await google.colab.kernel.invokeFunction('convertToInteractive',\n",
              "                                                     [key], {});\n",
              "          if (!dataTable) return;\n",
              "\n",
              "          const docLinkHtml = 'Like what you see? Visit the ' +\n",
              "            '<a target=\"_blank\" href=https://colab.research.google.com/notebooks/data_table.ipynb>data table notebook</a>'\n",
              "            + ' to learn more about interactive tables.';\n",
              "          element.innerHTML = '';\n",
              "          dataTable['output_type'] = 'display_data';\n",
              "          await google.colab.output.renderOutput(dataTable, element);\n",
              "          const docLink = document.createElement('div');\n",
              "          docLink.innerHTML = docLinkHtml;\n",
              "          element.appendChild(docLink);\n",
              "        }\n",
              "      </script>\n",
              "    </div>\n",
              "  </div>\n",
              "  "
            ]
          },
          "metadata": {},
          "execution_count": 6
        }
      ],
      "source": [
        "df=pd.read_csv('/content/drive/MyDrive/my Work/My Projects/Data science/MY PROJECTS/Air Quality Index Prediction/FinalData.csv', parse_dates=['Date'], index_col=['Date']) \n",
        "df.head()"
      ]
    },
    {
      "cell_type": "code",
      "execution_count": null,
      "metadata": {
        "id": "up2WnjCkjrmQ"
      },
      "outputs": [],
      "source": [
        "# df=pd.read_csv('/content/drive/MyDrive/Colab Notebooks/sheets for colab/FinalData.csv', parse_dates=['Date'], index_col=['Date']) \n",
        "# df.head()"
      ]
    },
    {
      "cell_type": "markdown",
      "metadata": {
        "id": "8YFfenFaA-N_"
      },
      "source": [
        "## Data Pre-Processing"
      ]
    },
    {
      "cell_type": "code",
      "execution_count": null,
      "metadata": {
        "colab": {
          "base_uri": "https://localhost:8080/"
        },
        "id": "oLBBbYaulNMn",
        "outputId": "49ec3cf7-c5a8-4dcd-ebd5-b15dff9dcd1a"
      },
      "outputs": [
        {
          "output_type": "execute_result",
          "data": {
            "text/plain": [
              "PM10      1\n",
              "NO2       0\n",
              "SO2       0\n",
              "Ozone     0\n",
              "Temp     50\n",
              "RH       24\n",
              "WS        0\n",
              "AQI       0\n",
              "date      0\n",
              "dtype: int64"
            ]
          },
          "metadata": {},
          "execution_count": 7
        }
      ],
      "source": [
        "df.isna().sum()       # how many empty values present in Dataset"
      ]
    },
    {
      "cell_type": "code",
      "execution_count": null,
      "metadata": {
        "id": "4f49jJTPsJKM"
      },
      "outputs": [],
      "source": [
        "df=df.fillna(method='ffill')        # fill all Empty values with Previous value"
      ]
    },
    {
      "cell_type": "code",
      "execution_count": null,
      "metadata": {
        "colab": {
          "base_uri": "https://localhost:8080/"
        },
        "id": "RglrE-4xl1Fc",
        "outputId": "730dcebc-8e49-444a-c9ff-0d7b5dfe8a15"
      },
      "outputs": [
        {
          "output_type": "execute_result",
          "data": {
            "text/plain": [
              "PM10     0\n",
              "NO2      0\n",
              "SO2      0\n",
              "Ozone    0\n",
              "Temp     0\n",
              "RH       0\n",
              "WS       0\n",
              "AQI      0\n",
              "date     0\n",
              "dtype: int64"
            ]
          },
          "metadata": {},
          "execution_count": 9
        }
      ],
      "source": [
        "df.isna().sum()"
      ]
    },
    {
      "cell_type": "markdown",
      "source": [
        "# Visualization"
      ],
      "metadata": {
        "id": "4P_dxE0ejbaD"
      }
    },
    {
      "cell_type": "code",
      "source": [
        "plt.plot(df.index, df.AQI)"
      ],
      "metadata": {
        "id": "-pJxYnSFjfgX"
      },
      "execution_count": null,
      "outputs": []
    },
    {
      "cell_type": "markdown",
      "metadata": {
        "id": "tFru484e_pwd"
      },
      "source": [
        "\n",
        "<br>\n",
        "<br>\n",
        "<br>\n",
        "\n",
        "\n",
        "## 2/3 for training  &  1/3 for testing"
      ]
    },
    {
      "cell_type": "code",
      "execution_count": null,
      "metadata": {
        "colab": {
          "base_uri": "https://localhost:8080/",
          "height": 294
        },
        "id": "xAmpUv5I-KH6",
        "outputId": "e81a24c1-608a-4eea-86ae-79c0c58875f4"
      },
      "outputs": [
        {
          "output_type": "stream",
          "name": "stderr",
          "text": [
            "/usr/local/lib/python3.7/dist-packages/ipykernel_launcher.py:1: FutureWarning: In a future version of pandas all arguments of DataFrame.drop except for the argument 'labels' will be keyword-only\n",
            "  \"\"\"Entry point for launching an IPython kernel.\n"
          ]
        },
        {
          "output_type": "execute_result",
          "data": {
            "text/plain": [
              "              PM10     NO2    SO2   Ozone   Temp     RH    WS\n",
              "Date                                                         \n",
              "2016-03-30  128.32   47.91  73.43  104.06  42.10  17.98  0.72\n",
              "2016-03-31   93.64   26.55  20.75  103.50  42.46  16.17  0.62\n",
              "2016-04-01  116.14   98.96  13.53   31.39  38.07  17.97  0.53\n",
              "2016-04-02  136.36  117.28  13.11   44.69  37.27  21.58  0.56\n",
              "2016-04-03  147.09   84.06  16.81   27.49  33.12  34.27  0.45"
            ],
            "text/html": [
              "\n",
              "  <div id=\"df-744b92be-a65d-487b-a5e5-eef7660a2b4a\">\n",
              "    <div class=\"colab-df-container\">\n",
              "      <div>\n",
              "<style scoped>\n",
              "    .dataframe tbody tr th:only-of-type {\n",
              "        vertical-align: middle;\n",
              "    }\n",
              "\n",
              "    .dataframe tbody tr th {\n",
              "        vertical-align: top;\n",
              "    }\n",
              "\n",
              "    .dataframe thead th {\n",
              "        text-align: right;\n",
              "    }\n",
              "</style>\n",
              "<table border=\"1\" class=\"dataframe\">\n",
              "  <thead>\n",
              "    <tr style=\"text-align: right;\">\n",
              "      <th></th>\n",
              "      <th>PM10</th>\n",
              "      <th>NO2</th>\n",
              "      <th>SO2</th>\n",
              "      <th>Ozone</th>\n",
              "      <th>Temp</th>\n",
              "      <th>RH</th>\n",
              "      <th>WS</th>\n",
              "    </tr>\n",
              "    <tr>\n",
              "      <th>Date</th>\n",
              "      <th></th>\n",
              "      <th></th>\n",
              "      <th></th>\n",
              "      <th></th>\n",
              "      <th></th>\n",
              "      <th></th>\n",
              "      <th></th>\n",
              "    </tr>\n",
              "  </thead>\n",
              "  <tbody>\n",
              "    <tr>\n",
              "      <th>2016-03-30</th>\n",
              "      <td>128.32</td>\n",
              "      <td>47.91</td>\n",
              "      <td>73.43</td>\n",
              "      <td>104.06</td>\n",
              "      <td>42.10</td>\n",
              "      <td>17.98</td>\n",
              "      <td>0.72</td>\n",
              "    </tr>\n",
              "    <tr>\n",
              "      <th>2016-03-31</th>\n",
              "      <td>93.64</td>\n",
              "      <td>26.55</td>\n",
              "      <td>20.75</td>\n",
              "      <td>103.50</td>\n",
              "      <td>42.46</td>\n",
              "      <td>16.17</td>\n",
              "      <td>0.62</td>\n",
              "    </tr>\n",
              "    <tr>\n",
              "      <th>2016-04-01</th>\n",
              "      <td>116.14</td>\n",
              "      <td>98.96</td>\n",
              "      <td>13.53</td>\n",
              "      <td>31.39</td>\n",
              "      <td>38.07</td>\n",
              "      <td>17.97</td>\n",
              "      <td>0.53</td>\n",
              "    </tr>\n",
              "    <tr>\n",
              "      <th>2016-04-02</th>\n",
              "      <td>136.36</td>\n",
              "      <td>117.28</td>\n",
              "      <td>13.11</td>\n",
              "      <td>44.69</td>\n",
              "      <td>37.27</td>\n",
              "      <td>21.58</td>\n",
              "      <td>0.56</td>\n",
              "    </tr>\n",
              "    <tr>\n",
              "      <th>2016-04-03</th>\n",
              "      <td>147.09</td>\n",
              "      <td>84.06</td>\n",
              "      <td>16.81</td>\n",
              "      <td>27.49</td>\n",
              "      <td>33.12</td>\n",
              "      <td>34.27</td>\n",
              "      <td>0.45</td>\n",
              "    </tr>\n",
              "  </tbody>\n",
              "</table>\n",
              "</div>\n",
              "      <button class=\"colab-df-convert\" onclick=\"convertToInteractive('df-744b92be-a65d-487b-a5e5-eef7660a2b4a')\"\n",
              "              title=\"Convert this dataframe to an interactive table.\"\n",
              "              style=\"display:none;\">\n",
              "        \n",
              "  <svg xmlns=\"http://www.w3.org/2000/svg\" height=\"24px\"viewBox=\"0 0 24 24\"\n",
              "       width=\"24px\">\n",
              "    <path d=\"M0 0h24v24H0V0z\" fill=\"none\"/>\n",
              "    <path d=\"M18.56 5.44l.94 2.06.94-2.06 2.06-.94-2.06-.94-.94-2.06-.94 2.06-2.06.94zm-11 1L8.5 8.5l.94-2.06 2.06-.94-2.06-.94L8.5 2.5l-.94 2.06-2.06.94zm10 10l.94 2.06.94-2.06 2.06-.94-2.06-.94-.94-2.06-.94 2.06-2.06.94z\"/><path d=\"M17.41 7.96l-1.37-1.37c-.4-.4-.92-.59-1.43-.59-.52 0-1.04.2-1.43.59L10.3 9.45l-7.72 7.72c-.78.78-.78 2.05 0 2.83L4 21.41c.39.39.9.59 1.41.59.51 0 1.02-.2 1.41-.59l7.78-7.78 2.81-2.81c.8-.78.8-2.07 0-2.86zM5.41 20L4 18.59l7.72-7.72 1.47 1.35L5.41 20z\"/>\n",
              "  </svg>\n",
              "      </button>\n",
              "      \n",
              "  <style>\n",
              "    .colab-df-container {\n",
              "      display:flex;\n",
              "      flex-wrap:wrap;\n",
              "      gap: 12px;\n",
              "    }\n",
              "\n",
              "    .colab-df-convert {\n",
              "      background-color: #E8F0FE;\n",
              "      border: none;\n",
              "      border-radius: 50%;\n",
              "      cursor: pointer;\n",
              "      display: none;\n",
              "      fill: #1967D2;\n",
              "      height: 32px;\n",
              "      padding: 0 0 0 0;\n",
              "      width: 32px;\n",
              "    }\n",
              "\n",
              "    .colab-df-convert:hover {\n",
              "      background-color: #E2EBFA;\n",
              "      box-shadow: 0px 1px 2px rgba(60, 64, 67, 0.3), 0px 1px 3px 1px rgba(60, 64, 67, 0.15);\n",
              "      fill: #174EA6;\n",
              "    }\n",
              "\n",
              "    [theme=dark] .colab-df-convert {\n",
              "      background-color: #3B4455;\n",
              "      fill: #D2E3FC;\n",
              "    }\n",
              "\n",
              "    [theme=dark] .colab-df-convert:hover {\n",
              "      background-color: #434B5C;\n",
              "      box-shadow: 0px 1px 3px 1px rgba(0, 0, 0, 0.15);\n",
              "      filter: drop-shadow(0px 1px 2px rgba(0, 0, 0, 0.3));\n",
              "      fill: #FFFFFF;\n",
              "    }\n",
              "  </style>\n",
              "\n",
              "      <script>\n",
              "        const buttonEl =\n",
              "          document.querySelector('#df-744b92be-a65d-487b-a5e5-eef7660a2b4a button.colab-df-convert');\n",
              "        buttonEl.style.display =\n",
              "          google.colab.kernel.accessAllowed ? 'block' : 'none';\n",
              "\n",
              "        async function convertToInteractive(key) {\n",
              "          const element = document.querySelector('#df-744b92be-a65d-487b-a5e5-eef7660a2b4a');\n",
              "          const dataTable =\n",
              "            await google.colab.kernel.invokeFunction('convertToInteractive',\n",
              "                                                     [key], {});\n",
              "          if (!dataTable) return;\n",
              "\n",
              "          const docLinkHtml = 'Like what you see? Visit the ' +\n",
              "            '<a target=\"_blank\" href=https://colab.research.google.com/notebooks/data_table.ipynb>data table notebook</a>'\n",
              "            + ' to learn more about interactive tables.';\n",
              "          element.innerHTML = '';\n",
              "          dataTable['output_type'] = 'display_data';\n",
              "          await google.colab.output.renderOutput(dataTable, element);\n",
              "          const docLink = document.createElement('div');\n",
              "          docLink.innerHTML = docLinkHtml;\n",
              "          element.appendChild(docLink);\n",
              "        }\n",
              "      </script>\n",
              "    </div>\n",
              "  </div>\n",
              "  "
            ]
          },
          "metadata": {},
          "execution_count": 10
        }
      ],
      "source": [
        "input_columns=df.drop(['AQI', 'date'],1)\n",
        "input_columns.head()"
      ]
    },
    {
      "cell_type": "code",
      "execution_count": null,
      "metadata": {
        "colab": {
          "base_uri": "https://localhost:8080/"
        },
        "id": "jMYQ0N6P-JJN",
        "outputId": "3e2baa56-3961-4a9e-ec3e-4e0bfd5b0b18"
      },
      "outputs": [
        {
          "output_type": "execute_result",
          "data": {
            "text/plain": [
              "Date\n",
              "2016-03-30    118\n",
              "2016-03-31    105\n",
              "2016-04-01    118\n",
              "2016-04-02    137\n",
              "2016-04-03    131\n",
              "             ... \n",
              "2021-12-26    100\n",
              "2021-12-27    113\n",
              "2021-12-28     97\n",
              "2021-12-29     56\n",
              "2021-12-30     71\n",
              "Name: AQI, Length: 2064, dtype: int64"
            ]
          },
          "metadata": {},
          "execution_count": 11
        }
      ],
      "source": [
        "output_columns=df.AQI\n",
        "output_columns.astype('int64') "
      ]
    },
    {
      "cell_type": "code",
      "execution_count": null,
      "metadata": {
        "id": "h2CkRpN3-ETT"
      },
      "outputs": [],
      "source": [
        "x_train, x_test2, y_train, y_test2 = train_test_split(input_columns, output_columns, test_size=0.3) "
      ]
    },
    {
      "cell_type": "code",
      "execution_count": null,
      "metadata": {
        "id": "4pR1wFRMNPhS"
      },
      "outputs": [],
      "source": [
        "x_validation, x_test, y_validation, y_test = train_test_split(x_test2, y_test2, test_size=0.5) "
      ]
    },
    {
      "cell_type": "markdown",
      "metadata": {
        "id": "mdrP46ML3JFL"
      },
      "source": [
        "<br>\n",
        "<br>\n",
        "<br>\n",
        "\n",
        "# Statistics"
      ]
    },
    {
      "cell_type": "markdown",
      "metadata": {
        "id": "PhMjBxK74X-4"
      },
      "source": [
        "### Basic statistics of Air Quality Data"
      ]
    },
    {
      "cell_type": "code",
      "execution_count": null,
      "metadata": {
        "colab": {
          "base_uri": "https://localhost:8080/",
          "height": 237
        },
        "id": "VCzUfj8U3HUA",
        "outputId": "767109c4-282a-41ce-b07a-8f4b74e6f202"
      },
      "outputs": [
        {
          "output_type": "execute_result",
          "data": {
            "text/plain": [
              "              PM10     NO2    SO2   Ozone   Temp     RH    WS       AQI  \\\n",
              "Date                                                                      \n",
              "2016-03-30  128.32   47.91  73.43  104.06  42.10  17.98  0.72  118.8809   \n",
              "2016-03-31   93.64   26.55  20.75  103.50  42.46  16.17  0.62  105.1471   \n",
              "2016-04-01  116.14   98.96  13.53   31.39  38.07  17.97  0.53  118.9600   \n",
              "2016-04-02  136.36  117.28  13.11   44.69  37.27  21.58  0.56  137.2800   \n",
              "2016-04-03  147.09   84.06  16.81   27.49  33.12  34.27  0.45  131.3949   \n",
              "\n",
              "                           date  \n",
              "Date                             \n",
              "2016-03-30  30-Mar-2016 - 00:00  \n",
              "2016-03-31  31-Mar-2016 - 00:00  \n",
              "2016-04-01  01-Apr-2016 - 00:00  \n",
              "2016-04-02  02-Apr-2016 - 00:00  \n",
              "2016-04-03  03-Apr-2016 - 00:00  "
            ],
            "text/html": [
              "\n",
              "  <div id=\"df-72d5f6e1-4aaf-47cd-93b0-1cd8392148b2\">\n",
              "    <div class=\"colab-df-container\">\n",
              "      <div>\n",
              "<style scoped>\n",
              "    .dataframe tbody tr th:only-of-type {\n",
              "        vertical-align: middle;\n",
              "    }\n",
              "\n",
              "    .dataframe tbody tr th {\n",
              "        vertical-align: top;\n",
              "    }\n",
              "\n",
              "    .dataframe thead th {\n",
              "        text-align: right;\n",
              "    }\n",
              "</style>\n",
              "<table border=\"1\" class=\"dataframe\">\n",
              "  <thead>\n",
              "    <tr style=\"text-align: right;\">\n",
              "      <th></th>\n",
              "      <th>PM10</th>\n",
              "      <th>NO2</th>\n",
              "      <th>SO2</th>\n",
              "      <th>Ozone</th>\n",
              "      <th>Temp</th>\n",
              "      <th>RH</th>\n",
              "      <th>WS</th>\n",
              "      <th>AQI</th>\n",
              "      <th>date</th>\n",
              "    </tr>\n",
              "    <tr>\n",
              "      <th>Date</th>\n",
              "      <th></th>\n",
              "      <th></th>\n",
              "      <th></th>\n",
              "      <th></th>\n",
              "      <th></th>\n",
              "      <th></th>\n",
              "      <th></th>\n",
              "      <th></th>\n",
              "      <th></th>\n",
              "    </tr>\n",
              "  </thead>\n",
              "  <tbody>\n",
              "    <tr>\n",
              "      <th>2016-03-30</th>\n",
              "      <td>128.32</td>\n",
              "      <td>47.91</td>\n",
              "      <td>73.43</td>\n",
              "      <td>104.06</td>\n",
              "      <td>42.10</td>\n",
              "      <td>17.98</td>\n",
              "      <td>0.72</td>\n",
              "      <td>118.8809</td>\n",
              "      <td>30-Mar-2016 - 00:00</td>\n",
              "    </tr>\n",
              "    <tr>\n",
              "      <th>2016-03-31</th>\n",
              "      <td>93.64</td>\n",
              "      <td>26.55</td>\n",
              "      <td>20.75</td>\n",
              "      <td>103.50</td>\n",
              "      <td>42.46</td>\n",
              "      <td>16.17</td>\n",
              "      <td>0.62</td>\n",
              "      <td>105.1471</td>\n",
              "      <td>31-Mar-2016 - 00:00</td>\n",
              "    </tr>\n",
              "    <tr>\n",
              "      <th>2016-04-01</th>\n",
              "      <td>116.14</td>\n",
              "      <td>98.96</td>\n",
              "      <td>13.53</td>\n",
              "      <td>31.39</td>\n",
              "      <td>38.07</td>\n",
              "      <td>17.97</td>\n",
              "      <td>0.53</td>\n",
              "      <td>118.9600</td>\n",
              "      <td>01-Apr-2016 - 00:00</td>\n",
              "    </tr>\n",
              "    <tr>\n",
              "      <th>2016-04-02</th>\n",
              "      <td>136.36</td>\n",
              "      <td>117.28</td>\n",
              "      <td>13.11</td>\n",
              "      <td>44.69</td>\n",
              "      <td>37.27</td>\n",
              "      <td>21.58</td>\n",
              "      <td>0.56</td>\n",
              "      <td>137.2800</td>\n",
              "      <td>02-Apr-2016 - 00:00</td>\n",
              "    </tr>\n",
              "    <tr>\n",
              "      <th>2016-04-03</th>\n",
              "      <td>147.09</td>\n",
              "      <td>84.06</td>\n",
              "      <td>16.81</td>\n",
              "      <td>27.49</td>\n",
              "      <td>33.12</td>\n",
              "      <td>34.27</td>\n",
              "      <td>0.45</td>\n",
              "      <td>131.3949</td>\n",
              "      <td>03-Apr-2016 - 00:00</td>\n",
              "    </tr>\n",
              "  </tbody>\n",
              "</table>\n",
              "</div>\n",
              "      <button class=\"colab-df-convert\" onclick=\"convertToInteractive('df-72d5f6e1-4aaf-47cd-93b0-1cd8392148b2')\"\n",
              "              title=\"Convert this dataframe to an interactive table.\"\n",
              "              style=\"display:none;\">\n",
              "        \n",
              "  <svg xmlns=\"http://www.w3.org/2000/svg\" height=\"24px\"viewBox=\"0 0 24 24\"\n",
              "       width=\"24px\">\n",
              "    <path d=\"M0 0h24v24H0V0z\" fill=\"none\"/>\n",
              "    <path d=\"M18.56 5.44l.94 2.06.94-2.06 2.06-.94-2.06-.94-.94-2.06-.94 2.06-2.06.94zm-11 1L8.5 8.5l.94-2.06 2.06-.94-2.06-.94L8.5 2.5l-.94 2.06-2.06.94zm10 10l.94 2.06.94-2.06 2.06-.94-2.06-.94-.94-2.06-.94 2.06-2.06.94z\"/><path d=\"M17.41 7.96l-1.37-1.37c-.4-.4-.92-.59-1.43-.59-.52 0-1.04.2-1.43.59L10.3 9.45l-7.72 7.72c-.78.78-.78 2.05 0 2.83L4 21.41c.39.39.9.59 1.41.59.51 0 1.02-.2 1.41-.59l7.78-7.78 2.81-2.81c.8-.78.8-2.07 0-2.86zM5.41 20L4 18.59l7.72-7.72 1.47 1.35L5.41 20z\"/>\n",
              "  </svg>\n",
              "      </button>\n",
              "      \n",
              "  <style>\n",
              "    .colab-df-container {\n",
              "      display:flex;\n",
              "      flex-wrap:wrap;\n",
              "      gap: 12px;\n",
              "    }\n",
              "\n",
              "    .colab-df-convert {\n",
              "      background-color: #E8F0FE;\n",
              "      border: none;\n",
              "      border-radius: 50%;\n",
              "      cursor: pointer;\n",
              "      display: none;\n",
              "      fill: #1967D2;\n",
              "      height: 32px;\n",
              "      padding: 0 0 0 0;\n",
              "      width: 32px;\n",
              "    }\n",
              "\n",
              "    .colab-df-convert:hover {\n",
              "      background-color: #E2EBFA;\n",
              "      box-shadow: 0px 1px 2px rgba(60, 64, 67, 0.3), 0px 1px 3px 1px rgba(60, 64, 67, 0.15);\n",
              "      fill: #174EA6;\n",
              "    }\n",
              "\n",
              "    [theme=dark] .colab-df-convert {\n",
              "      background-color: #3B4455;\n",
              "      fill: #D2E3FC;\n",
              "    }\n",
              "\n",
              "    [theme=dark] .colab-df-convert:hover {\n",
              "      background-color: #434B5C;\n",
              "      box-shadow: 0px 1px 3px 1px rgba(0, 0, 0, 0.15);\n",
              "      filter: drop-shadow(0px 1px 2px rgba(0, 0, 0, 0.3));\n",
              "      fill: #FFFFFF;\n",
              "    }\n",
              "  </style>\n",
              "\n",
              "      <script>\n",
              "        const buttonEl =\n",
              "          document.querySelector('#df-72d5f6e1-4aaf-47cd-93b0-1cd8392148b2 button.colab-df-convert');\n",
              "        buttonEl.style.display =\n",
              "          google.colab.kernel.accessAllowed ? 'block' : 'none';\n",
              "\n",
              "        async function convertToInteractive(key) {\n",
              "          const element = document.querySelector('#df-72d5f6e1-4aaf-47cd-93b0-1cd8392148b2');\n",
              "          const dataTable =\n",
              "            await google.colab.kernel.invokeFunction('convertToInteractive',\n",
              "                                                     [key], {});\n",
              "          if (!dataTable) return;\n",
              "\n",
              "          const docLinkHtml = 'Like what you see? Visit the ' +\n",
              "            '<a target=\"_blank\" href=https://colab.research.google.com/notebooks/data_table.ipynb>data table notebook</a>'\n",
              "            + ' to learn more about interactive tables.';\n",
              "          element.innerHTML = '';\n",
              "          dataTable['output_type'] = 'display_data';\n",
              "          await google.colab.output.renderOutput(dataTable, element);\n",
              "          const docLink = document.createElement('div');\n",
              "          docLink.innerHTML = docLinkHtml;\n",
              "          element.appendChild(docLink);\n",
              "        }\n",
              "      </script>\n",
              "    </div>\n",
              "  </div>\n",
              "  "
            ]
          },
          "metadata": {},
          "execution_count": 14
        }
      ],
      "source": [
        "df.head()"
      ]
    },
    {
      "cell_type": "code",
      "execution_count": null,
      "metadata": {
        "colab": {
          "base_uri": "https://localhost:8080/"
        },
        "id": "dFpabxto4Uos",
        "outputId": "a847996b-25b7-4a75-a543-933872dd71c8"
      },
      "outputs": [
        {
          "output_type": "stream",
          "name": "stdout",
          "text": [
            "            MIN         MAX          MEDIAN         MEAN          SD          COV            N\n",
            "\n",
            " SO2        0.03        73.43        5.70           8.96          9.28        103.54        2064\n",
            " NO2        0.04        230.72       28.38          34.82         23.24       66.76         2064\n",
            " PM10       9.23        241.14       73.09          77.77         37.96       48.81         2064\n",
            " Ozone      0.32        180.36       41.43          45.14         31.99       70.87         2064\n",
            " Temp       2.23        42.46        28.53          28.22         6.15        21.78         2064\n",
            " RH         9.51        99.44        57.68          58.06         18.47       31.81         2064\n",
            " WS         0.14        13.05        0.51           0.69          0.84        121.83        2064\n"
          ]
        }
      ],
      "source": [
        "print(\"            MIN         MAX          MEDIAN         MEAN          SD          COV            N\")\n",
        "print()\n",
        "mean=df.SO2.mean()\n",
        "std=df.SO2.std()\n",
        "print(f\" SO2        {df.SO2.min():.2f}        {df.SO2.max():.2f}        {df.SO2.median():.2f}           {mean:.2f}          {std:.2f}        {(std/mean)*100:.2f}        {df.SO2.count()}\")\n",
        "\n",
        "mean=df.NO2.mean()\n",
        "std=df.NO2.std()\n",
        "print(f\" NO2        {df.NO2.min():.2f}        {df.NO2.max():.2f}       {df.NO2.median():.2f}          {mean:.2f}         {std:.2f}       {(std/mean)*100:.2f}         {df.NO2.count()}\")\n",
        "\n",
        "mean=df.PM10.mean()\n",
        "std=df.PM10.std()\n",
        "print(f\" PM10       {df.PM10.min():.2f}        {df.PM10.max():.2f}       {df.PM10.median():.2f}          {mean:.2f}         {std:.2f}       {(std/mean)*100:.2f}         {df.PM10.count()}\")\n",
        "\n",
        "mean=df.Ozone.mean()\n",
        "std=df.Ozone.std()\n",
        "print(f\" Ozone      {df.Ozone.min():.2f}        {df.Ozone.max():.2f}       {df.Ozone.median():.2f}          {mean:.2f}         {std:.2f}       {(std/mean)*100:.2f}         {df.Ozone.count()}\")\n",
        "\n",
        "mean=df.Temp.mean()\n",
        "std=df.Temp.std()\n",
        "print(f\" Temp       {df.Temp.min():.2f}        {df.Temp.max():.2f}        {df.Temp.median():.2f}          {mean:.2f}         {std:.2f}        {(std/mean)*100:.2f}         {df.Temp.count()}\")\n",
        "\n",
        "mean=df.RH.mean()\n",
        "std=df.RH.std()\n",
        "print(f\" RH         {df.RH.min():.2f}        {df.RH.max():.2f}        {df.RH.median():.2f}          {mean:.2f}         {std:.2f}       {(std/mean)*100:.2f}         {df.RH.count()}\")\n",
        "\n",
        "mean=df.WS.mean()\n",
        "std=df.WS.std()\n",
        "print(f\" WS         {df.WS.min():.2f}        {df.WS.max():.2f}        {df.WS.median():.2f}           {mean:.2f}          {std:.2f}        {(std/mean)*100:.2f}        {df.WS.count()}\")\n"
      ]
    },
    {
      "cell_type": "markdown",
      "metadata": {
        "id": "ay1gBRAL6Jwb"
      },
      "source": [
        "<br>\n",
        "<br>\n",
        "<br>\n",
        "<br>\n",
        "<br>\n",
        "<br>\n",
        "\n",
        "## Seasonal Statistics "
      ]
    },
    {
      "cell_type": "code",
      "execution_count": null,
      "metadata": {
        "colab": {
          "base_uri": "https://localhost:8080/"
        },
        "id": "g2acGnoP7iLy",
        "outputId": "2213b3f7-facd-4b1b-911b-35070223a31e"
      },
      "outputs": [
        {
          "output_type": "execute_result",
          "data": {
            "text/plain": [
              "              PM10     NO2    SO2   Ozone   Temp     RH    WS       AQI  \\\n",
              "Date                                                                      \n",
              "2016-03-30  128.32   47.91  73.43  104.06  42.10  17.98  0.72  118.8809   \n",
              "2016-03-31   93.64   26.55  20.75  103.50  42.46  16.17  0.62  105.1471   \n",
              "2016-04-01  116.14   98.96  13.53   31.39  38.07  17.97  0.53  118.9600   \n",
              "2016-04-02  136.36  117.28  13.11   44.69  37.27  21.58  0.56  137.2800   \n",
              "2016-04-03  147.09   84.06  16.81   27.49  33.12  34.27  0.45  131.3949   \n",
              "...            ...     ...    ...     ...    ...    ...   ...       ...   \n",
              "2021-12-26  100.27   27.17   8.66   50.72  21.97  67.35  0.41  100.1800   \n",
              "2021-12-27  120.54   27.38  16.76   50.63  22.38  67.90  0.40  113.6940   \n",
              "2021-12-28   97.83   27.20   9.48   50.62  21.82  68.52  0.50   97.8300   \n",
              "2021-12-29   56.17   27.42  13.73   50.64  21.29  66.60  0.54   56.1700   \n",
              "2021-12-30   71.20   27.20  13.48   50.76  20.91  65.20  0.88   71.2000   \n",
              "\n",
              "                           date  \n",
              "Date                             \n",
              "2016-03-30  30-Mar-2016 - 00:00  \n",
              "2016-03-31  31-Mar-2016 - 00:00  \n",
              "2016-04-01  01-Apr-2016 - 00:00  \n",
              "2016-04-02  02-Apr-2016 - 00:00  \n",
              "2016-04-03  03-Apr-2016 - 00:00  \n",
              "...                         ...  \n",
              "2021-12-26  26-Dec-2021 - 00:00  \n",
              "2021-12-27  27-Dec-2021 - 00:00  \n",
              "2021-12-28  28-Dec-2021 - 00:00  \n",
              "2021-12-29  29-Dec-2021 - 00:00  \n",
              "2021-12-30  30-Dec-2021 - 00:00  \n",
              "\n",
              "[2064 rows x 9 columns]"
            ],
            "text/html": [
              "\n",
              "  <div id=\"df-97fa61dc-ae3b-4929-8c05-0234eeb2b812\">\n",
              "    <div class=\"colab-df-container\">\n",
              "      <div>\n",
              "<style scoped>\n",
              "    .dataframe tbody tr th:only-of-type {\n",
              "        vertical-align: middle;\n",
              "    }\n",
              "\n",
              "    .dataframe tbody tr th {\n",
              "        vertical-align: top;\n",
              "    }\n",
              "\n",
              "    .dataframe thead th {\n",
              "        text-align: right;\n",
              "    }\n",
              "</style>\n",
              "<table border=\"1\" class=\"dataframe\">\n",
              "  <thead>\n",
              "    <tr style=\"text-align: right;\">\n",
              "      <th></th>\n",
              "      <th>PM10</th>\n",
              "      <th>NO2</th>\n",
              "      <th>SO2</th>\n",
              "      <th>Ozone</th>\n",
              "      <th>Temp</th>\n",
              "      <th>RH</th>\n",
              "      <th>WS</th>\n",
              "      <th>AQI</th>\n",
              "      <th>date</th>\n",
              "    </tr>\n",
              "    <tr>\n",
              "      <th>Date</th>\n",
              "      <th></th>\n",
              "      <th></th>\n",
              "      <th></th>\n",
              "      <th></th>\n",
              "      <th></th>\n",
              "      <th></th>\n",
              "      <th></th>\n",
              "      <th></th>\n",
              "      <th></th>\n",
              "    </tr>\n",
              "  </thead>\n",
              "  <tbody>\n",
              "    <tr>\n",
              "      <th>2016-03-30</th>\n",
              "      <td>128.32</td>\n",
              "      <td>47.91</td>\n",
              "      <td>73.43</td>\n",
              "      <td>104.06</td>\n",
              "      <td>42.10</td>\n",
              "      <td>17.98</td>\n",
              "      <td>0.72</td>\n",
              "      <td>118.8809</td>\n",
              "      <td>30-Mar-2016 - 00:00</td>\n",
              "    </tr>\n",
              "    <tr>\n",
              "      <th>2016-03-31</th>\n",
              "      <td>93.64</td>\n",
              "      <td>26.55</td>\n",
              "      <td>20.75</td>\n",
              "      <td>103.50</td>\n",
              "      <td>42.46</td>\n",
              "      <td>16.17</td>\n",
              "      <td>0.62</td>\n",
              "      <td>105.1471</td>\n",
              "      <td>31-Mar-2016 - 00:00</td>\n",
              "    </tr>\n",
              "    <tr>\n",
              "      <th>2016-04-01</th>\n",
              "      <td>116.14</td>\n",
              "      <td>98.96</td>\n",
              "      <td>13.53</td>\n",
              "      <td>31.39</td>\n",
              "      <td>38.07</td>\n",
              "      <td>17.97</td>\n",
              "      <td>0.53</td>\n",
              "      <td>118.9600</td>\n",
              "      <td>01-Apr-2016 - 00:00</td>\n",
              "    </tr>\n",
              "    <tr>\n",
              "      <th>2016-04-02</th>\n",
              "      <td>136.36</td>\n",
              "      <td>117.28</td>\n",
              "      <td>13.11</td>\n",
              "      <td>44.69</td>\n",
              "      <td>37.27</td>\n",
              "      <td>21.58</td>\n",
              "      <td>0.56</td>\n",
              "      <td>137.2800</td>\n",
              "      <td>02-Apr-2016 - 00:00</td>\n",
              "    </tr>\n",
              "    <tr>\n",
              "      <th>2016-04-03</th>\n",
              "      <td>147.09</td>\n",
              "      <td>84.06</td>\n",
              "      <td>16.81</td>\n",
              "      <td>27.49</td>\n",
              "      <td>33.12</td>\n",
              "      <td>34.27</td>\n",
              "      <td>0.45</td>\n",
              "      <td>131.3949</td>\n",
              "      <td>03-Apr-2016 - 00:00</td>\n",
              "    </tr>\n",
              "    <tr>\n",
              "      <th>...</th>\n",
              "      <td>...</td>\n",
              "      <td>...</td>\n",
              "      <td>...</td>\n",
              "      <td>...</td>\n",
              "      <td>...</td>\n",
              "      <td>...</td>\n",
              "      <td>...</td>\n",
              "      <td>...</td>\n",
              "      <td>...</td>\n",
              "    </tr>\n",
              "    <tr>\n",
              "      <th>2021-12-26</th>\n",
              "      <td>100.27</td>\n",
              "      <td>27.17</td>\n",
              "      <td>8.66</td>\n",
              "      <td>50.72</td>\n",
              "      <td>21.97</td>\n",
              "      <td>67.35</td>\n",
              "      <td>0.41</td>\n",
              "      <td>100.1800</td>\n",
              "      <td>26-Dec-2021 - 00:00</td>\n",
              "    </tr>\n",
              "    <tr>\n",
              "      <th>2021-12-27</th>\n",
              "      <td>120.54</td>\n",
              "      <td>27.38</td>\n",
              "      <td>16.76</td>\n",
              "      <td>50.63</td>\n",
              "      <td>22.38</td>\n",
              "      <td>67.90</td>\n",
              "      <td>0.40</td>\n",
              "      <td>113.6940</td>\n",
              "      <td>27-Dec-2021 - 00:00</td>\n",
              "    </tr>\n",
              "    <tr>\n",
              "      <th>2021-12-28</th>\n",
              "      <td>97.83</td>\n",
              "      <td>27.20</td>\n",
              "      <td>9.48</td>\n",
              "      <td>50.62</td>\n",
              "      <td>21.82</td>\n",
              "      <td>68.52</td>\n",
              "      <td>0.50</td>\n",
              "      <td>97.8300</td>\n",
              "      <td>28-Dec-2021 - 00:00</td>\n",
              "    </tr>\n",
              "    <tr>\n",
              "      <th>2021-12-29</th>\n",
              "      <td>56.17</td>\n",
              "      <td>27.42</td>\n",
              "      <td>13.73</td>\n",
              "      <td>50.64</td>\n",
              "      <td>21.29</td>\n",
              "      <td>66.60</td>\n",
              "      <td>0.54</td>\n",
              "      <td>56.1700</td>\n",
              "      <td>29-Dec-2021 - 00:00</td>\n",
              "    </tr>\n",
              "    <tr>\n",
              "      <th>2021-12-30</th>\n",
              "      <td>71.20</td>\n",
              "      <td>27.20</td>\n",
              "      <td>13.48</td>\n",
              "      <td>50.76</td>\n",
              "      <td>20.91</td>\n",
              "      <td>65.20</td>\n",
              "      <td>0.88</td>\n",
              "      <td>71.2000</td>\n",
              "      <td>30-Dec-2021 - 00:00</td>\n",
              "    </tr>\n",
              "  </tbody>\n",
              "</table>\n",
              "<p>2064 rows × 9 columns</p>\n",
              "</div>\n",
              "      <button class=\"colab-df-convert\" onclick=\"convertToInteractive('df-97fa61dc-ae3b-4929-8c05-0234eeb2b812')\"\n",
              "              title=\"Convert this dataframe to an interactive table.\"\n",
              "              style=\"display:none;\">\n",
              "        \n",
              "  <svg xmlns=\"http://www.w3.org/2000/svg\" height=\"24px\"viewBox=\"0 0 24 24\"\n",
              "       width=\"24px\">\n",
              "    <path d=\"M0 0h24v24H0V0z\" fill=\"none\"/>\n",
              "    <path d=\"M18.56 5.44l.94 2.06.94-2.06 2.06-.94-2.06-.94-.94-2.06-.94 2.06-2.06.94zm-11 1L8.5 8.5l.94-2.06 2.06-.94-2.06-.94L8.5 2.5l-.94 2.06-2.06.94zm10 10l.94 2.06.94-2.06 2.06-.94-2.06-.94-.94-2.06-.94 2.06-2.06.94z\"/><path d=\"M17.41 7.96l-1.37-1.37c-.4-.4-.92-.59-1.43-.59-.52 0-1.04.2-1.43.59L10.3 9.45l-7.72 7.72c-.78.78-.78 2.05 0 2.83L4 21.41c.39.39.9.59 1.41.59.51 0 1.02-.2 1.41-.59l7.78-7.78 2.81-2.81c.8-.78.8-2.07 0-2.86zM5.41 20L4 18.59l7.72-7.72 1.47 1.35L5.41 20z\"/>\n",
              "  </svg>\n",
              "      </button>\n",
              "      \n",
              "  <style>\n",
              "    .colab-df-container {\n",
              "      display:flex;\n",
              "      flex-wrap:wrap;\n",
              "      gap: 12px;\n",
              "    }\n",
              "\n",
              "    .colab-df-convert {\n",
              "      background-color: #E8F0FE;\n",
              "      border: none;\n",
              "      border-radius: 50%;\n",
              "      cursor: pointer;\n",
              "      display: none;\n",
              "      fill: #1967D2;\n",
              "      height: 32px;\n",
              "      padding: 0 0 0 0;\n",
              "      width: 32px;\n",
              "    }\n",
              "\n",
              "    .colab-df-convert:hover {\n",
              "      background-color: #E2EBFA;\n",
              "      box-shadow: 0px 1px 2px rgba(60, 64, 67, 0.3), 0px 1px 3px 1px rgba(60, 64, 67, 0.15);\n",
              "      fill: #174EA6;\n",
              "    }\n",
              "\n",
              "    [theme=dark] .colab-df-convert {\n",
              "      background-color: #3B4455;\n",
              "      fill: #D2E3FC;\n",
              "    }\n",
              "\n",
              "    [theme=dark] .colab-df-convert:hover {\n",
              "      background-color: #434B5C;\n",
              "      box-shadow: 0px 1px 3px 1px rgba(0, 0, 0, 0.15);\n",
              "      filter: drop-shadow(0px 1px 2px rgba(0, 0, 0, 0.3));\n",
              "      fill: #FFFFFF;\n",
              "    }\n",
              "  </style>\n",
              "\n",
              "      <script>\n",
              "        const buttonEl =\n",
              "          document.querySelector('#df-97fa61dc-ae3b-4929-8c05-0234eeb2b812 button.colab-df-convert');\n",
              "        buttonEl.style.display =\n",
              "          google.colab.kernel.accessAllowed ? 'block' : 'none';\n",
              "\n",
              "        async function convertToInteractive(key) {\n",
              "          const element = document.querySelector('#df-97fa61dc-ae3b-4929-8c05-0234eeb2b812');\n",
              "          const dataTable =\n",
              "            await google.colab.kernel.invokeFunction('convertToInteractive',\n",
              "                                                     [key], {});\n",
              "          if (!dataTable) return;\n",
              "\n",
              "          const docLinkHtml = 'Like what you see? Visit the ' +\n",
              "            '<a target=\"_blank\" href=https://colab.research.google.com/notebooks/data_table.ipynb>data table notebook</a>'\n",
              "            + ' to learn more about interactive tables.';\n",
              "          element.innerHTML = '';\n",
              "          dataTable['output_type'] = 'display_data';\n",
              "          await google.colab.output.renderOutput(dataTable, element);\n",
              "          const docLink = document.createElement('div');\n",
              "          docLink.innerHTML = docLinkHtml;\n",
              "          element.appendChild(docLink);\n",
              "        }\n",
              "      </script>\n",
              "    </div>\n",
              "  </div>\n",
              "  "
            ]
          },
          "metadata": {},
          "execution_count": 16
        }
      ],
      "source": [
        "df"
      ]
    },
    {
      "cell_type": "code",
      "execution_count": null,
      "metadata": {
        "colab": {
          "base_uri": "https://localhost:8080/"
        },
        "id": "V52yFgnB5ZRq",
        "outputId": "525729ac-34e5-42b3-83d7-06dffde6d81c"
      },
      "outputs": [
        {
          "output_type": "execute_result",
          "data": {
            "text/plain": [
              "DatetimeIndex(['2016-03-30', '2016-03-31', '2016-04-01', '2016-04-02',\n",
              "               '2016-04-03', '2016-04-04', '2016-04-05', '2016-04-06',\n",
              "               '2016-04-07', '2016-04-08',\n",
              "               ...\n",
              "               '2021-12-21', '2021-12-22', '2021-12-23', '2021-12-24',\n",
              "               '2021-12-25', '2021-12-26', '2021-12-27', '2021-12-28',\n",
              "               '2021-12-29', '2021-12-30'],\n",
              "              dtype='datetime64[ns]', name='Date', length=2064, freq=None)"
            ]
          },
          "metadata": {},
          "execution_count": 17
        }
      ],
      "source": [
        "df.index"
      ]
    },
    {
      "cell_type": "code",
      "execution_count": null,
      "metadata": {
        "id": "4idqqCfG5ZRr"
      },
      "outputs": [],
      "source": [
        "summer1 = df['2016-02':'2016-05']\n",
        "summer2 = df['2017-02':'2017-05']\n",
        "summer3 = df['2018-02':'2018-05']\n",
        "summer4 = df['2019-02':'2019-05']\n",
        "summer5 = df['2020-02':'2020-05']\n",
        "summer6 = df['2021-02':'2021-05']\n",
        "\n",
        "rain1 = df['2016-06':'2016-09']\n",
        "rain2 = df['2017-06':'2017-09']\n",
        "rain3 = df['2018-06':'2018-09']\n",
        "rain4 = df['2019-06':'2019-09']\n",
        "rain5 = df['2020-06':'2020-09']\n",
        "rain6 = df['2021-06':'2021-09']\n",
        "\n",
        "winter1 = df['2016-10':'2017-01']\n",
        "winter2 = df['2017-10':'2018-01']\n",
        "winter3 = df['2018-10':'2019-01']\n",
        "winter4 = df['2019-10':'2020-01']\n",
        "winter5 = df['2020-10':'2021-01']\n",
        "winter6 = df['2021-10':'2021-12']"
      ]
    },
    {
      "cell_type": "code",
      "execution_count": null,
      "metadata": {
        "id": "ITTR35yeP3Fl"
      },
      "outputs": [],
      "source": [
        "from operator import concat\n",
        "summer = pd.concat([summer1,summer2,summer3,summer4,summer5, summer6])\n",
        "rain = pd.concat([rain1,rain2,rain3,rain4,rain5,rain6])\n",
        "winter = pd.concat([winter1,winter2,winter3,winter4,winter5,winter6])"
      ]
    },
    {
      "cell_type": "code",
      "execution_count": null,
      "metadata": {
        "colab": {
          "base_uri": "https://localhost:8080/"
        },
        "id": "6kXRbQhpP26_",
        "outputId": "351cf8c6-32c5-4ada-f968-93c545f5400b"
      },
      "outputs": [
        {
          "output_type": "stream",
          "name": "stdout",
          "text": [
            "               MIN         MAX          MEDIAN         MEAN          SD          COV           N\n",
            "\n",
            " ANNUAL        14.01       250.72       79.27          84.00         34.95       41.61        2064\n",
            " SUMMER        14.01       250.72       93.25          97.16         36.16       37.21        664\n",
            " RAIN          16.30       193.71       54.61          57.28         19.82       34.61        728\n",
            " WINTER        21.46       219.58       97.73          99.93         28.97       28.99        672\n"
          ]
        }
      ],
      "source": [
        "print(\"               MIN         MAX          MEDIAN         MEAN          SD          COV           N\")\n",
        "print()\n",
        "\n",
        "mean=df.AQI.mean()\n",
        "std=df.AQI.std()\n",
        "print(f\" ANNUAL        {df.AQI.min():.2f}       {df.AQI.max():.2f}       {df.AQI.median():.2f}          {mean:.2f}         {std:.2f}       {(std/mean)*100:.2f}        {df.WS.count()}\")\n",
        "\n",
        "\n",
        "mean=summer.AQI.mean()\n",
        "std=summer.AQI.std()\n",
        "print(f\" SUMMER        {summer.AQI.min():.2f}       {summer.AQI.max():.2f}       {summer.AQI.median():.2f}          {mean:.2f}         {std:.2f}       {(std/mean)*100:.2f}        {summer.WS.count()}\")\n",
        "\n",
        "\n",
        "mean=rain.AQI.mean()\n",
        "std=rain.AQI.std()\n",
        "print(f\" RAIN          {rain.AQI.min():.2f}       {rain.AQI.max():.2f}       {rain.AQI.median():.2f}          {mean:.2f}         {std:.2f}       {(std/mean)*100:.2f}        {rain.WS.count()}\")\n",
        "\n",
        "\n",
        "mean=winter.AQI.mean()\n",
        "std=winter.AQI.std()\n",
        "print(f\" WINTER        {winter.AQI.min():.2f}       {winter.AQI.max():.2f}       {winter.AQI.median():.2f}          {mean:.2f}         {std:.2f}       {(std/mean)*100:.2f}        {winter.WS.count()}\")"
      ]
    },
    {
      "cell_type": "markdown",
      "metadata": {
        "id": "RcuivI_uBD6y"
      },
      "source": [
        "<br>\n",
        "<br>\n",
        "<br>\n",
        "\n",
        "# Creating Linear model with 100% dataset"
      ]
    },
    {
      "cell_type": "code",
      "source": [
        "from sklearn import linear_model"
      ],
      "metadata": {
        "id": "TI3oCeA0KnQB"
      },
      "execution_count": null,
      "outputs": []
    },
    {
      "cell_type": "code",
      "execution_count": null,
      "metadata": {
        "colab": {
          "base_uri": "https://localhost:8080/"
        },
        "id": "nKoC5AICwgjt",
        "outputId": "60a53f7f-c865-4c25-ca62-bbe939e047b4"
      },
      "outputs": [
        {
          "output_type": "execute_result",
          "data": {
            "text/plain": [
              "LinearRegression()"
            ]
          },
          "metadata": {},
          "execution_count": 21
        }
      ],
      "source": [
        "model = linear_model.LinearRegression()\n",
        "model.fit(df[['PM10', 'NO2', 'SO2', 'Ozone', 'Temp', 'RH', 'WS']], df.AQI)"
      ]
    },
    {
      "cell_type": "code",
      "execution_count": null,
      "metadata": {
        "colab": {
          "base_uri": "https://localhost:8080/"
        },
        "id": "yxjjTn6byfGz",
        "outputId": "8dba30ca-2b18-4419-a682-69d3c792454d"
      },
      "outputs": [
        {
          "output_type": "execute_result",
          "data": {
            "text/plain": [
              "0.8586996761870676"
            ]
          },
          "metadata": {},
          "execution_count": 22
        }
      ],
      "source": [
        "model.score(df[['PM10', 'NO2', 'SO2', 'Ozone', 'Temp', 'RH', 'WS']], df.AQI)"
      ]
    },
    {
      "cell_type": "markdown",
      "source": [
        "#### Equation"
      ],
      "metadata": {
        "id": "VZzyZT-oYCyG"
      }
    },
    {
      "cell_type": "code",
      "source": [
        "m = model.coef_      # m1*PM10 + m2*NO2 + m3*SO2 + m4*Ozone + m5*Temp + m6*RH + m7*WS + C\n",
        "m"
      ],
      "metadata": {
        "id": "TqFY-t0EDP5X"
      },
      "execution_count": null,
      "outputs": []
    },
    {
      "cell_type": "code",
      "source": [
        "m=np.round_(m,2)      # Rounding off upto 2 decimals\n",
        "m"
      ],
      "metadata": {
        "id": "2Nm2Pld-DY8A"
      },
      "execution_count": null,
      "outputs": []
    },
    {
      "cell_type": "code",
      "source": [
        "c = model.intercept_        #  C\n",
        "c"
      ],
      "metadata": {
        "id": "zHFZPZlXDc0d"
      },
      "execution_count": null,
      "outputs": []
    },
    {
      "cell_type": "code",
      "source": [
        "print(f\"y = {m[0]}*x1 + {m[1]}*x2 + {m[2]}*x3 + {m[3]}*x4 + {m[4]}*x5 + {m[5]}*x6 + {m[6]}*x7 + {round(c,2)}\")"
      ],
      "metadata": {
        "colab": {
          "base_uri": "https://localhost:8080/"
        },
        "id": "ioND-8rOYGUv",
        "outputId": "3a1f2c0e-ea68-46e9-82fc-46913fc74840"
      },
      "execution_count": null,
      "outputs": [
        {
          "output_type": "stream",
          "name": "stdout",
          "text": [
            "y = 0.61*x1 + 0.27*x2 + -0.19*x3 + 0.44*x4 + 0.02*x5 + -0.06*x6 + -0.4*x7 + 12.32\n"
          ]
        }
      ]
    },
    {
      "cell_type": "markdown",
      "metadata": {
        "id": "Uf2WUEc6B3HQ"
      },
      "source": [
        "<br>\n",
        "<br>\n",
        "<br>\n",
        "<br>\n",
        "<br>\n",
        "<br>\n",
        "\n",
        "# Multivariate Linear Regression"
      ]
    },
    {
      "cell_type": "code",
      "source": [
        "from sklearn import linear_model"
      ],
      "metadata": {
        "id": "6MpgzZhIKsmG"
      },
      "execution_count": null,
      "outputs": []
    },
    {
      "cell_type": "markdown",
      "source": [
        "### Building Model"
      ],
      "metadata": {
        "id": "SmEK3eydToWL"
      }
    },
    {
      "cell_type": "code",
      "execution_count": null,
      "metadata": {
        "colab": {
          "base_uri": "https://localhost:8080/"
        },
        "id": "1dYATL__-_tT",
        "outputId": "1f46bfd4-4d2e-487c-fe3a-c2bacab68d65"
      },
      "outputs": [
        {
          "output_type": "execute_result",
          "data": {
            "text/plain": [
              "LinearRegression()"
            ]
          },
          "metadata": {},
          "execution_count": 30
        }
      ],
      "source": [
        "model = linear_model.LinearRegression()\n",
        "model.fit(x_train, y_train)"
      ]
    },
    {
      "cell_type": "code",
      "execution_count": null,
      "metadata": {
        "colab": {
          "base_uri": "https://localhost:8080/"
        },
        "id": "7Kf_DvbiMt9X",
        "outputId": "6814ec4b-30c6-4ecc-9b3d-6b01abe0d641"
      },
      "outputs": [
        {
          "output_type": "execute_result",
          "data": {
            "text/plain": [
              "0.8673603197365548"
            ]
          },
          "metadata": {},
          "execution_count": 31
        }
      ],
      "source": [
        "r_train=model.score(x_train, y_train)          # train score\n",
        "r_train"
      ]
    },
    {
      "cell_type": "code",
      "execution_count": null,
      "metadata": {
        "colab": {
          "base_uri": "https://localhost:8080/"
        },
        "id": "al0e30rW-_o_",
        "outputId": "6b7e7903-4cdb-4a61-d31b-14992e360fbd"
      },
      "outputs": [
        {
          "output_type": "execute_result",
          "data": {
            "text/plain": [
              "0.8394923051651101"
            ]
          },
          "metadata": {},
          "execution_count": 32
        }
      ],
      "source": [
        "r_test=model.score(x_test, y_test)           # test score\n",
        "r_test"
      ]
    },
    {
      "cell_type": "code",
      "execution_count": null,
      "metadata": {
        "colab": {
          "base_uri": "https://localhost:8080/"
        },
        "id": "mHhrCDCAWwCF",
        "outputId": "2fed34b5-cbff-4936-e480-451fcea4ade1"
      },
      "outputs": [
        {
          "output_type": "execute_result",
          "data": {
            "text/plain": [
              "0.8353571184885997"
            ]
          },
          "metadata": {},
          "execution_count": 33
        }
      ],
      "source": [
        "model.score(x_validation, y_validation)           # validation score"
      ]
    },
    {
      "cell_type": "code",
      "execution_count": null,
      "metadata": {
        "colab": {
          "base_uri": "https://localhost:8080/"
        },
        "id": "rx0YQ9mFvdSg",
        "outputId": "bdf4f2de-0b97-4856-dde0-756da98a1a09"
      },
      "outputs": [
        {
          "output_type": "stream",
          "name": "stdout",
          "text": [
            "Coefficient of determination R^2 <-- on train set: 0.8673603197365548\n"
          ]
        }
      ],
      "source": [
        "print(\"Coefficient of determination R^2 <-- on train set: {}\".format(model.score(x_train, y_train)))"
      ]
    },
    {
      "cell_type": "markdown",
      "source": [
        "### Equation"
      ],
      "metadata": {
        "id": "j6VVHY7hUKyk"
      }
    },
    {
      "cell_type": "code",
      "execution_count": null,
      "metadata": {
        "colab": {
          "base_uri": "https://localhost:8080/"
        },
        "id": "u94SZ6hh-_ki",
        "outputId": "6d68bcd3-42a1-4e10-9aa9-7412b1770490"
      },
      "outputs": [
        {
          "output_type": "execute_result",
          "data": {
            "text/plain": [
              "array([ 0.6176029 ,  0.22067254, -0.16118984,  0.43610001,  0.07120598,\n",
              "       -0.05291994, -0.46499886])"
            ]
          },
          "metadata": {},
          "execution_count": 35
        }
      ],
      "source": [
        "m=model.coef_      # m1*PM10 + m2*NO2 + m3*SO2 + m4*Ozone + m5*Temp + m6*RH + m7*WS + C\n",
        "m"
      ]
    },
    {
      "cell_type": "code",
      "execution_count": null,
      "metadata": {
        "colab": {
          "base_uri": "https://localhost:8080/"
        },
        "id": "otU9ei8sTmji",
        "outputId": "261e9748-23a9-4c75-a8fd-4bbcaa7d6984"
      },
      "outputs": [
        {
          "output_type": "execute_result",
          "data": {
            "text/plain": [
              "array([ 0.62,  0.22, -0.16,  0.44,  0.07, -0.05, -0.46])"
            ]
          },
          "metadata": {},
          "execution_count": 36
        }
      ],
      "source": [
        "m=np.round_(m,2)      # Rounding off upto 2 decimals\n",
        "m"
      ]
    },
    {
      "cell_type": "code",
      "execution_count": null,
      "metadata": {
        "colab": {
          "base_uri": "https://localhost:8080/"
        },
        "id": "ZLwJtb4y-_fY",
        "outputId": "e1fc6ac5-caac-49a4-c56f-49a5387f9837"
      },
      "outputs": [
        {
          "output_type": "execute_result",
          "data": {
            "text/plain": [
              "11.16289615515079"
            ]
          },
          "metadata": {},
          "execution_count": 37
        }
      ],
      "source": [
        "C=model.intercept_        #  C\n",
        "C"
      ]
    },
    {
      "cell_type": "code",
      "source": [
        "print(f\"y = {m[0]}*x1 + {m[1]}*x2 + {m[2]}*x3 + {m[3]}*x4 + {m[4]}*x5 + {m[5]}*x6 + {m[6]}*x7 + {round(C,2)}\")"
      ],
      "metadata": {
        "colab": {
          "base_uri": "https://localhost:8080/"
        },
        "id": "-hQ020WfUZyr",
        "outputId": "71f966d2-7be4-4038-bffa-f965956c28e0"
      },
      "execution_count": null,
      "outputs": [
        {
          "output_type": "stream",
          "name": "stdout",
          "text": [
            "y = 0.62*x1 + 0.22*x2 + -0.16*x3 + 0.44*x4 + 0.07*x5 + -0.05*x6 + -0.46*x7 + 11.16\n"
          ]
        }
      ]
    },
    {
      "cell_type": "markdown",
      "source": [
        "### Representation of Actual VS Predicted"
      ],
      "metadata": {
        "id": "crQEcUPFUfRY"
      }
    },
    {
      "cell_type": "code",
      "execution_count": null,
      "metadata": {
        "colab": {
          "base_uri": "https://localhost:8080/",
          "height": 295
        },
        "id": "p5Yr-Xf7DCNA",
        "outputId": "6585460e-6992-4b3f-f5b1-bea3f7e5e8fb"
      },
      "outputs": [
        {
          "output_type": "display_data",
          "data": {
            "text/plain": [
              "<Figure size 432x288 with 1 Axes>"
            ],
            "image/png": "[encoded data removed]"
          },
          "metadata": {
            "needs_background": "light"
          }
        }
      ],
      "source": [
        "y_predict = model.predict(x_test)\n",
        "\n",
        "plt.xlabel('actual')\n",
        "plt.ylabel('predicted')\n",
        "plt.title('AQI')\n",
        "plt.scatter(y_test,y_predict, color='r')\n",
        "plt.plot(y_predict, y_predict)\n",
        "\n",
        "\n",
        "plt.rcParams[\"figure.figsize\"]=(8,5.5)\n",
        "plt.text(0,195,f\"y = {m[0]}*x1 + {m[1]}*x2 + {m[2]}*x3 + {m[3]}*x4 + {m[4]}*x5 + {m[5]}*x6 + {m[6]}*x7 + {round(C,2)}\", fontsize=10)\n",
        "plt.text(50,180,f\"R Square = {round(r_test,2)}\")\n",
        " \n",
        "plt.margins(0.1,0.2)"
      ]
    },
    {
      "cell_type": "code",
      "execution_count": null,
      "metadata": {
        "colab": {
          "base_uri": "https://localhost:8080/",
          "height": 377
        },
        "id": "czij70hjUDZQ",
        "outputId": "78796dd2-2278-480c-a9ac-025223955864"
      },
      "outputs": [
        {
          "output_type": "display_data",
          "data": {
            "text/plain": [
              "<Figure size 576x396 with 1 Axes>"
            ],
            "image/png": "[encoded data removed]"
          },
          "metadata": {
            "needs_background": "light"
          }
        }
      ],
      "source": [
        "y_predict = model.predict(x_train)\n",
        "\n",
        "plt.xlabel('actual')\n",
        "plt.ylabel('predicted')\n",
        "plt.title('AQI')\n",
        "plt.scatter(y_train,y_predict, color='r')\n",
        "plt.plot(y_predict, y_predict)\n",
        "\n",
        "\n",
        "plt.rcParams[\"figure.figsize\"]=(8,5.5)\n",
        "plt.text(-5,220,f\"y = {m[0]}*x1 + {m[1]}*x2 + {m[2]}*x3 + {m[3]}*x4 + {m[4]}*x5 + {m[5]}*x6 + {m[6]}*x7 + {round(C,2)}\", fontsize=10)\n",
        "plt.text(50,200,f\"R Square = {round(r_train,2)}\")\n",
        " \n",
        "plt.margins(0.1,0.2)"
      ]
    },
    {
      "cell_type": "markdown",
      "source": [
        "### Statistical Errors"
      ],
      "metadata": {
        "id": "BQykeHpzSrbu"
      }
    },
    {
      "cell_type": "code",
      "execution_count": null,
      "metadata": {
        "id": "Nhz-vJGY8MX_"
      },
      "outputs": [],
      "source": [
        "# y_predict = model.predict(x_validation)\n",
        "\n",
        "# plt.xlabel('actual')\n",
        "# plt.ylabel('predicted')\n",
        "# plt.title('AQI')\n",
        "# plt.scatter(y_validation,y_predict, color='r')\n",
        "# plt.plot(y_predict, y_predict)"
      ]
    },
    {
      "cell_type": "code",
      "execution_count": null,
      "metadata": {
        "id": "oU97DDSHuHNc"
      },
      "outputs": [],
      "source": [
        "y_predict_test = model.predict(x_test)\n",
        "y_predict_train = model.predict(x_train)\n",
        "\n",
        "from sklearn.metrics import mean_squared_error, mean_absolute_error\n",
        "mae_test = mean_absolute_error(y_test, y_predict_test)\n",
        "mse_test = mean_squared_error(y_test, y_predict_test)\n",
        "rmse_test = np.sqrt(mse_test)\n",
        "\n",
        "mae_train = mean_absolute_error(y_train, y_predict_train)\n",
        "mse_train = mean_squared_error(y_train, y_predict_train)\n",
        "rmse_train = np.sqrt(mse_train)"
      ]
    },
    {
      "cell_type": "markdown",
      "metadata": {
        "id": "jwbGNhdLDO17"
      },
      "source": [
        "<h4> Mean Absolute Error\n"
      ]
    },
    {
      "cell_type": "code",
      "execution_count": null,
      "metadata": {
        "colab": {
          "base_uri": "https://localhost:8080/"
        },
        "id": "Jtn2hCv5DU-K",
        "outputId": "86966cae-58c5-46d1-b6af-853d44d77e56"
      },
      "outputs": [
        {
          "output_type": "execute_result",
          "data": {
            "text/plain": [
              "9.846926064388994"
            ]
          },
          "metadata": {},
          "execution_count": 44
        }
      ],
      "source": [
        "mae_test"
      ]
    },
    {
      "cell_type": "code",
      "execution_count": null,
      "metadata": {
        "colab": {
          "base_uri": "https://localhost:8080/"
        },
        "id": "5zSNFiVA4I66",
        "outputId": "435176c3-64f4-4220-a344-cd79b555bfaa"
      },
      "outputs": [
        {
          "output_type": "execute_result",
          "data": {
            "text/plain": [
              "9.07382295780598"
            ]
          },
          "metadata": {},
          "execution_count": 45
        }
      ],
      "source": [
        "mae_train"
      ]
    },
    {
      "cell_type": "markdown",
      "metadata": {
        "id": "nnX6bQh8uie7"
      },
      "source": [
        "<h4>  Mean Square Error"
      ]
    },
    {
      "cell_type": "code",
      "execution_count": null,
      "metadata": {
        "colab": {
          "base_uri": "https://localhost:8080/"
        },
        "id": "cRM040DRuie8",
        "outputId": "b794daf7-acf1-4e51-8665-1dda9ead39b4"
      },
      "outputs": [
        {
          "output_type": "execute_result",
          "data": {
            "text/plain": [
              "207.36741815335654"
            ]
          },
          "metadata": {},
          "execution_count": 46
        }
      ],
      "source": [
        "mse_test"
      ]
    },
    {
      "cell_type": "code",
      "execution_count": null,
      "metadata": {
        "colab": {
          "base_uri": "https://localhost:8080/"
        },
        "id": "k3LxqMy84OFW",
        "outputId": "c8efa650-6fcd-4ba7-e39b-4a9cf8ba59de"
      },
      "outputs": [
        {
          "output_type": "execute_result",
          "data": {
            "text/plain": [
              "156.63562689354694"
            ]
          },
          "metadata": {},
          "execution_count": 47
        }
      ],
      "source": [
        "mse_train"
      ]
    },
    {
      "cell_type": "markdown",
      "metadata": {
        "id": "CWeifhFquie8"
      },
      "source": [
        "<h4> Root Mean Square Error"
      ]
    },
    {
      "cell_type": "code",
      "execution_count": null,
      "metadata": {
        "colab": {
          "base_uri": "https://localhost:8080/"
        },
        "id": "Q4rmXMSouie9",
        "outputId": "de2dae2d-f8b3-4746-b54c-3ae099ffce7c"
      },
      "outputs": [
        {
          "output_type": "execute_result",
          "data": {
            "text/plain": [
              "14.400257572465728"
            ]
          },
          "metadata": {},
          "execution_count": 48
        }
      ],
      "source": [
        "rmse_test"
      ]
    },
    {
      "cell_type": "code",
      "execution_count": null,
      "metadata": {
        "colab": {
          "base_uri": "https://localhost:8080/"
        },
        "id": "15iI_gWr4RrU",
        "outputId": "a14fac67-9a5a-405d-ed9f-a32108e3c476"
      },
      "outputs": [
        {
          "output_type": "execute_result",
          "data": {
            "text/plain": [
              "12.515415570149756"
            ]
          },
          "metadata": {},
          "execution_count": 49
        }
      ],
      "source": [
        "rmse_train"
      ]
    },
    {
      "cell_type": "markdown",
      "metadata": {
        "id": "CsSdHvfSXta-"
      },
      "source": [
        "## **k fold** cross validation "
      ]
    },
    {
      "cell_type": "code",
      "execution_count": null,
      "metadata": {
        "colab": {
          "base_uri": "https://localhost:8080/"
        },
        "id": "NikGLAjFagAg",
        "outputId": "f681f0c9-36b6-424b-b34c-df9869b1cf62"
      },
      "outputs": [
        {
          "output_type": "stream",
          "name": "stdout",
          "text": [
            "train :  [0.87335577 0.8500491  0.86836661]\n",
            "test :  [0.76170951 0.84731384 0.86807338]\n",
            "train :  0.8639238257763079\n",
            "test :  0.8256989069270694\n"
          ]
        }
      ],
      "source": [
        "from sklearn import linear_model\n",
        "\n",
        "regr = linear_model.LinearRegression()\n",
        "\n",
        "scores101 = cross_val_score(regr, x_train, y_train, cv=3,)\n",
        "scores102 = cross_val_score(regr, x_test, y_test, cv=3,)\n",
        "print(\"train : \",scores101)\n",
        "print(\"test : \",scores102)\n",
        "# scores = cross_val_score(regr,x_train, y_train, cv=5)\n",
        "print(\"train : \",np.average(scores101))\n",
        "print(\"test : \",np.average(scores102))"
      ]
    },
    {
      "cell_type": "markdown",
      "metadata": {
        "id": "yejBpRTko4E0"
      },
      "source": [
        "<br>\n",
        "<br>\n",
        "<br>\n",
        "<br>\n",
        "<br>\n",
        "<br>\n",
        "\n",
        "\n",
        "# Polynomial regression"
      ]
    },
    {
      "cell_type": "code",
      "execution_count": null,
      "metadata": {
        "id": "WbCVTpbzo1Uy"
      },
      "outputs": [],
      "source": [
        "from sklearn.linear_model import LinearRegression\n",
        "from sklearn.preprocessing import PolynomialFeatures"
      ]
    },
    {
      "cell_type": "markdown",
      "metadata": {
        "id": "5iKVhi2Mx72J"
      },
      "source": [
        "<br>\n",
        "\n",
        "\n",
        "### Data Scaling"
      ]
    },
    {
      "cell_type": "code",
      "execution_count": null,
      "metadata": {
        "id": "xm9aNBiayH5Z"
      },
      "outputs": [],
      "source": [
        "from sklearn.preprocessing import StandardScaler\n",
        "sc = StandardScaler()\n",
        "sc.fit(x_train)\n",
        "X_train = sc.transform(x_train)\n",
        "X_test = sc.transform(x_test)"
      ]
    },
    {
      "cell_type": "code",
      "source": [
        "x_train.head(1)"
      ],
      "metadata": {
        "colab": {
          "base_uri": "https://localhost:8080/"
        },
        "id": "gWy9yVyk9q0K",
        "outputId": "835d4ba4-d2db-4c33-96d5-3c3332a9d25a"
      },
      "execution_count": null,
      "outputs": [
        {
          "output_type": "execute_result",
          "data": {
            "text/plain": [
              "              PM10    NO2   SO2  Ozone   Temp     RH    WS\n",
              "Date                                                      \n",
              "2017-11-10  111.18  28.53  4.85  33.66  24.39  65.51  0.53"
            ],
            "text/html": [
              "\n",
              "  <div id=\"df-11c8a97a-bbec-42c3-aaa8-2cb1ad80f50f\">\n",
              "    <div class=\"colab-df-container\">\n",
              "      <div>\n",
              "<style scoped>\n",
              "    .dataframe tbody tr th:only-of-type {\n",
              "        vertical-align: middle;\n",
              "    }\n",
              "\n",
              "    .dataframe tbody tr th {\n",
              "        vertical-align: top;\n",
              "    }\n",
              "\n",
              "    .dataframe thead th {\n",
              "        text-align: right;\n",
              "    }\n",
              "</style>\n",
              "<table border=\"1\" class=\"dataframe\">\n",
              "  <thead>\n",
              "    <tr style=\"text-align: right;\">\n",
              "      <th></th>\n",
              "      <th>PM10</th>\n",
              "      <th>NO2</th>\n",
              "      <th>SO2</th>\n",
              "      <th>Ozone</th>\n",
              "      <th>Temp</th>\n",
              "      <th>RH</th>\n",
              "      <th>WS</th>\n",
              "    </tr>\n",
              "    <tr>\n",
              "      <th>Date</th>\n",
              "      <th></th>\n",
              "      <th></th>\n",
              "      <th></th>\n",
              "      <th></th>\n",
              "      <th></th>\n",
              "      <th></th>\n",
              "      <th></th>\n",
              "    </tr>\n",
              "  </thead>\n",
              "  <tbody>\n",
              "    <tr>\n",
              "      <th>2017-11-10</th>\n",
              "      <td>111.18</td>\n",
              "      <td>28.53</td>\n",
              "      <td>4.85</td>\n",
              "      <td>33.66</td>\n",
              "      <td>24.39</td>\n",
              "      <td>65.51</td>\n",
              "      <td>0.53</td>\n",
              "    </tr>\n",
              "  </tbody>\n",
              "</table>\n",
              "</div>\n",
              "      <button class=\"colab-df-convert\" onclick=\"convertToInteractive('df-11c8a97a-bbec-42c3-aaa8-2cb1ad80f50f')\"\n",
              "              title=\"Convert this dataframe to an interactive table.\"\n",
              "              style=\"display:none;\">\n",
              "        \n",
              "  <svg xmlns=\"http://www.w3.org/2000/svg\" height=\"24px\"viewBox=\"0 0 24 24\"\n",
              "       width=\"24px\">\n",
              "    <path d=\"M0 0h24v24H0V0z\" fill=\"none\"/>\n",
              "    <path d=\"M18.56 5.44l.94 2.06.94-2.06 2.06-.94-2.06-.94-.94-2.06-.94 2.06-2.06.94zm-11 1L8.5 8.5l.94-2.06 2.06-.94-2.06-.94L8.5 2.5l-.94 2.06-2.06.94zm10 10l.94 2.06.94-2.06 2.06-.94-2.06-.94-.94-2.06-.94 2.06-2.06.94z\"/><path d=\"M17.41 7.96l-1.37-1.37c-.4-.4-.92-.59-1.43-.59-.52 0-1.04.2-1.43.59L10.3 9.45l-7.72 7.72c-.78.78-.78 2.05 0 2.83L4 21.41c.39.39.9.59 1.41.59.51 0 1.02-.2 1.41-.59l7.78-7.78 2.81-2.81c.8-.78.8-2.07 0-2.86zM5.41 20L4 18.59l7.72-7.72 1.47 1.35L5.41 20z\"/>\n",
              "  </svg>\n",
              "      </button>\n",
              "      \n",
              "  <style>\n",
              "    .colab-df-container {\n",
              "      display:flex;\n",
              "      flex-wrap:wrap;\n",
              "      gap: 12px;\n",
              "    }\n",
              "\n",
              "    .colab-df-convert {\n",
              "      background-color: #E8F0FE;\n",
              "      border: none;\n",
              "      border-radius: 50%;\n",
              "      cursor: pointer;\n",
              "      display: none;\n",
              "      fill: #1967D2;\n",
              "      height: 32px;\n",
              "      padding: 0 0 0 0;\n",
              "      width: 32px;\n",
              "    }\n",
              "\n",
              "    .colab-df-convert:hover {\n",
              "      background-color: #E2EBFA;\n",
              "      box-shadow: 0px 1px 2px rgba(60, 64, 67, 0.3), 0px 1px 3px 1px rgba(60, 64, 67, 0.15);\n",
              "      fill: #174EA6;\n",
              "    }\n",
              "\n",
              "    [theme=dark] .colab-df-convert {\n",
              "      background-color: #3B4455;\n",
              "      fill: #D2E3FC;\n",
              "    }\n",
              "\n",
              "    [theme=dark] .colab-df-convert:hover {\n",
              "      background-color: #434B5C;\n",
              "      box-shadow: 0px 1px 3px 1px rgba(0, 0, 0, 0.15);\n",
              "      filter: drop-shadow(0px 1px 2px rgba(0, 0, 0, 0.3));\n",
              "      fill: #FFFFFF;\n",
              "    }\n",
              "  </style>\n",
              "\n",
              "      <script>\n",
              "        const buttonEl =\n",
              "          document.querySelector('#df-11c8a97a-bbec-42c3-aaa8-2cb1ad80f50f button.colab-df-convert');\n",
              "        buttonEl.style.display =\n",
              "          google.colab.kernel.accessAllowed ? 'block' : 'none';\n",
              "\n",
              "        async function convertToInteractive(key) {\n",
              "          const element = document.querySelector('#df-11c8a97a-bbec-42c3-aaa8-2cb1ad80f50f');\n",
              "          const dataTable =\n",
              "            await google.colab.kernel.invokeFunction('convertToInteractive',\n",
              "                                                     [key], {});\n",
              "          if (!dataTable) return;\n",
              "\n",
              "          const docLinkHtml = 'Like what you see? Visit the ' +\n",
              "            '<a target=\"_blank\" href=https://colab.research.google.com/notebooks/data_table.ipynb>data table notebook</a>'\n",
              "            + ' to learn more about interactive tables.';\n",
              "          element.innerHTML = '';\n",
              "          dataTable['output_type'] = 'display_data';\n",
              "          await google.colab.output.renderOutput(dataTable, element);\n",
              "          const docLink = document.createElement('div');\n",
              "          docLink.innerHTML = docLinkHtml;\n",
              "          element.appendChild(docLink);\n",
              "        }\n",
              "      </script>\n",
              "    </div>\n",
              "  </div>\n",
              "  "
            ]
          },
          "metadata": {},
          "execution_count": 110
        }
      ]
    },
    {
      "cell_type": "code",
      "source": [
        "X_train[0]"
      ],
      "metadata": {
        "colab": {
          "base_uri": "https://localhost:8080/"
        },
        "id": "eAdJOyso9oUf",
        "outputId": "6831b4b1-3fd9-489a-8c95-79c92abbf1ee"
      },
      "execution_count": null,
      "outputs": [
        {
          "output_type": "execute_result",
          "data": {
            "text/plain": [
              "array([ 0.87938593, -0.26127147, -0.45942392, -0.3657486 , -0.64017206,\n",
              "        0.40112404, -0.20011212])"
            ]
          },
          "metadata": {},
          "execution_count": 109
        }
      ]
    },
    {
      "cell_type": "markdown",
      "source": [
        "### Building Model"
      ],
      "metadata": {
        "id": "NUhbVbfaRguH"
      }
    },
    {
      "cell_type": "code",
      "execution_count": null,
      "metadata": {
        "colab": {
          "base_uri": "https://localhost:8080/"
        },
        "id": "p8y6Tdceo1bT",
        "outputId": "acd93e34-c0d4-48d1-a702-c0eff093d6ce"
      },
      "outputs": [
        {
          "output_type": "execute_result",
          "data": {
            "text/plain": [
              "((1444, 36), (310, 36))"
            ]
          },
          "metadata": {},
          "execution_count": 58
        }
      ],
      "source": [
        "poly_reg = PolynomialFeatures(degree=2)      # degree =2\n",
        "poly_reg.fit(X_train)\n",
        "X_train_poly = poly_reg.transform(X_train)\n",
        "X_test_poly = poly_reg.transform(X_test)\n",
        "\n",
        "# new features count\n",
        "X_train_poly.shape, X_test_poly.shape"
      ]
    },
    {
      "cell_type": "code",
      "execution_count": null,
      "metadata": {
        "colab": {
          "base_uri": "https://localhost:8080/"
        },
        "id": "0oZ6beaQo1rd",
        "outputId": "bcef6d02-d1cf-4f43-df3c-b316245e352f"
      },
      "outputs": [
        {
          "output_type": "execute_result",
          "data": {
            "text/plain": [
              "LinearRegression()"
            ]
          },
          "metadata": {},
          "execution_count": 59
        }
      ],
      "source": [
        "lr = LinearRegression()\n",
        "lr.fit(X_train_poly, y_train)"
      ]
    },
    {
      "cell_type": "code",
      "execution_count": null,
      "metadata": {
        "colab": {
          "base_uri": "https://localhost:8080/"
        },
        "id": "XuUcHjj2qhoy",
        "outputId": "335c4853-88d8-4184-afbb-decc3821c2db"
      },
      "outputs": [
        {
          "output_type": "execute_result",
          "data": {
            "text/plain": [
              "0.9750441346039622"
            ]
          },
          "metadata": {},
          "execution_count": 60
        }
      ],
      "source": [
        "lr.score(X_train_poly, y_train)     # train score"
      ]
    },
    {
      "cell_type": "code",
      "execution_count": null,
      "metadata": {
        "id": "fl88TXCiZIDs"
      },
      "outputs": [],
      "source": [
        "predict_train = lr.predict(X_train_poly)"
      ]
    },
    {
      "cell_type": "code",
      "execution_count": null,
      "metadata": {
        "colab": {
          "base_uri": "https://localhost:8080/"
        },
        "id": "LOHlcq05o1wQ",
        "outputId": "412719eb-ae12-4494-fcc1-13eff9834efb"
      },
      "outputs": [
        {
          "output_type": "execute_result",
          "data": {
            "text/plain": [
              "0.973905547608123"
            ]
          },
          "metadata": {},
          "execution_count": 66
        }
      ],
      "source": [
        "lr.score(X_test_poly, y_test)      # test score"
      ]
    },
    {
      "cell_type": "code",
      "execution_count": null,
      "metadata": {
        "id": "qA5RqPLPZRFF"
      },
      "outputs": [],
      "source": [
        "predict_test = lr.predict(X_test_poly)  "
      ]
    },
    {
      "cell_type": "markdown",
      "source": [
        "### Statistical Errors"
      ],
      "metadata": {
        "id": "gpfML0V9RQK_"
      }
    },
    {
      "cell_type": "code",
      "execution_count": null,
      "metadata": {
        "id": "Ftbd8xwlo2Fm"
      },
      "outputs": [],
      "source": [
        "y_predict_test = lr.predict(X_test_poly)\n",
        "y_predict_train = lr.predict(X_train_poly)\n",
        "\n",
        "from sklearn.metrics import mean_squared_error, mean_absolute_error\n",
        "mae_test = mean_absolute_error(y_test, y_predict_test)\n",
        "mse_test = mean_squared_error(y_test, y_predict_test)\n",
        "rmse_test = np.sqrt(mse_test)\n",
        "\n",
        "mae_train = mean_absolute_error(y_train, y_predict_train)\n",
        "mse_train = mean_squared_error(y_train, y_predict_train)\n",
        "rmse_train = np.sqrt(mse_train)"
      ]
    },
    {
      "cell_type": "markdown",
      "metadata": {
        "id": "PBwWJ-xQ4lAX"
      },
      "source": [
        "#### Mean Absolute Error\n"
      ]
    },
    {
      "cell_type": "code",
      "execution_count": null,
      "metadata": {
        "colab": {
          "base_uri": "https://localhost:8080/"
        },
        "id": "RxEVqRDG4lAc",
        "outputId": "1feeae7f-6192-45b9-8f82-6309c7a8d536"
      },
      "outputs": [
        {
          "output_type": "execute_result",
          "data": {
            "text/plain": [
              "4.269997853868221"
            ]
          },
          "metadata": {},
          "execution_count": 71
        }
      ],
      "source": [
        "mae_test"
      ]
    },
    {
      "cell_type": "code",
      "execution_count": null,
      "metadata": {
        "colab": {
          "base_uri": "https://localhost:8080/"
        },
        "id": "VRWW9XAr4lAd",
        "outputId": "0f645689-e11d-4e9e-c22b-4bf88a24f2fd"
      },
      "outputs": [
        {
          "output_type": "execute_result",
          "data": {
            "text/plain": [
              "4.14069025299968"
            ]
          },
          "metadata": {},
          "execution_count": 72
        }
      ],
      "source": [
        "mae_train"
      ]
    },
    {
      "cell_type": "markdown",
      "metadata": {
        "id": "d0Rda-4I4lAd"
      },
      "source": [
        "#### Mean Square Error"
      ]
    },
    {
      "cell_type": "code",
      "execution_count": null,
      "metadata": {
        "colab": {
          "base_uri": "https://localhost:8080/"
        },
        "id": "5PLXR0ar4lAd",
        "outputId": "18e78160-1c76-4825-a6a8-a03813976e01"
      },
      "outputs": [
        {
          "output_type": "execute_result",
          "data": {
            "text/plain": [
              "33.712646774944474"
            ]
          },
          "metadata": {},
          "execution_count": 73
        }
      ],
      "source": [
        "mse_test"
      ]
    },
    {
      "cell_type": "code",
      "execution_count": null,
      "metadata": {
        "colab": {
          "base_uri": "https://localhost:8080/"
        },
        "id": "_Cqxk-5s4lAd",
        "outputId": "1cb1aceb-be77-4305-ac06-84d3b482a1ce"
      },
      "outputs": [
        {
          "output_type": "execute_result",
          "data": {
            "text/plain": [
              "29.470650209767236"
            ]
          },
          "metadata": {},
          "execution_count": 74
        }
      ],
      "source": [
        "mse_train"
      ]
    },
    {
      "cell_type": "markdown",
      "metadata": {
        "id": "2FB0nO684lAd"
      },
      "source": [
        "#### Root Mean Square Error"
      ]
    },
    {
      "cell_type": "code",
      "execution_count": null,
      "metadata": {
        "colab": {
          "base_uri": "https://localhost:8080/"
        },
        "id": "kNddUV204lAd",
        "outputId": "3e274a62-a4d7-4d94-bb24-1d81874855cd"
      },
      "outputs": [
        {
          "output_type": "execute_result",
          "data": {
            "text/plain": [
              "5.806259275552933"
            ]
          },
          "metadata": {},
          "execution_count": 75
        }
      ],
      "source": [
        "rmse_test"
      ]
    },
    {
      "cell_type": "code",
      "execution_count": null,
      "metadata": {
        "colab": {
          "base_uri": "https://localhost:8080/"
        },
        "id": "oHXrGqVe4lAe",
        "outputId": "14efbd7f-3738-4b22-96f5-fa15915aca2c"
      },
      "outputs": [
        {
          "output_type": "execute_result",
          "data": {
            "text/plain": [
              "5.428687706045286"
            ]
          },
          "metadata": {},
          "execution_count": 76
        }
      ],
      "source": [
        "rmse_train"
      ]
    },
    {
      "cell_type": "markdown",
      "metadata": {
        "id": "FlQVuB58spI3"
      },
      "source": [
        "### Representation of Actual VS Predicted"
      ]
    },
    {
      "cell_type": "code",
      "execution_count": null,
      "metadata": {
        "colab": {
          "base_uri": "https://localhost:8080/",
          "height": 395
        },
        "id": "z6NNrimLo2QJ",
        "outputId": "d9aa92e8-1787-4fd0-f0f5-6494ad3967f0"
      },
      "outputs": [
        {
          "output_type": "execute_result",
          "data": {
            "text/plain": [
              "[<matplotlib.lines.Line2D at 0x7fe5612658d0>]"
            ]
          },
          "metadata": {},
          "execution_count": 77
        },
        {
          "output_type": "display_data",
          "data": {
            "text/plain": [
              "<Figure size 576x396 with 1 Axes>"
            ],
            "image/png": "[encoded data removed]"
          },
          "metadata": {
            "needs_background": "light"
          }
        }
      ],
      "source": [
        "# test data\n",
        "y_predict = lr.predict(X_test_poly)\n",
        "\n",
        "plt.xlabel('actual')\n",
        "plt.ylabel('predicted')\n",
        "plt.title('AQI')\n",
        "plt.scatter(y_test,y_predict, color='r')\n",
        "plt.plot(y_predict, y_predict)"
      ]
    },
    {
      "cell_type": "code",
      "execution_count": null,
      "metadata": {
        "colab": {
          "base_uri": "https://localhost:8080/",
          "height": 395
        },
        "id": "_4Fls5Fso2Ul",
        "outputId": "7802c330-3f9f-4aa0-9e81-a5a5d0bfe49f"
      },
      "outputs": [
        {
          "output_type": "execute_result",
          "data": {
            "text/plain": [
              "[<matplotlib.lines.Line2D at 0x7fe5611ae8d0>]"
            ]
          },
          "metadata": {},
          "execution_count": 78
        },
        {
          "output_type": "display_data",
          "data": {
            "text/plain": [
              "<Figure size 576x396 with 1 Axes>"
            ],
            "image/png": "[encoded data removed]"
          },
          "metadata": {
            "needs_background": "light"
          }
        }
      ],
      "source": [
        "# train data\n",
        "y_predict = lr.predict(X_train_poly)\n",
        "\n",
        "plt.xlabel('actual')\n",
        "plt.ylabel('predicted')\n",
        "plt.title('AQI')\n",
        "plt.scatter(y_train,y_predict, color='r')\n",
        "plt.plot(y_predict, y_predict)"
      ]
    },
    {
      "cell_type": "markdown",
      "source": [
        "### Equation"
      ],
      "metadata": {
        "id": "BgbywMTIRA8G"
      }
    },
    {
      "cell_type": "code",
      "execution_count": null,
      "metadata": {
        "colab": {
          "base_uri": "https://localhost:8080/"
        },
        "id": "YPj0whCVo2Zr",
        "outputId": "667ab04c-e42a-4118-cc34-b7f03075c9e3"
      },
      "outputs": [
        {
          "output_type": "execute_result",
          "data": {
            "text/plain": [
              "array([ 9.96319144e-16,  2.49124714e+01,  3.33458714e+00,  4.27894898e-01,\n",
              "        5.37104724e+00, -2.32665636e-02,  1.55233734e-01, -1.98276595e-01,\n",
              "        3.07730627e+00, -5.26334279e+00, -3.36420943e-01, -9.29852256e+00,\n",
              "       -2.22076854e-01, -3.93837565e-01, -2.40573897e-01,  2.58021702e+00,\n",
              "        1.91174065e-01, -8.08784886e-01,  1.56368840e+00,  5.85006073e-01,\n",
              "       -5.10232262e-02, -2.75239845e-02,  1.73765379e-01, -4.00854113e-01,\n",
              "        4.46366194e-01,  3.38971733e-01,  7.13522233e+00, -6.60853262e-01,\n",
              "       -2.21646138e-02, -1.04650316e+00,  2.83437651e-01,  2.83733289e-01,\n",
              "       -1.17022152e-01, -1.14013024e-01, -7.09038299e-01,  3.59565601e-02])"
            ]
          },
          "metadata": {},
          "execution_count": 79
        }
      ],
      "source": [
        "lr.coef_"
      ]
    },
    {
      "cell_type": "code",
      "execution_count": null,
      "metadata": {
        "colab": {
          "base_uri": "https://localhost:8080/"
        },
        "id": "pihmTAEJo2fk",
        "outputId": "bad20bfd-c787-4df2-c207-79c8cd1eb35d"
      },
      "outputs": [
        {
          "output_type": "execute_result",
          "data": {
            "text/plain": [
              "76.3008194926406"
            ]
          },
          "metadata": {},
          "execution_count": 80
        }
      ],
      "source": [
        "lr.intercept_"
      ]
    },
    {
      "cell_type": "markdown",
      "metadata": {
        "id": "cEtdEmi53DC-"
      },
      "source": [
        "### cross validation score"
      ]
    },
    {
      "cell_type": "code",
      "execution_count": null,
      "metadata": {
        "colab": {
          "base_uri": "https://localhost:8080/"
        },
        "id": "XPEMSvny2uQF",
        "outputId": "dadaad1f-3aad-48e5-86b9-fb0ae645b1ec"
      },
      "outputs": [
        {
          "output_type": "stream",
          "name": "stdout",
          "text": [
            "train :  [0.97076231 0.97104581 0.96959845]\n",
            "test :  [0.98128589 0.9352103  0.98002704]\n",
            "train :  0.9704688538726591\n",
            "test :  0.965507741597785\n"
          ]
        }
      ],
      "source": [
        "from sklearn import linear_model\n",
        "\n",
        "scores101 = cross_val_score(lr, X_train_poly, y_train, cv=3,)\n",
        "scores102 = cross_val_score(lr, X_test_poly, y_test, cv=3,)\n",
        "print(\"train : \",scores101)\n",
        "print(\"test : \",scores102)\n",
        "\n",
        "# scores = cross_val_score(regr,x_train, y_train, cv=5)\n",
        "print(\"train : \",np.average(scores101))\n",
        "print(\"test : \",np.average(scores102))"
      ]
    },
    {
      "cell_type": "markdown",
      "metadata": {
        "id": "BJAww42MIUPw"
      },
      "source": [
        "\n",
        "<br>\n",
        "<br>\n",
        "<br>\n",
        "<br>\n",
        "\n",
        "# Random Forest"
      ]
    },
    {
      "cell_type": "code",
      "execution_count": null,
      "metadata": {
        "id": "mD5AcrdU-_UE"
      },
      "outputs": [],
      "source": [
        "from sklearn.ensemble import RandomForestRegressor"
      ]
    },
    {
      "cell_type": "code",
      "execution_count": null,
      "metadata": {
        "id": "GsUJPPbcFzhu"
      },
      "outputs": [],
      "source": [
        "Y_train = y_train.astype(int)\n",
        "Y_test = y_test.astype(int)"
      ]
    },
    {
      "cell_type": "markdown",
      "metadata": {
        "id": "9ac5e4eb"
      },
      "source": [
        "### Parameter tunning using k fold cross validation"
      ]
    },
    {
      "cell_type": "code",
      "execution_count": null,
      "metadata": {
        "colab": {
          "base_uri": "https://localhost:8080/"
        },
        "id": "D73iibNBH0oR",
        "outputId": "a0961883-376d-41d3-f95f-b1ba1096197a"
      },
      "outputs": [
        {
          "output_type": "execute_result",
          "data": {
            "text/plain": [
              "0.9743209924736137"
            ]
          },
          "metadata": {},
          "execution_count": 84
        }
      ],
      "source": [
        "scores1 = cross_val_score(RandomForestRegressor(n_estimators=2),x_train, Y_train, cv=3)\n",
        "np.average(scores1)"
      ]
    },
    {
      "cell_type": "code",
      "execution_count": null,
      "metadata": {
        "colab": {
          "base_uri": "https://localhost:8080/"
        },
        "id": "0ce15909",
        "outputId": "148c27f3-663b-4d3f-c8bd-84ea2d40c5c6"
      },
      "outputs": [
        {
          "output_type": "execute_result",
          "data": {
            "text/plain": [
              "0.9747786263479097"
            ]
          },
          "metadata": {},
          "execution_count": 85
        }
      ],
      "source": [
        "scores1 = cross_val_score(RandomForestRegressor(n_estimators=5),x_train,Y_train, cv=3)\n",
        "np.average(scores1)"
      ]
    },
    {
      "cell_type": "code",
      "execution_count": null,
      "metadata": {
        "colab": {
          "base_uri": "https://localhost:8080/"
        },
        "id": "7de9979e",
        "outputId": "eaf72784-678a-4be9-e19d-2fed3f916fb6"
      },
      "outputs": [
        {
          "output_type": "execute_result",
          "data": {
            "text/plain": [
              "0.9737989039743985"
            ]
          },
          "metadata": {},
          "execution_count": 86
        }
      ],
      "source": [
        "scores2 = cross_val_score(RandomForestRegressor(n_estimators=20),x_train, Y_train, cv=3)\n",
        "np.average(scores2)"
      ]
    },
    {
      "cell_type": "code",
      "execution_count": null,
      "metadata": {
        "colab": {
          "base_uri": "https://localhost:8080/"
        },
        "id": "d5b037d5",
        "outputId": "50770438-dd67-4410-86f9-f880dc36d8a5"
      },
      "outputs": [
        {
          "output_type": "execute_result",
          "data": {
            "text/plain": [
              "0.9780367768753319"
            ]
          },
          "metadata": {},
          "execution_count": 87
        }
      ],
      "source": [
        "scores3 = cross_val_score(RandomForestRegressor(n_estimators=40),x_train, Y_train, cv=3)\n",
        "np.average(scores3)"
      ]
    },
    {
      "cell_type": "code",
      "execution_count": null,
      "metadata": {
        "colab": {
          "base_uri": "https://localhost:8080/"
        },
        "id": "b1b99e6a",
        "outputId": "0d30e78c-aa62-45fd-dea8-18b9198e4b51"
      },
      "outputs": [
        {
          "output_type": "execute_result",
          "data": {
            "text/plain": [
              "0.9769098469987932"
            ]
          },
          "metadata": {},
          "execution_count": 88
        }
      ],
      "source": [
        "scores4 = cross_val_score(RandomForestRegressor(n_estimators=50),x_train, Y_train, cv=3)\n",
        "np.average(scores4)"
      ]
    },
    {
      "cell_type": "code",
      "execution_count": null,
      "metadata": {
        "colab": {
          "base_uri": "https://localhost:8080/"
        },
        "id": "ntDMRROjqthQ",
        "outputId": "951e1122-1824-47dc-dc20-ce002af0d0d2"
      },
      "outputs": [
        {
          "output_type": "execute_result",
          "data": {
            "text/plain": [
              "0.977367718653963"
            ]
          },
          "metadata": {},
          "execution_count": 89
        }
      ],
      "source": [
        "scores4 = cross_val_score(RandomForestRegressor(n_estimators=60),x_train, Y_train, cv=3)\n",
        "np.average(scores4)"
      ]
    },
    {
      "cell_type": "code",
      "execution_count": null,
      "metadata": {
        "colab": {
          "base_uri": "https://localhost:8080/"
        },
        "id": "xrSH5Bktqvrx",
        "outputId": "b9af419f-5f83-48d8-838f-d2323e4c1355"
      },
      "outputs": [
        {
          "output_type": "execute_result",
          "data": {
            "text/plain": [
              "0.9779079897255483"
            ]
          },
          "metadata": {},
          "execution_count": 90
        }
      ],
      "source": [
        "\n",
        "scores4 = cross_val_score(RandomForestRegressor(n_estimators=80),x_train, Y_train, cv=3)\n",
        "np.average(scores4)"
      ]
    },
    {
      "cell_type": "markdown",
      "metadata": {
        "id": "aUFk6py5I5zT"
      },
      "source": [
        "\n",
        "<br>\n",
        "\n",
        "### Building Model"
      ]
    },
    {
      "cell_type": "code",
      "execution_count": null,
      "metadata": {
        "id": "aPJP3XSL7F6r"
      },
      "outputs": [],
      "source": [
        "model2 = RandomForestRegressor(n_estimators=50)  # Number of random trees to generate should 20 from above scores"
      ]
    },
    {
      "cell_type": "code",
      "execution_count": null,
      "metadata": {
        "colab": {
          "base_uri": "https://localhost:8080/"
        },
        "id": "u7M53yC2L0da",
        "outputId": "c9ab7ea7-4c73-4e04-9c7e-538d57da8313"
      },
      "outputs": [
        {
          "output_type": "execute_result",
          "data": {
            "text/plain": [
              "RandomForestRegressor(n_estimators=50)"
            ]
          },
          "metadata": {},
          "execution_count": 92
        }
      ],
      "source": [
        "model2.fit(x_train, Y_train)"
      ]
    },
    {
      "cell_type": "code",
      "execution_count": null,
      "metadata": {
        "colab": {
          "base_uri": "https://localhost:8080/"
        },
        "id": "jc9UyJTtw27p",
        "outputId": "69084345-2fc3-4a11-b6c9-6e01c15287d6"
      },
      "outputs": [
        {
          "output_type": "execute_result",
          "data": {
            "text/plain": [
              "0.9981685314151089"
            ]
          },
          "metadata": {},
          "execution_count": 93
        }
      ],
      "source": [
        "model2.score(x_train, Y_train)      # random forest uses decision tree so accuracy for same Data is 100%"
      ]
    },
    {
      "cell_type": "code",
      "execution_count": null,
      "metadata": {
        "colab": {
          "base_uri": "https://localhost:8080/"
        },
        "id": "83Yl4hF2--9x",
        "outputId": "38db2dd6-35fa-43ab-f159-31c9ddd7c316"
      },
      "outputs": [
        {
          "output_type": "execute_result",
          "data": {
            "text/plain": [
              "0.965490851269076"
            ]
          },
          "metadata": {},
          "execution_count": 94
        }
      ],
      "source": [
        "model2.score(x_test, Y_test)"
      ]
    },
    {
      "cell_type": "markdown",
      "metadata": {
        "id": "FuMx6MkAx1L8"
      },
      "source": [
        "### Representation of Actual VS Predicted"
      ]
    },
    {
      "cell_type": "code",
      "execution_count": null,
      "metadata": {
        "colab": {
          "base_uri": "https://localhost:8080/"
        },
        "id": "7tcYPmYwKSe7",
        "outputId": "0f9926bd-8e4a-4e4d-a59c-6985c69d6a24"
      },
      "outputs": [
        {
          "output_type": "execute_result",
          "data": {
            "text/plain": [
              "[<matplotlib.lines.Line2D at 0x7fe5642f55d0>]"
            ]
          },
          "metadata": {},
          "execution_count": 95
        },
        {
          "output_type": "display_data",
          "data": {
            "text/plain": [
              "<Figure size 576x396 with 1 Axes>"
            ],
            "image/png": "[encoded data removed]"
          },
          "metadata": {
            "needs_background": "light"
          }
        }
      ],
      "source": [
        "y_predict = model2.predict(x_train)\n",
        "\n",
        "plt.xlabel('actual')\n",
        "plt.ylabel('predicted')\n",
        "plt.title('AQI')\n",
        "plt.scatter(Y_train,y_predict, color='r')\n",
        "plt.plot(y_predict, y_predict)"
      ]
    },
    {
      "cell_type": "code",
      "execution_count": null,
      "metadata": {
        "colab": {
          "base_uri": "https://localhost:8080/"
        },
        "id": "QMMCpJDIKSfN",
        "outputId": "d9740068-9e8f-4558-ac7b-0bfbdc0f881a"
      },
      "outputs": [
        {
          "output_type": "execute_result",
          "data": {
            "text/plain": [
              "[<matplotlib.lines.Line2D at 0x7fe564354810>]"
            ]
          },
          "metadata": {},
          "execution_count": 96
        },
        {
          "output_type": "display_data",
          "data": {
            "text/plain": [
              "<Figure size 576x396 with 1 Axes>"
            ],
            "image/png": "[encoded data removed]"
          },
          "metadata": {
            "needs_background": "light"
          }
        }
      ],
      "source": [
        "y_predict = model2.predict(x_test)\n",
        "\n",
        "plt.xlabel('actual')\n",
        "plt.ylabel('predicted')\n",
        "plt.title('AQI')\n",
        "plt.scatter(Y_test,y_predict, color='r')\n",
        "plt.plot(y_predict, y_predict)"
      ]
    },
    {
      "cell_type": "markdown",
      "source": [
        "### Statistical Errors"
      ],
      "metadata": {
        "id": "7ei9CXQ3QFfy"
      }
    },
    {
      "cell_type": "code",
      "execution_count": null,
      "metadata": {
        "id": "JkCfxqWJ1fve"
      },
      "outputs": [],
      "source": [
        "y_predict_test = model2.predict(x_test)\n",
        "y_predict_train = model2.predict(x_train)\n",
        "\n",
        "from sklearn.metrics import mean_squared_error, mean_absolute_error\n",
        "mae_test = mean_absolute_error(y_test, y_predict_test)\n",
        "mse_test = mean_squared_error(y_test, y_predict_test)\n",
        "rmse_test = np.sqrt(mse_test)\n",
        "\n",
        "mae_train = mean_absolute_error(y_train, y_predict_train)\n",
        "mse_train = mean_squared_error(y_train, y_predict_train)\n",
        "rmse_train = np.sqrt(mse_train)"
      ]
    },
    {
      "cell_type": "code",
      "execution_count": null,
      "metadata": {
        "colab": {
          "base_uri": "https://localhost:8080/"
        },
        "id": "H7TPWBkN2KDR",
        "outputId": "c810d68a-d888-4b0f-b7bc-0dffeb9c6568"
      },
      "outputs": [
        {
          "output_type": "execute_result",
          "data": {
            "text/plain": [
              "1.7332089354838704"
            ]
          },
          "metadata": {},
          "execution_count": 119
        }
      ],
      "source": [
        "mae_test"
      ]
    },
    {
      "cell_type": "code",
      "execution_count": null,
      "metadata": {
        "colab": {
          "base_uri": "https://localhost:8080/"
        },
        "id": "10-_Dp2I2KN4",
        "outputId": "f850a1ce-12d8-4701-8422-cf36225da853"
      },
      "outputs": [
        {
          "output_type": "execute_result",
          "data": {
            "text/plain": [
              "0.7392329155124656"
            ]
          },
          "metadata": {},
          "execution_count": 120
        }
      ],
      "source": [
        "mae_train"
      ]
    },
    {
      "cell_type": "code",
      "execution_count": null,
      "metadata": {
        "colab": {
          "base_uri": "https://localhost:8080/"
        },
        "id": "OP61A40Y2KY2",
        "outputId": "8b6038d8-7490-4423-e4af-2e997134d1cf"
      },
      "outputs": [
        {
          "output_type": "execute_result",
          "data": {
            "text/plain": [
              "45.885031519842265"
            ]
          },
          "metadata": {},
          "execution_count": 121
        }
      ],
      "source": [
        "mse_test"
      ]
    },
    {
      "cell_type": "code",
      "execution_count": null,
      "metadata": {
        "colab": {
          "base_uri": "https://localhost:8080/"
        },
        "id": "IVOG18eg2KkV",
        "outputId": "edffca70-ce84-4a55-94c0-82e64a0676e2"
      },
      "outputs": [
        {
          "output_type": "execute_result",
          "data": {
            "text/plain": [
              "2.5996300602713998"
            ]
          },
          "metadata": {},
          "execution_count": 122
        }
      ],
      "source": [
        "mse_train"
      ]
    },
    {
      "cell_type": "code",
      "execution_count": null,
      "metadata": {
        "colab": {
          "base_uri": "https://localhost:8080/"
        },
        "id": "PiDooF3H2KwR",
        "outputId": "9888915c-7d8a-4296-f909-c73a52417f91"
      },
      "outputs": [
        {
          "output_type": "execute_result",
          "data": {
            "text/plain": [
              "6.773849091900576"
            ]
          },
          "metadata": {},
          "execution_count": 123
        }
      ],
      "source": [
        "rmse_test"
      ]
    },
    {
      "cell_type": "code",
      "execution_count": null,
      "metadata": {
        "colab": {
          "base_uri": "https://localhost:8080/"
        },
        "id": "ysuChuPN2LGw",
        "outputId": "a9797632-3e1f-4acc-877f-8c36ecdd9f6d"
      },
      "outputs": [
        {
          "output_type": "execute_result",
          "data": {
            "text/plain": [
              "1.6123368321388059"
            ]
          },
          "metadata": {},
          "execution_count": 124
        }
      ],
      "source": [
        "rmse_train"
      ]
    },
    {
      "cell_type": "markdown",
      "source": [
        "<br><br><br><br><br>\n",
        "# SVR"
      ],
      "metadata": {
        "id": "rJ8N6zS0-lDX"
      }
    },
    {
      "cell_type": "code",
      "source": [
        "from sklearn.svm import SVR"
      ],
      "metadata": {
        "id": "FMfe43VC-nhG"
      },
      "execution_count": null,
      "outputs": []
    },
    {
      "cell_type": "markdown",
      "metadata": {
        "id": "W7OEtoxT-341"
      },
      "source": [
        "<br>\n",
        "\n",
        "\n",
        "### Data Scaling"
      ]
    },
    {
      "cell_type": "code",
      "execution_count": null,
      "metadata": {
        "id": "cRwsdAwS-342"
      },
      "outputs": [],
      "source": [
        "from sklearn.preprocessing import StandardScaler\n",
        "\n",
        "# st_x=StandardScaler()\n",
        "# st_y=StandardScaler()\n",
        "# X=st_x.fit_transform(x_train)\n",
        "# Y=st_y.fit_transform(y_train)\n",
        "\n",
        "sc = StandardScaler()\n",
        "sc.fit(x_train)\n",
        "X_train = sc.transform(x_train)\n",
        "X_test = sc.transform(x_test)"
      ]
    },
    {
      "cell_type": "markdown",
      "source": [
        "### Parameter tunning using k fold cross validation ( kernel Selection )"
      ],
      "metadata": {
        "id": "e3K1vNq7IrDD"
      }
    },
    {
      "cell_type": "code",
      "source": [
        "scores1 = cross_val_score(SVR(kernel='rbf'),x_train, y_train, cv=3)\n",
        "np.average(scores1)"
      ],
      "metadata": {
        "colab": {
          "base_uri": "https://localhost:8080/"
        },
        "id": "wKCZ_yp-IYdG",
        "outputId": "84940571-2cce-4447-a9ef-e3e08d5433e6"
      },
      "execution_count": null,
      "outputs": [
        {
          "output_type": "execute_result",
          "data": {
            "text/plain": [
              "0.8782091747753856"
            ]
          },
          "metadata": {},
          "execution_count": 158
        }
      ]
    },
    {
      "cell_type": "code",
      "source": [
        "scores2 = cross_val_score(SVR(kernel='linear'),x_train, y_train, cv=3)\n",
        "np.average(scores2)"
      ],
      "metadata": {
        "colab": {
          "base_uri": "https://localhost:8080/"
        },
        "id": "FzPzls82IyYH",
        "outputId": "79a07e95-5279-4dfa-cc99-6bb39c9b1f4e"
      },
      "execution_count": null,
      "outputs": [
        {
          "output_type": "execute_result",
          "data": {
            "text/plain": [
              "0.8184118060768037"
            ]
          },
          "metadata": {},
          "execution_count": 159
        }
      ]
    },
    {
      "cell_type": "code",
      "source": [
        "scores3 = cross_val_score(SVR(kernel='poly'),x_train, y_train, cv=3)\n",
        "np.average(scores3)"
      ],
      "metadata": {
        "colab": {
          "base_uri": "https://localhost:8080/"
        },
        "id": "eYjNuMkPIybl",
        "outputId": "2afa7bfa-f218-4c40-f3ae-5f4beda24f54"
      },
      "execution_count": null,
      "outputs": [
        {
          "output_type": "execute_result",
          "data": {
            "text/plain": [
              "0.9205285008435675"
            ]
          },
          "metadata": {},
          "execution_count": 161
        }
      ]
    },
    {
      "cell_type": "markdown",
      "source": [
        "### Model Building"
      ],
      "metadata": {
        "id": "cK6Uw_wPBS0g"
      }
    },
    {
      "cell_type": "code",
      "source": [
        "model3 = SVR(kernel='poly')"
      ],
      "metadata": {
        "id": "NLTpfXc_JSoI"
      },
      "execution_count": null,
      "outputs": []
    },
    {
      "cell_type": "code",
      "source": [
        "model3.fit(x_train, y_train)"
      ],
      "metadata": {
        "colab": {
          "base_uri": "https://localhost:8080/"
        },
        "id": "o2zxyzfy-nmf",
        "outputId": "9b27a778-1f84-48cf-9ce7-bfaf697864f8"
      },
      "execution_count": null,
      "outputs": [
        {
          "output_type": "execute_result",
          "data": {
            "text/plain": [
              "SVR(kernel='poly')"
            ]
          },
          "metadata": {},
          "execution_count": 163
        }
      ]
    },
    {
      "cell_type": "code",
      "source": [
        "model3.score(x_train, y_train)"
      ],
      "metadata": {
        "colab": {
          "base_uri": "https://localhost:8080/"
        },
        "id": "FKNnmvqS-no6",
        "outputId": "dc362c2d-6744-43d1-b396-a35745b859b5"
      },
      "execution_count": null,
      "outputs": [
        {
          "output_type": "execute_result",
          "data": {
            "text/plain": [
              "0.9312634435122114"
            ]
          },
          "metadata": {},
          "execution_count": 164
        }
      ]
    },
    {
      "cell_type": "markdown",
      "metadata": {
        "id": "iDrsMtv8D4RJ"
      },
      "source": [
        "### cross validation score"
      ]
    },
    {
      "cell_type": "code",
      "execution_count": null,
      "metadata": {
        "colab": {
          "base_uri": "https://localhost:8080/"
        },
        "outputId": "95c7432c-5038-4002-d4f2-ded4edf502a8",
        "id": "6kmR3zT1D4RL"
      },
      "outputs": [
        {
          "output_type": "stream",
          "name": "stdout",
          "text": [
            "train :  [0.90945242 0.93673201 0.91540108]\n",
            "test :  [0.82390705 0.90742892 0.87586927]\n",
            "train :  0.9205285008435675\n",
            "test :  0.8690684161826024\n"
          ]
        }
      ],
      "source": [
        "scores101 = cross_val_score(model3, x_train, y_train, cv=3)\n",
        "scores102 = cross_val_score(model3, x_test, y_test, cv=3)\n",
        "print(\"train : \",scores101)\n",
        "print(\"test : \",scores102)\n",
        "\n",
        "# scores = cross_val_score(regr,x_train, y_train, cv=5)\n",
        "print(\"train : \",np.average(scores101))\n",
        "print(\"test : \",np.average(scores102))"
      ]
    },
    {
      "cell_type": "markdown",
      "metadata": {
        "id": "IGT1mDO5CjOf"
      },
      "source": [
        "### Representation of Actual VS Predicted"
      ]
    },
    {
      "cell_type": "code",
      "execution_count": null,
      "metadata": {
        "colab": {
          "base_uri": "https://localhost:8080/"
        },
        "outputId": "f0c8483c-d880-49d4-e0ad-8749cff15501",
        "id": "5EU2gl1mCjOg"
      },
      "outputs": [
        {
          "output_type": "execute_result",
          "data": {
            "text/plain": [
              "[<matplotlib.lines.Line2D at 0x7fe55e9ad990>]"
            ]
          },
          "metadata": {},
          "execution_count": 132
        },
        {
          "output_type": "display_data",
          "data": {
            "text/plain": [
              "<Figure size 576x396 with 1 Axes>"
            ],
            "image/png": "[encoded data removed]"
          },
          "metadata": {
            "needs_background": "light"
          }
        }
      ],
      "source": [
        "y_predict = model3.predict(x_train)\n",
        "\n",
        "plt.xlabel('actual')\n",
        "plt.ylabel('predicted')\n",
        "plt.title('AQI')\n",
        "plt.scatter(Y_train,y_predict, color='r')\n",
        "plt.plot(y_predict, y_predict)"
      ]
    },
    {
      "cell_type": "code",
      "execution_count": null,
      "metadata": {
        "colab": {
          "base_uri": "https://localhost:8080/"
        },
        "outputId": "acb469f3-5a0f-430b-d5fc-dac79dd301f4",
        "id": "8OLqtoF2CjOi"
      },
      "outputs": [
        {
          "output_type": "execute_result",
          "data": {
            "text/plain": [
              "[<matplotlib.lines.Line2D at 0x7fe55e920290>]"
            ]
          },
          "metadata": {},
          "execution_count": 133
        },
        {
          "output_type": "display_data",
          "data": {
            "text/plain": [
              "<Figure size 576x396 with 1 Axes>"
            ],
            "image/png": "[encoded data removed]"
          },
          "metadata": {
            "needs_background": "light"
          }
        }
      ],
      "source": [
        "y_predict = model3.predict(x_test)\n",
        "\n",
        "plt.xlabel('actual')\n",
        "plt.ylabel('predicted')\n",
        "plt.title('AQI')\n",
        "plt.scatter(Y_test,y_predict, color='r')\n",
        "plt.plot(y_predict, y_predict)"
      ]
    },
    {
      "cell_type": "markdown",
      "source": [
        "### Statistical Errors"
      ],
      "metadata": {
        "id": "GvZzkxLcDhMc"
      }
    },
    {
      "cell_type": "code",
      "execution_count": null,
      "metadata": {
        "id": "QT-VyXZKDhMe"
      },
      "outputs": [],
      "source": [
        "y_predict_test = model3.predict(x_test)\n",
        "y_predict_train = model3.predict(x_train)\n",
        "\n",
        "from sklearn.metrics import mean_squared_error, mean_absolute_error\n",
        "mae_test = mean_absolute_error(y_test, y_predict_test)\n",
        "mse_test = mean_squared_error(y_test, y_predict_test)\n",
        "rmse_test = np.sqrt(mse_test)\n",
        "\n",
        "mae_train = mean_absolute_error(y_train, y_predict_train)\n",
        "mse_train = mean_squared_error(y_train, y_predict_train)\n",
        "rmse_train = np.sqrt(mse_train)"
      ]
    },
    {
      "cell_type": "code",
      "execution_count": null,
      "metadata": {
        "colab": {
          "base_uri": "https://localhost:8080/"
        },
        "outputId": "1aeb740f-4f1b-46e1-f306-82524636b2e6",
        "id": "zpIy2mqxDhMf"
      },
      "outputs": [
        {
          "output_type": "execute_result",
          "data": {
            "text/plain": [
              "5.5468554865514985"
            ]
          },
          "metadata": {},
          "execution_count": 135
        }
      ],
      "source": [
        "mae_test"
      ]
    },
    {
      "cell_type": "code",
      "execution_count": null,
      "metadata": {
        "colab": {
          "base_uri": "https://localhost:8080/"
        },
        "outputId": "92b7a2af-0428-4d36-95f0-077a081e20de",
        "id": "GaA90FqJDhMh"
      },
      "outputs": [
        {
          "output_type": "execute_result",
          "data": {
            "text/plain": [
              "5.064583182557179"
            ]
          },
          "metadata": {},
          "execution_count": 136
        }
      ],
      "source": [
        "mae_train"
      ]
    },
    {
      "cell_type": "code",
      "execution_count": null,
      "metadata": {
        "colab": {
          "base_uri": "https://localhost:8080/"
        },
        "outputId": "8bab6288-8194-4954-9b5e-3f686feb1ef6",
        "id": "yQaUYg7_DhMi"
      },
      "outputs": [
        {
          "output_type": "execute_result",
          "data": {
            "text/plain": [
              "168.340738209847"
            ]
          },
          "metadata": {},
          "execution_count": 137
        }
      ],
      "source": [
        "mse_test"
      ]
    },
    {
      "cell_type": "code",
      "execution_count": null,
      "metadata": {
        "colab": {
          "base_uri": "https://localhost:8080/"
        },
        "outputId": "839e10d1-a5ee-4a35-e668-d3fcc1f513a6",
        "id": "RsHS-VwmDhMj"
      },
      "outputs": [
        {
          "output_type": "execute_result",
          "data": {
            "text/plain": [
              "108.73341140686043"
            ]
          },
          "metadata": {},
          "execution_count": 138
        }
      ],
      "source": [
        "mse_train"
      ]
    },
    {
      "cell_type": "code",
      "execution_count": null,
      "metadata": {
        "colab": {
          "base_uri": "https://localhost:8080/"
        },
        "outputId": "84c736a5-90f8-4181-ccca-a91403f0f1de",
        "id": "zTXx9GIcDhMk"
      },
      "outputs": [
        {
          "output_type": "execute_result",
          "data": {
            "text/plain": [
              "12.974619000565951"
            ]
          },
          "metadata": {},
          "execution_count": 139
        }
      ],
      "source": [
        "rmse_test"
      ]
    },
    {
      "cell_type": "code",
      "execution_count": null,
      "metadata": {
        "colab": {
          "base_uri": "https://localhost:8080/"
        },
        "outputId": "7588fdda-f2d1-4e73-e1aa-ae74080e990d",
        "id": "s54KwrUXDhMl"
      },
      "outputs": [
        {
          "output_type": "execute_result",
          "data": {
            "text/plain": [
              "10.427531414810527"
            ]
          },
          "metadata": {},
          "execution_count": 140
        }
      ],
      "source": [
        "rmse_train"
      ]
    },
    {
      "cell_type": "markdown",
      "source": [
        "<br><br><br><br>\n",
        "# Hybrid Model (Polynomial + RF)"
      ],
      "metadata": {
        "id": "6dvYhM-vPCgQ"
      }
    },
    {
      "cell_type": "code",
      "execution_count": null,
      "metadata": {
        "id": "74djyHhvPbs_"
      },
      "outputs": [],
      "source": [
        "from sklearn.linear_model import LinearRegression\n",
        "from sklearn.preprocessing import PolynomialFeatures"
      ]
    },
    {
      "cell_type": "markdown",
      "metadata": {
        "id": "0xSuPDwrPbtA"
      },
      "source": [
        "<br>\n",
        "\n",
        "\n",
        "### Data Scaling"
      ]
    },
    {
      "cell_type": "code",
      "execution_count": null,
      "metadata": {
        "id": "g1p2ZH_iPbtB"
      },
      "outputs": [],
      "source": [
        "from sklearn.preprocessing import StandardScaler\n",
        "sc = StandardScaler()\n",
        "sc.fit(x_train)\n",
        "X_train = sc.transform(x_train)\n",
        "X_test = sc.transform(x_test)"
      ]
    },
    {
      "cell_type": "code",
      "source": [
        "# X_train"
      ],
      "metadata": {
        "id": "Iai8f91Bmhls"
      },
      "execution_count": null,
      "outputs": []
    },
    {
      "cell_type": "markdown",
      "source": [
        "<h3> Polynomial Features"
      ],
      "metadata": {
        "id": "OiDJFuAPP65u"
      }
    },
    {
      "cell_type": "code",
      "execution_count": null,
      "metadata": {
        "colab": {
          "base_uri": "https://localhost:8080/"
        },
        "outputId": "d6091345-d96a-4a89-9199-5b3965e73dad",
        "id": "CauPzjO-P65w"
      },
      "outputs": [
        {
          "output_type": "execute_result",
          "data": {
            "text/plain": [
              "((1444, 36), (620, 36))"
            ]
          },
          "metadata": {},
          "execution_count": 18
        }
      ],
      "source": [
        "poly_reg = PolynomialFeatures(degree=2)      # degree =2\n",
        "poly_reg.fit(X_train)\n",
        "X_train_poly = poly_reg.transform(X_train)\n",
        "X_test_poly = poly_reg.transform(X_test)\n",
        "\n",
        "# new features count\n",
        "X_train_poly.shape, X_test_poly.shape"
      ]
    },
    {
      "cell_type": "code",
      "source": [
        "# X_train_poly"
      ],
      "metadata": {
        "id": "D0Minu7ems6-"
      },
      "execution_count": null,
      "outputs": []
    },
    {
      "cell_type": "code",
      "execution_count": null,
      "metadata": {
        "id": "xeFqhHTtUj00"
      },
      "outputs": [],
      "source": [
        "from sklearn.ensemble import RandomForestRegressor"
      ]
    },
    {
      "cell_type": "code",
      "execution_count": null,
      "metadata": {
        "id": "Wgz5MnG5Uj02"
      },
      "outputs": [],
      "source": [
        "### Y_train = y_train.astype(int)\n",
        "### Y_test = y_test.astype(int)"
      ]
    },
    {
      "cell_type": "markdown",
      "source": [
        "### Defining Hybrid model"
      ],
      "metadata": {
        "id": "RHug5Jnqxnfd"
      }
    },
    {
      "cell_type": "code",
      "source": [
        "class HBD:\n",
        "  def __init__(self, model1, model2):\n",
        "    self.model1 = model1\n",
        "    self.model2 = model2\n",
        "  \n",
        "  def fit(self, x, y):\n",
        "    self.model1.fit(x,y)\n",
        "    y1 = self.model1.predict(x)\n",
        "    self.model2.fit(y1.reshape(-1, 1),y)\n",
        "  \n",
        "  def predict(self, x):\n",
        "    y1 = self.model1.predict(x)\n",
        "    return self.model2.predict(y1.reshape(-1, 1))\n",
        "\n",
        "  def score(self, x, y):\n",
        "    y1 = self.model1.predict(x)\n",
        "    return self.model2.score(y1.reshape(-1, 1),y)"
      ],
      "metadata": {
        "id": "g8-WZWrg-nwe"
      },
      "execution_count": null,
      "outputs": []
    },
    {
      "cell_type": "markdown",
      "source": [
        "### Use of Hybrid Model"
      ],
      "metadata": {
        "id": "9xGu3fqt2N-0"
      }
    },
    {
      "cell_type": "code",
      "source": [
        "mymodel = HBD(LinearRegression(), RandomForestRegressor(n_estimators=30))"
      ],
      "metadata": {
        "id": "qf-_-rMW-nzN"
      },
      "execution_count": null,
      "outputs": []
    },
    {
      "cell_type": "code",
      "source": [
        "mymodel.fit(X_train_poly, y_train)"
      ],
      "metadata": {
        "id": "17q_9ocLwiH9"
      },
      "execution_count": null,
      "outputs": []
    },
    {
      "cell_type": "code",
      "source": [
        "mymodel.score(X_test_poly, y_test)"
      ],
      "metadata": {
        "colab": {
          "base_uri": "https://localhost:8080/"
        },
        "id": "SyN5KH0XwyTb",
        "outputId": "32437e05-eb8a-40a6-9f39-774e1f7933b7"
      },
      "execution_count": null,
      "outputs": [
        {
          "output_type": "execute_result",
          "data": {
            "text/plain": [
              "0.9624621270649161"
            ]
          },
          "metadata": {},
          "execution_count": 25
        }
      ]
    },
    {
      "cell_type": "code",
      "source": [
        "mymodel.predict(X_train_poly)"
      ],
      "metadata": {
        "colab": {
          "base_uri": "https://localhost:8080/"
        },
        "id": "Lyvqyurtw6Gd",
        "outputId": "9e35a9be-8b6b-41ee-c829-cbec95fca4b3"
      },
      "execution_count": null,
      "outputs": [
        {
          "output_type": "execute_result",
          "data": {
            "text/plain": [
              "array([ 70.2345    ,  69.02266667,  59.3915    , ...,  89.54333333,\n",
              "        96.47341667, 107.79774333])"
            ]
          },
          "metadata": {},
          "execution_count": 26
        }
      ]
    },
    {
      "cell_type": "markdown",
      "source": [
        "### Statistical Errors"
      ],
      "metadata": {
        "id": "PPdv19zX9gCR"
      }
    },
    {
      "cell_type": "code",
      "execution_count": null,
      "metadata": {
        "id": "UU2gns6E9gCR"
      },
      "outputs": [],
      "source": [
        "y_predict_test = mymodel.predict(X_test_poly)\n",
        "y_predict_train = mymodel.predict(X_train_poly)\n",
        "\n",
        "from sklearn.metrics import mean_squared_error, mean_absolute_error\n",
        "mae_test = mean_absolute_error(y_test, y_predict_test)\n",
        "mse_test = mean_squared_error(y_test, y_predict_test)\n",
        "rmse_test = np.sqrt(mse_test)\n",
        "\n",
        "mae_train = mean_absolute_error(y_train, y_predict_train)\n",
        "mse_train = mean_squared_error(y_train, y_predict_train)\n",
        "rmse_train = np.sqrt(mse_train)"
      ]
    },
    {
      "cell_type": "markdown",
      "metadata": {
        "id": "otT4N8kA9gCS"
      },
      "source": [
        "<h4> Mean Absolute Error\n"
      ]
    },
    {
      "cell_type": "code",
      "execution_count": null,
      "metadata": {
        "colab": {
          "base_uri": "https://localhost:8080/"
        },
        "outputId": "c7214b66-20bd-442e-827d-9863e141473c",
        "id": "SbeJcPIZ9gCS"
      },
      "outputs": [
        {
          "output_type": "execute_result",
          "data": {
            "text/plain": [
              "5.031145037813621"
            ]
          },
          "metadata": {},
          "execution_count": 28
        }
      ],
      "source": [
        "mae_test"
      ]
    },
    {
      "cell_type": "code",
      "execution_count": null,
      "metadata": {
        "colab": {
          "base_uri": "https://localhost:8080/"
        },
        "outputId": "adc3aa83-9af4-4032-ff4a-36e2eaee8188",
        "id": "FDhsteze9gCS"
      },
      "outputs": [
        {
          "output_type": "execute_result",
          "data": {
            "text/plain": [
              "1.8533979078947365"
            ]
          },
          "metadata": {},
          "execution_count": 29
        }
      ],
      "source": [
        "mae_train"
      ]
    },
    {
      "cell_type": "markdown",
      "metadata": {
        "id": "htijBqa39gCT"
      },
      "source": [
        "<h4> Mean Square Error"
      ]
    },
    {
      "cell_type": "code",
      "execution_count": null,
      "metadata": {
        "colab": {
          "base_uri": "https://localhost:8080/"
        },
        "outputId": "e8e973b9-bfec-4090-e42f-772a2028bd73",
        "id": "SZoKumQc9gCT"
      },
      "outputs": [
        {
          "output_type": "execute_result",
          "data": {
            "text/plain": [
              "47.97952604157658"
            ]
          },
          "metadata": {},
          "execution_count": 30
        }
      ],
      "source": [
        "mse_test"
      ]
    },
    {
      "cell_type": "code",
      "execution_count": null,
      "metadata": {
        "colab": {
          "base_uri": "https://localhost:8080/"
        },
        "outputId": "ba868597-7c92-451b-b278-c19ec852fd1c",
        "id": "ZXvnP8sd9gCT"
      },
      "outputs": [
        {
          "output_type": "execute_result",
          "data": {
            "text/plain": [
              "6.315503115594195"
            ]
          },
          "metadata": {},
          "execution_count": 31
        }
      ],
      "source": [
        "mse_train"
      ]
    },
    {
      "cell_type": "markdown",
      "metadata": {
        "id": "TlxKHH7R9gCT"
      },
      "source": [
        "<h4>  Root Mean Square Error"
      ]
    },
    {
      "cell_type": "code",
      "execution_count": null,
      "metadata": {
        "colab": {
          "base_uri": "https://localhost:8080/"
        },
        "outputId": "68a49a03-e709-40d2-f0b4-094caceb61ea",
        "id": "Khow-MsS9gCU"
      },
      "outputs": [
        {
          "output_type": "execute_result",
          "data": {
            "text/plain": [
              "6.926725492003893"
            ]
          },
          "metadata": {},
          "execution_count": 32
        }
      ],
      "source": [
        "rmse_test"
      ]
    },
    {
      "cell_type": "code",
      "execution_count": null,
      "metadata": {
        "colab": {
          "base_uri": "https://localhost:8080/"
        },
        "outputId": "27863a6f-bb77-43d5-e1ad-cbcafc916939",
        "id": "DbeO1lQT9gCU"
      },
      "outputs": [
        {
          "output_type": "execute_result",
          "data": {
            "text/plain": [
              "2.5130664765569164"
            ]
          },
          "metadata": {},
          "execution_count": 33
        }
      ],
      "source": [
        "rmse_train"
      ]
    },
    {
      "cell_type": "markdown",
      "metadata": {
        "id": "ILgmwd_n9gCU"
      },
      "source": [
        "### Representation of Actual VS Predicted"
      ]
    },
    {
      "cell_type": "code",
      "execution_count": null,
      "metadata": {
        "colab": {
          "base_uri": "https://localhost:8080/",
          "height": 313
        },
        "outputId": "46c16277-d811-48c6-ae39-b0d9f8d5f6cf",
        "id": "wR-9AJ5T9gCU"
      },
      "outputs": [
        {
          "output_type": "execute_result",
          "data": {
            "text/plain": [
              "[<matplotlib.lines.Line2D at 0x7fb517bf1f10>]"
            ]
          },
          "metadata": {},
          "execution_count": 34
        },
        {
          "output_type": "display_data",
          "data": {
            "text/plain": [
              "<Figure size 432x288 with 1 Axes>"
            ],
            "image/png": "[encoded data removed]"
          },
          "metadata": {
            "needs_background": "light"
          }
        }
      ],
      "source": [
        "# test data\n",
        "y_predict = mymodel.predict(X_test_poly)\n",
        "\n",
        "plt.xlabel('actual')\n",
        "plt.ylabel('predicted')\n",
        "plt.title('AQI')\n",
        "plt.scatter(y_test,y_predict, color='r')\n",
        "plt.plot(y_predict, y_predict)"
      ]
    },
    {
      "cell_type": "code",
      "execution_count": null,
      "metadata": {
        "colab": {
          "base_uri": "https://localhost:8080/",
          "height": 313
        },
        "outputId": "3a642452-6d6b-4a99-83a0-fc70daf59f24",
        "id": "o6ycG0t-9gCV"
      },
      "outputs": [
        {
          "output_type": "execute_result",
          "data": {
            "text/plain": [
              "[<matplotlib.lines.Line2D at 0x7fb5176ee950>]"
            ]
          },
          "metadata": {},
          "execution_count": 35
        },
        {
          "output_type": "display_data",
          "data": {
            "text/plain": [
              "<Figure size 432x288 with 1 Axes>"
            ],
            "image/png": "[encoded data removed]"
          },
          "metadata": {
            "needs_background": "light"
          }
        }
      ],
      "source": [
        "# train data\n",
        "y_predict = mymodel.predict(X_train_poly)\n",
        "\n",
        "plt.xlabel('actual')\n",
        "plt.ylabel('predicted')\n",
        "plt.title('AQI')\n",
        "plt.scatter(y_train,y_predict, color='r')\n",
        "plt.plot(y_predict, y_predict)"
      ]
    },
    {
      "cell_type": "markdown",
      "metadata": {
        "id": "u-RWzX7MQieK"
      },
      "source": [
        "\n",
        "<br>\n",
        "<br>\n",
        "<br>\n",
        "<br>\n",
        "\n",
        "\n",
        "# Predicting Quality of Air from AQI"
      ]
    },
    {
      "cell_type": "code",
      "execution_count": null,
      "metadata": {
        "id": "Y1eJA-lfKsL_"
      },
      "outputs": [],
      "source": [
        "conditions = [\n",
        "    (df['AQI'] <= 50),\n",
        "    (df['AQI'] > 50) & (df['AQI'] <= 100),\n",
        "    (df['AQI'] > 100) & (df['AQI'] <= 200),\n",
        "    (df['AQI'] > 200) & (df['AQI'] <= 300),\n",
        "    (df['AQI'] > 300) & (df['AQI'] <= 400),\n",
        "    (df['AQI'] > 400) & (df['AQI'] <= 500)\n",
        "    \n",
        "    ]\n",
        "\n",
        "values = ['GOOD', 'SATISFACTORY', 'MODERATE', 'POOR', 'VERY POOR','SEVERE']\n",
        "\n",
        "df['Quality of Air'] = np.select(conditions, values)"
      ]
    },
    {
      "cell_type": "code",
      "execution_count": null,
      "metadata": {
        "colab": {
          "base_uri": "https://localhost:8080/",
          "height": 455
        },
        "id": "xnw4nb2xQERx",
        "outputId": "7d1b89dd-a26e-45c9-866f-365a563cd3d0"
      },
      "outputs": [
        {
          "output_type": "execute_result",
          "data": {
            "text/plain": [
              "              PM10     NO2    SO2   Ozone   Temp     RH    WS       AQI  \\\n",
              "Date                                                                      \n",
              "2016-03-30  128.32   47.91  73.43  104.06  42.10  17.98  0.72  118.8809   \n",
              "2016-03-31   93.64   26.55  20.75  103.50  42.46  16.17  0.62  105.1471   \n",
              "2016-04-01  116.14   98.96  13.53   31.39  38.07  17.97  0.53  118.9600   \n",
              "2016-04-02  136.36  117.28  13.11   44.69  37.27  21.58  0.56  137.2800   \n",
              "2016-04-03  147.09   84.06  16.81   27.49  33.12  34.27  0.45  131.3949   \n",
              "...            ...     ...    ...     ...    ...    ...   ...       ...   \n",
              "2021-12-26  100.27   27.17   8.66   50.72  21.97  67.35  0.41  100.1800   \n",
              "2021-12-27  120.54   27.38  16.76   50.63  22.38  67.90  0.40  113.6940   \n",
              "2021-12-28   97.83   27.20   9.48   50.62  21.82  68.52  0.50   97.8300   \n",
              "2021-12-29   56.17   27.42  13.73   50.64  21.29  66.60  0.54   56.1700   \n",
              "2021-12-30   71.20   27.20  13.48   50.76  20.91  65.20  0.88   71.2000   \n",
              "\n",
              "                           date Quality of Air  \n",
              "Date                                            \n",
              "2016-03-30  30-Mar-2016 - 00:00       MODERATE  \n",
              "2016-03-31  31-Mar-2016 - 00:00       MODERATE  \n",
              "2016-04-01  01-Apr-2016 - 00:00       MODERATE  \n",
              "2016-04-02  02-Apr-2016 - 00:00       MODERATE  \n",
              "2016-04-03  03-Apr-2016 - 00:00       MODERATE  \n",
              "...                         ...            ...  \n",
              "2021-12-26  26-Dec-2021 - 00:00       MODERATE  \n",
              "2021-12-27  27-Dec-2021 - 00:00       MODERATE  \n",
              "2021-12-28  28-Dec-2021 - 00:00   SATISFACTORY  \n",
              "2021-12-29  29-Dec-2021 - 00:00   SATISFACTORY  \n",
              "2021-12-30  30-Dec-2021 - 00:00   SATISFACTORY  \n",
              "\n",
              "[2064 rows x 10 columns]"
            ],
            "text/html": [
              "\n",
              "  <div id=\"df-f6124bb2-33a1-43ff-ad36-b1835da54349\">\n",
              "    <div class=\"colab-df-container\">\n",
              "      <div>\n",
              "<style scoped>\n",
              "    .dataframe tbody tr th:only-of-type {\n",
              "        vertical-align: middle;\n",
              "    }\n",
              "\n",
              "    .dataframe tbody tr th {\n",
              "        vertical-align: top;\n",
              "    }\n",
              "\n",
              "    .dataframe thead th {\n",
              "        text-align: right;\n",
              "    }\n",
              "</style>\n",
              "<table border=\"1\" class=\"dataframe\">\n",
              "  <thead>\n",
              "    <tr style=\"text-align: right;\">\n",
              "      <th></th>\n",
              "      <th>PM10</th>\n",
              "      <th>NO2</th>\n",
              "      <th>SO2</th>\n",
              "      <th>Ozone</th>\n",
              "      <th>Temp</th>\n",
              "      <th>RH</th>\n",
              "      <th>WS</th>\n",
              "      <th>AQI</th>\n",
              "      <th>date</th>\n",
              "      <th>Quality of Air</th>\n",
              "    </tr>\n",
              "    <tr>\n",
              "      <th>Date</th>\n",
              "      <th></th>\n",
              "      <th></th>\n",
              "      <th></th>\n",
              "      <th></th>\n",
              "      <th></th>\n",
              "      <th></th>\n",
              "      <th></th>\n",
              "      <th></th>\n",
              "      <th></th>\n",
              "      <th></th>\n",
              "    </tr>\n",
              "  </thead>\n",
              "  <tbody>\n",
              "    <tr>\n",
              "      <th>2016-03-30</th>\n",
              "      <td>128.32</td>\n",
              "      <td>47.91</td>\n",
              "      <td>73.43</td>\n",
              "      <td>104.06</td>\n",
              "      <td>42.10</td>\n",
              "      <td>17.98</td>\n",
              "      <td>0.72</td>\n",
              "      <td>118.8809</td>\n",
              "      <td>30-Mar-2016 - 00:00</td>\n",
              "      <td>MODERATE</td>\n",
              "    </tr>\n",
              "    <tr>\n",
              "      <th>2016-03-31</th>\n",
              "      <td>93.64</td>\n",
              "      <td>26.55</td>\n",
              "      <td>20.75</td>\n",
              "      <td>103.50</td>\n",
              "      <td>42.46</td>\n",
              "      <td>16.17</td>\n",
              "      <td>0.62</td>\n",
              "      <td>105.1471</td>\n",
              "      <td>31-Mar-2016 - 00:00</td>\n",
              "      <td>MODERATE</td>\n",
              "    </tr>\n",
              "    <tr>\n",
              "      <th>2016-04-01</th>\n",
              "      <td>116.14</td>\n",
              "      <td>98.96</td>\n",
              "      <td>13.53</td>\n",
              "      <td>31.39</td>\n",
              "      <td>38.07</td>\n",
              "      <td>17.97</td>\n",
              "      <td>0.53</td>\n",
              "      <td>118.9600</td>\n",
              "      <td>01-Apr-2016 - 00:00</td>\n",
              "      <td>MODERATE</td>\n",
              "    </tr>\n",
              "    <tr>\n",
              "      <th>2016-04-02</th>\n",
              "      <td>136.36</td>\n",
              "      <td>117.28</td>\n",
              "      <td>13.11</td>\n",
              "      <td>44.69</td>\n",
              "      <td>37.27</td>\n",
              "      <td>21.58</td>\n",
              "      <td>0.56</td>\n",
              "      <td>137.2800</td>\n",
              "      <td>02-Apr-2016 - 00:00</td>\n",
              "      <td>MODERATE</td>\n",
              "    </tr>\n",
              "    <tr>\n",
              "      <th>2016-04-03</th>\n",
              "      <td>147.09</td>\n",
              "      <td>84.06</td>\n",
              "      <td>16.81</td>\n",
              "      <td>27.49</td>\n",
              "      <td>33.12</td>\n",
              "      <td>34.27</td>\n",
              "      <td>0.45</td>\n",
              "      <td>131.3949</td>\n",
              "      <td>03-Apr-2016 - 00:00</td>\n",
              "      <td>MODERATE</td>\n",
              "    </tr>\n",
              "    <tr>\n",
              "      <th>...</th>\n",
              "      <td>...</td>\n",
              "      <td>...</td>\n",
              "      <td>...</td>\n",
              "      <td>...</td>\n",
              "      <td>...</td>\n",
              "      <td>...</td>\n",
              "      <td>...</td>\n",
              "      <td>...</td>\n",
              "      <td>...</td>\n",
              "      <td>...</td>\n",
              "    </tr>\n",
              "    <tr>\n",
              "      <th>2021-12-26</th>\n",
              "      <td>100.27</td>\n",
              "      <td>27.17</td>\n",
              "      <td>8.66</td>\n",
              "      <td>50.72</td>\n",
              "      <td>21.97</td>\n",
              "      <td>67.35</td>\n",
              "      <td>0.41</td>\n",
              "      <td>100.1800</td>\n",
              "      <td>26-Dec-2021 - 00:00</td>\n",
              "      <td>MODERATE</td>\n",
              "    </tr>\n",
              "    <tr>\n",
              "      <th>2021-12-27</th>\n",
              "      <td>120.54</td>\n",
              "      <td>27.38</td>\n",
              "      <td>16.76</td>\n",
              "      <td>50.63</td>\n",
              "      <td>22.38</td>\n",
              "      <td>67.90</td>\n",
              "      <td>0.40</td>\n",
              "      <td>113.6940</td>\n",
              "      <td>27-Dec-2021 - 00:00</td>\n",
              "      <td>MODERATE</td>\n",
              "    </tr>\n",
              "    <tr>\n",
              "      <th>2021-12-28</th>\n",
              "      <td>97.83</td>\n",
              "      <td>27.20</td>\n",
              "      <td>9.48</td>\n",
              "      <td>50.62</td>\n",
              "      <td>21.82</td>\n",
              "      <td>68.52</td>\n",
              "      <td>0.50</td>\n",
              "      <td>97.8300</td>\n",
              "      <td>28-Dec-2021 - 00:00</td>\n",
              "      <td>SATISFACTORY</td>\n",
              "    </tr>\n",
              "    <tr>\n",
              "      <th>2021-12-29</th>\n",
              "      <td>56.17</td>\n",
              "      <td>27.42</td>\n",
              "      <td>13.73</td>\n",
              "      <td>50.64</td>\n",
              "      <td>21.29</td>\n",
              "      <td>66.60</td>\n",
              "      <td>0.54</td>\n",
              "      <td>56.1700</td>\n",
              "      <td>29-Dec-2021 - 00:00</td>\n",
              "      <td>SATISFACTORY</td>\n",
              "    </tr>\n",
              "    <tr>\n",
              "      <th>2021-12-30</th>\n",
              "      <td>71.20</td>\n",
              "      <td>27.20</td>\n",
              "      <td>13.48</td>\n",
              "      <td>50.76</td>\n",
              "      <td>20.91</td>\n",
              "      <td>65.20</td>\n",
              "      <td>0.88</td>\n",
              "      <td>71.2000</td>\n",
              "      <td>30-Dec-2021 - 00:00</td>\n",
              "      <td>SATISFACTORY</td>\n",
              "    </tr>\n",
              "  </tbody>\n",
              "</table>\n",
              "<p>2064 rows × 10 columns</p>\n",
              "</div>\n",
              "      <button class=\"colab-df-convert\" onclick=\"convertToInteractive('df-f6124bb2-33a1-43ff-ad36-b1835da54349')\"\n",
              "              title=\"Convert this dataframe to an interactive table.\"\n",
              "              style=\"display:none;\">\n",
              "        \n",
              "  <svg xmlns=\"http://www.w3.org/2000/svg\" height=\"24px\"viewBox=\"0 0 24 24\"\n",
              "       width=\"24px\">\n",
              "    <path d=\"M0 0h24v24H0V0z\" fill=\"none\"/>\n",
              "    <path d=\"M18.56 5.44l.94 2.06.94-2.06 2.06-.94-2.06-.94-.94-2.06-.94 2.06-2.06.94zm-11 1L8.5 8.5l.94-2.06 2.06-.94-2.06-.94L8.5 2.5l-.94 2.06-2.06.94zm10 10l.94 2.06.94-2.06 2.06-.94-2.06-.94-.94-2.06-.94 2.06-2.06.94z\"/><path d=\"M17.41 7.96l-1.37-1.37c-.4-.4-.92-.59-1.43-.59-.52 0-1.04.2-1.43.59L10.3 9.45l-7.72 7.72c-.78.78-.78 2.05 0 2.83L4 21.41c.39.39.9.59 1.41.59.51 0 1.02-.2 1.41-.59l7.78-7.78 2.81-2.81c.8-.78.8-2.07 0-2.86zM5.41 20L4 18.59l7.72-7.72 1.47 1.35L5.41 20z\"/>\n",
              "  </svg>\n",
              "      </button>\n",
              "      \n",
              "  <style>\n",
              "    .colab-df-container {\n",
              "      display:flex;\n",
              "      flex-wrap:wrap;\n",
              "      gap: 12px;\n",
              "    }\n",
              "\n",
              "    .colab-df-convert {\n",
              "      background-color: #E8F0FE;\n",
              "      border: none;\n",
              "      border-radius: 50%;\n",
              "      cursor: pointer;\n",
              "      display: none;\n",
              "      fill: #1967D2;\n",
              "      height: 32px;\n",
              "      padding: 0 0 0 0;\n",
              "      width: 32px;\n",
              "    }\n",
              "\n",
              "    .colab-df-convert:hover {\n",
              "      background-color: #E2EBFA;\n",
              "      box-shadow: 0px 1px 2px rgba(60, 64, 67, 0.3), 0px 1px 3px 1px rgba(60, 64, 67, 0.15);\n",
              "      fill: #174EA6;\n",
              "    }\n",
              "\n",
              "    [theme=dark] .colab-df-convert {\n",
              "      background-color: #3B4455;\n",
              "      fill: #D2E3FC;\n",
              "    }\n",
              "\n",
              "    [theme=dark] .colab-df-convert:hover {\n",
              "      background-color: #434B5C;\n",
              "      box-shadow: 0px 1px 3px 1px rgba(0, 0, 0, 0.15);\n",
              "      filter: drop-shadow(0px 1px 2px rgba(0, 0, 0, 0.3));\n",
              "      fill: #FFFFFF;\n",
              "    }\n",
              "  </style>\n",
              "\n",
              "      <script>\n",
              "        const buttonEl =\n",
              "          document.querySelector('#df-f6124bb2-33a1-43ff-ad36-b1835da54349 button.colab-df-convert');\n",
              "        buttonEl.style.display =\n",
              "          google.colab.kernel.accessAllowed ? 'block' : 'none';\n",
              "\n",
              "        async function convertToInteractive(key) {\n",
              "          const element = document.querySelector('#df-f6124bb2-33a1-43ff-ad36-b1835da54349');\n",
              "          const dataTable =\n",
              "            await google.colab.kernel.invokeFunction('convertToInteractive',\n",
              "                                                     [key], {});\n",
              "          if (!dataTable) return;\n",
              "\n",
              "          const docLinkHtml = 'Like what you see? Visit the ' +\n",
              "            '<a target=\"_blank\" href=https://colab.research.google.com/notebooks/data_table.ipynb>data table notebook</a>'\n",
              "            + ' to learn more about interactive tables.';\n",
              "          element.innerHTML = '';\n",
              "          dataTable['output_type'] = 'display_data';\n",
              "          await google.colab.output.renderOutput(dataTable, element);\n",
              "          const docLink = document.createElement('div');\n",
              "          docLink.innerHTML = docLinkHtml;\n",
              "          element.appendChild(docLink);\n",
              "        }\n",
              "      </script>\n",
              "    </div>\n",
              "  </div>\n",
              "  "
            ]
          },
          "metadata": {},
          "execution_count": 105
        }
      ],
      "source": [
        "df"
      ]
    },
    {
      "cell_type": "code",
      "execution_count": null,
      "metadata": {
        "id": "emsYw6kaQ9AR"
      },
      "outputs": [],
      "source": [
        ""
      ]
    },
    {
      "cell_type": "code",
      "execution_count": null,
      "metadata": {
        "id": "0ntz1nbd9e_5"
      },
      "outputs": [],
      "source": [
        ""
      ]
    },
    {
      "cell_type": "code",
      "execution_count": null,
      "metadata": {
        "id": "kM3ls-OA9fCT"
      },
      "outputs": [],
      "source": [
        ""
      ]
    },
    {
      "cell_type": "code",
      "execution_count": null,
      "metadata": {
        "id": "YLuNKTsd9fE7"
      },
      "outputs": [],
      "source": [
        ""
      ]
    },
    {
      "cell_type": "code",
      "execution_count": null,
      "metadata": {
        "id": "yf6Y7t5c9fHx"
      },
      "outputs": [],
      "source": [
        ""
      ]
    },
    {
      "cell_type": "code",
      "source": [
        ""
      ],
      "metadata": {
        "id": "FZDvfPV6Oht2"
      },
      "execution_count": null,
      "outputs": []
    },
    {
      "cell_type": "code",
      "source": [
        ""
      ],
      "metadata": {
        "id": "DF9MfxzwOhwu"
      },
      "execution_count": null,
      "outputs": []
    },
    {
      "cell_type": "code",
      "source": [
        ""
      ],
      "metadata": {
        "id": "5Bsi0npfOh0L"
      },
      "execution_count": null,
      "outputs": []
    },
    {
      "cell_type": "code",
      "source": [
        ""
      ],
      "metadata": {
        "id": "fEkmHEvXOh3O"
      },
      "execution_count": null,
      "outputs": []
    },
    {
      "cell_type": "code",
      "source": [
        ""
      ],
      "metadata": {
        "id": "an9yFrGPOh6R"
      },
      "execution_count": null,
      "outputs": []
    },
    {
      "cell_type": "code",
      "source": [
        ""
      ],
      "metadata": {
        "id": "AOuF7-_7Oh8-"
      },
      "execution_count": null,
      "outputs": []
    },
    {
      "cell_type": "code",
      "source": [
        ""
      ],
      "metadata": {
        "id": "TmpHGeZvOiAX"
      },
      "execution_count": null,
      "outputs": []
    },
    {
      "cell_type": "code",
      "execution_count": null,
      "metadata": {
        "id": "WUITUNiC9fLM"
      },
      "outputs": [],
      "source": [
        ""
      ]
    }
  ]
}